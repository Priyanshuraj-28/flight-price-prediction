{
 "cells": [
  {
   "cell_type": "markdown",
   "id": "5ee157e7",
   "metadata": {},
   "source": [
    "### Import libraries"
   ]
  },
  {
   "cell_type": "code",
   "execution_count": 411,
   "id": "721e9b3c",
   "metadata": {},
   "outputs": [],
   "source": [
    "import numpy as np\n",
    "import pandas as pd\n",
    "import seaborn as sns\n",
    "import matplotlib.pyplot as plt"
   ]
  },
  {
   "cell_type": "code",
   "execution_count": 412,
   "id": "1d18d92f",
   "metadata": {},
   "outputs": [],
   "source": [
    "import warnings\n",
    "warnings.filterwarnings('ignore')"
   ]
  },
  {
   "cell_type": "markdown",
   "id": "dcb93143",
   "metadata": {},
   "source": [
    "### Load dataset"
   ]
  },
  {
   "cell_type": "code",
   "execution_count": 413,
   "id": "56d57a6f",
   "metadata": {},
   "outputs": [],
   "source": [
    "data_train = pd.read_excel('Data_Train.xlsx')\n",
    "data_test = pd.read_excel('Test_set.xlsx')\n",
    "data_submission = pd.read_excel('Sample_submission.xlsx')"
   ]
  },
  {
   "cell_type": "code",
   "execution_count": 414,
   "id": "a7fcb4d5",
   "metadata": {},
   "outputs": [
    {
     "data": {
      "text/plain": [
       "(10683, 11)"
      ]
     },
     "execution_count": 414,
     "metadata": {},
     "output_type": "execute_result"
    }
   ],
   "source": [
    "data_train.shape"
   ]
  },
  {
   "cell_type": "code",
   "execution_count": 415,
   "id": "782d6eea",
   "metadata": {},
   "outputs": [
    {
     "data": {
      "text/html": [
       "<div>\n",
       "<style scoped>\n",
       "    .dataframe tbody tr th:only-of-type {\n",
       "        vertical-align: middle;\n",
       "    }\n",
       "\n",
       "    .dataframe tbody tr th {\n",
       "        vertical-align: top;\n",
       "    }\n",
       "\n",
       "    .dataframe thead th {\n",
       "        text-align: right;\n",
       "    }\n",
       "</style>\n",
       "<table border=\"1\" class=\"dataframe\">\n",
       "  <thead>\n",
       "    <tr style=\"text-align: right;\">\n",
       "      <th></th>\n",
       "      <th>Airline</th>\n",
       "      <th>Date_of_Journey</th>\n",
       "      <th>Source</th>\n",
       "      <th>Destination</th>\n",
       "      <th>Route</th>\n",
       "      <th>Dep_Time</th>\n",
       "      <th>Arrival_Time</th>\n",
       "      <th>Duration</th>\n",
       "      <th>Total_Stops</th>\n",
       "      <th>Additional_Info</th>\n",
       "      <th>Price</th>\n",
       "    </tr>\n",
       "  </thead>\n",
       "  <tbody>\n",
       "    <tr>\n",
       "      <th>0</th>\n",
       "      <td>IndiGo</td>\n",
       "      <td>24/03/2019</td>\n",
       "      <td>Banglore</td>\n",
       "      <td>New Delhi</td>\n",
       "      <td>BLR → DEL</td>\n",
       "      <td>22:20</td>\n",
       "      <td>01:10 22 Mar</td>\n",
       "      <td>2h 50m</td>\n",
       "      <td>non-stop</td>\n",
       "      <td>No info</td>\n",
       "      <td>3897</td>\n",
       "    </tr>\n",
       "    <tr>\n",
       "      <th>1</th>\n",
       "      <td>Air India</td>\n",
       "      <td>1/05/2019</td>\n",
       "      <td>Kolkata</td>\n",
       "      <td>Banglore</td>\n",
       "      <td>CCU → IXR → BBI → BLR</td>\n",
       "      <td>05:50</td>\n",
       "      <td>13:15</td>\n",
       "      <td>7h 25m</td>\n",
       "      <td>2 stops</td>\n",
       "      <td>No info</td>\n",
       "      <td>7662</td>\n",
       "    </tr>\n",
       "    <tr>\n",
       "      <th>2</th>\n",
       "      <td>Jet Airways</td>\n",
       "      <td>9/06/2019</td>\n",
       "      <td>Delhi</td>\n",
       "      <td>Cochin</td>\n",
       "      <td>DEL → LKO → BOM → COK</td>\n",
       "      <td>09:25</td>\n",
       "      <td>04:25 10 Jun</td>\n",
       "      <td>19h</td>\n",
       "      <td>2 stops</td>\n",
       "      <td>No info</td>\n",
       "      <td>13882</td>\n",
       "    </tr>\n",
       "    <tr>\n",
       "      <th>3</th>\n",
       "      <td>IndiGo</td>\n",
       "      <td>12/05/2019</td>\n",
       "      <td>Kolkata</td>\n",
       "      <td>Banglore</td>\n",
       "      <td>CCU → NAG → BLR</td>\n",
       "      <td>18:05</td>\n",
       "      <td>23:30</td>\n",
       "      <td>5h 25m</td>\n",
       "      <td>1 stop</td>\n",
       "      <td>No info</td>\n",
       "      <td>6218</td>\n",
       "    </tr>\n",
       "    <tr>\n",
       "      <th>4</th>\n",
       "      <td>IndiGo</td>\n",
       "      <td>01/03/2019</td>\n",
       "      <td>Banglore</td>\n",
       "      <td>New Delhi</td>\n",
       "      <td>BLR → NAG → DEL</td>\n",
       "      <td>16:50</td>\n",
       "      <td>21:35</td>\n",
       "      <td>4h 45m</td>\n",
       "      <td>1 stop</td>\n",
       "      <td>No info</td>\n",
       "      <td>13302</td>\n",
       "    </tr>\n",
       "  </tbody>\n",
       "</table>\n",
       "</div>"
      ],
      "text/plain": [
       "       Airline Date_of_Journey    Source Destination                  Route  \\\n",
       "0       IndiGo      24/03/2019  Banglore   New Delhi              BLR → DEL   \n",
       "1    Air India       1/05/2019   Kolkata    Banglore  CCU → IXR → BBI → BLR   \n",
       "2  Jet Airways       9/06/2019     Delhi      Cochin  DEL → LKO → BOM → COK   \n",
       "3       IndiGo      12/05/2019   Kolkata    Banglore        CCU → NAG → BLR   \n",
       "4       IndiGo      01/03/2019  Banglore   New Delhi        BLR → NAG → DEL   \n",
       "\n",
       "  Dep_Time  Arrival_Time Duration Total_Stops Additional_Info  Price  \n",
       "0    22:20  01:10 22 Mar   2h 50m    non-stop         No info   3897  \n",
       "1    05:50         13:15   7h 25m     2 stops         No info   7662  \n",
       "2    09:25  04:25 10 Jun      19h     2 stops         No info  13882  \n",
       "3    18:05         23:30   5h 25m      1 stop         No info   6218  \n",
       "4    16:50         21:35   4h 45m      1 stop         No info  13302  "
      ]
     },
     "execution_count": 415,
     "metadata": {},
     "output_type": "execute_result"
    }
   ],
   "source": [
    "data_train.head()"
   ]
  },
  {
   "cell_type": "code",
   "execution_count": 416,
   "id": "19b0baf7",
   "metadata": {},
   "outputs": [
    {
     "data": {
      "text/html": [
       "<div>\n",
       "<style scoped>\n",
       "    .dataframe tbody tr th:only-of-type {\n",
       "        vertical-align: middle;\n",
       "    }\n",
       "\n",
       "    .dataframe tbody tr th {\n",
       "        vertical-align: top;\n",
       "    }\n",
       "\n",
       "    .dataframe thead th {\n",
       "        text-align: right;\n",
       "    }\n",
       "</style>\n",
       "<table border=\"1\" class=\"dataframe\">\n",
       "  <thead>\n",
       "    <tr style=\"text-align: right;\">\n",
       "      <th></th>\n",
       "      <th>Airline</th>\n",
       "      <th>Date_of_Journey</th>\n",
       "      <th>Source</th>\n",
       "      <th>Destination</th>\n",
       "      <th>Route</th>\n",
       "      <th>Dep_Time</th>\n",
       "      <th>Arrival_Time</th>\n",
       "      <th>Duration</th>\n",
       "      <th>Total_Stops</th>\n",
       "      <th>Additional_Info</th>\n",
       "    </tr>\n",
       "  </thead>\n",
       "  <tbody>\n",
       "    <tr>\n",
       "      <th>0</th>\n",
       "      <td>Jet Airways</td>\n",
       "      <td>6/06/2019</td>\n",
       "      <td>Delhi</td>\n",
       "      <td>Cochin</td>\n",
       "      <td>DEL → BOM → COK</td>\n",
       "      <td>17:30</td>\n",
       "      <td>04:25 07 Jun</td>\n",
       "      <td>10h 55m</td>\n",
       "      <td>1 stop</td>\n",
       "      <td>No info</td>\n",
       "    </tr>\n",
       "    <tr>\n",
       "      <th>1</th>\n",
       "      <td>IndiGo</td>\n",
       "      <td>12/05/2019</td>\n",
       "      <td>Kolkata</td>\n",
       "      <td>Banglore</td>\n",
       "      <td>CCU → MAA → BLR</td>\n",
       "      <td>06:20</td>\n",
       "      <td>10:20</td>\n",
       "      <td>4h</td>\n",
       "      <td>1 stop</td>\n",
       "      <td>No info</td>\n",
       "    </tr>\n",
       "    <tr>\n",
       "      <th>2</th>\n",
       "      <td>Jet Airways</td>\n",
       "      <td>21/05/2019</td>\n",
       "      <td>Delhi</td>\n",
       "      <td>Cochin</td>\n",
       "      <td>DEL → BOM → COK</td>\n",
       "      <td>19:15</td>\n",
       "      <td>19:00 22 May</td>\n",
       "      <td>23h 45m</td>\n",
       "      <td>1 stop</td>\n",
       "      <td>In-flight meal not included</td>\n",
       "    </tr>\n",
       "    <tr>\n",
       "      <th>3</th>\n",
       "      <td>Multiple carriers</td>\n",
       "      <td>21/05/2019</td>\n",
       "      <td>Delhi</td>\n",
       "      <td>Cochin</td>\n",
       "      <td>DEL → BOM → COK</td>\n",
       "      <td>08:00</td>\n",
       "      <td>21:00</td>\n",
       "      <td>13h</td>\n",
       "      <td>1 stop</td>\n",
       "      <td>No info</td>\n",
       "    </tr>\n",
       "    <tr>\n",
       "      <th>4</th>\n",
       "      <td>Air Asia</td>\n",
       "      <td>24/06/2019</td>\n",
       "      <td>Banglore</td>\n",
       "      <td>Delhi</td>\n",
       "      <td>BLR → DEL</td>\n",
       "      <td>23:55</td>\n",
       "      <td>02:45 25 Jun</td>\n",
       "      <td>2h 50m</td>\n",
       "      <td>non-stop</td>\n",
       "      <td>No info</td>\n",
       "    </tr>\n",
       "  </tbody>\n",
       "</table>\n",
       "</div>"
      ],
      "text/plain": [
       "             Airline Date_of_Journey    Source Destination            Route  \\\n",
       "0        Jet Airways       6/06/2019     Delhi      Cochin  DEL → BOM → COK   \n",
       "1             IndiGo      12/05/2019   Kolkata    Banglore  CCU → MAA → BLR   \n",
       "2        Jet Airways      21/05/2019     Delhi      Cochin  DEL → BOM → COK   \n",
       "3  Multiple carriers      21/05/2019     Delhi      Cochin  DEL → BOM → COK   \n",
       "4           Air Asia      24/06/2019  Banglore       Delhi        BLR → DEL   \n",
       "\n",
       "  Dep_Time  Arrival_Time Duration Total_Stops              Additional_Info  \n",
       "0    17:30  04:25 07 Jun  10h 55m      1 stop                      No info  \n",
       "1    06:20         10:20       4h      1 stop                      No info  \n",
       "2    19:15  19:00 22 May  23h 45m      1 stop  In-flight meal not included  \n",
       "3    08:00         21:00      13h      1 stop                      No info  \n",
       "4    23:55  02:45 25 Jun   2h 50m    non-stop                      No info  "
      ]
     },
     "execution_count": 416,
     "metadata": {},
     "output_type": "execute_result"
    }
   ],
   "source": [
    "data_test.head()"
   ]
  },
  {
   "cell_type": "code",
   "execution_count": 417,
   "id": "2da59200",
   "metadata": {},
   "outputs": [
    {
     "data": {
      "text/html": [
       "<div>\n",
       "<style scoped>\n",
       "    .dataframe tbody tr th:only-of-type {\n",
       "        vertical-align: middle;\n",
       "    }\n",
       "\n",
       "    .dataframe tbody tr th {\n",
       "        vertical-align: top;\n",
       "    }\n",
       "\n",
       "    .dataframe thead th {\n",
       "        text-align: right;\n",
       "    }\n",
       "</style>\n",
       "<table border=\"1\" class=\"dataframe\">\n",
       "  <thead>\n",
       "    <tr style=\"text-align: right;\">\n",
       "      <th></th>\n",
       "      <th>Price</th>\n",
       "    </tr>\n",
       "  </thead>\n",
       "  <tbody>\n",
       "    <tr>\n",
       "      <th>0</th>\n",
       "      <td>15998</td>\n",
       "    </tr>\n",
       "    <tr>\n",
       "      <th>1</th>\n",
       "      <td>16612</td>\n",
       "    </tr>\n",
       "    <tr>\n",
       "      <th>2</th>\n",
       "      <td>25572</td>\n",
       "    </tr>\n",
       "    <tr>\n",
       "      <th>3</th>\n",
       "      <td>25778</td>\n",
       "    </tr>\n",
       "    <tr>\n",
       "      <th>4</th>\n",
       "      <td>16934</td>\n",
       "    </tr>\n",
       "  </tbody>\n",
       "</table>\n",
       "</div>"
      ],
      "text/plain": [
       "   Price\n",
       "0  15998\n",
       "1  16612\n",
       "2  25572\n",
       "3  25778\n",
       "4  16934"
      ]
     },
     "execution_count": 417,
     "metadata": {},
     "output_type": "execute_result"
    }
   ],
   "source": [
    "data_submission.head()"
   ]
  },
  {
   "cell_type": "markdown",
   "id": "5e47b5f0",
   "metadata": {},
   "source": [
    "### EDA"
   ]
  },
  {
   "cell_type": "code",
   "execution_count": 418,
   "id": "9d24d292",
   "metadata": {},
   "outputs": [
    {
     "name": "stdout",
     "output_type": "stream",
     "text": [
      "<class 'pandas.core.frame.DataFrame'>\n",
      "RangeIndex: 10683 entries, 0 to 10682\n",
      "Data columns (total 11 columns):\n",
      " #   Column           Non-Null Count  Dtype \n",
      "---  ------           --------------  ----- \n",
      " 0   Airline          10683 non-null  object\n",
      " 1   Date_of_Journey  10683 non-null  object\n",
      " 2   Source           10683 non-null  object\n",
      " 3   Destination      10683 non-null  object\n",
      " 4   Route            10682 non-null  object\n",
      " 5   Dep_Time         10683 non-null  object\n",
      " 6   Arrival_Time     10683 non-null  object\n",
      " 7   Duration         10683 non-null  object\n",
      " 8   Total_Stops      10682 non-null  object\n",
      " 9   Additional_Info  10683 non-null  object\n",
      " 10  Price            10683 non-null  int64 \n",
      "dtypes: int64(1), object(10)\n",
      "memory usage: 918.2+ KB\n"
     ]
    }
   ],
   "source": [
    "data_train.info()"
   ]
  },
  {
   "cell_type": "code",
   "execution_count": 419,
   "id": "d99e2f8a",
   "metadata": {},
   "outputs": [
    {
     "data": {
      "text/html": [
       "<div>\n",
       "<style scoped>\n",
       "    .dataframe tbody tr th:only-of-type {\n",
       "        vertical-align: middle;\n",
       "    }\n",
       "\n",
       "    .dataframe tbody tr th {\n",
       "        vertical-align: top;\n",
       "    }\n",
       "\n",
       "    .dataframe thead th {\n",
       "        text-align: right;\n",
       "    }\n",
       "</style>\n",
       "<table border=\"1\" class=\"dataframe\">\n",
       "  <thead>\n",
       "    <tr style=\"text-align: right;\">\n",
       "      <th></th>\n",
       "      <th>count</th>\n",
       "      <th>mean</th>\n",
       "      <th>std</th>\n",
       "      <th>min</th>\n",
       "      <th>25%</th>\n",
       "      <th>50%</th>\n",
       "      <th>75%</th>\n",
       "      <th>max</th>\n",
       "    </tr>\n",
       "  </thead>\n",
       "  <tbody>\n",
       "    <tr>\n",
       "      <th>Price</th>\n",
       "      <td>10683.0</td>\n",
       "      <td>9087.064121</td>\n",
       "      <td>4611.359167</td>\n",
       "      <td>1759.0</td>\n",
       "      <td>5277.0</td>\n",
       "      <td>8372.0</td>\n",
       "      <td>12373.0</td>\n",
       "      <td>79512.0</td>\n",
       "    </tr>\n",
       "  </tbody>\n",
       "</table>\n",
       "</div>"
      ],
      "text/plain": [
       "         count         mean          std     min     25%     50%      75%  \\\n",
       "Price  10683.0  9087.064121  4611.359167  1759.0  5277.0  8372.0  12373.0   \n",
       "\n",
       "           max  \n",
       "Price  79512.0  "
      ]
     },
     "execution_count": 419,
     "metadata": {},
     "output_type": "execute_result"
    }
   ],
   "source": [
    "data_train.describe().T"
   ]
  },
  {
   "cell_type": "code",
   "execution_count": 420,
   "id": "ab764706",
   "metadata": {},
   "outputs": [
    {
     "data": {
      "text/html": [
       "<div>\n",
       "<style scoped>\n",
       "    .dataframe tbody tr th:only-of-type {\n",
       "        vertical-align: middle;\n",
       "    }\n",
       "\n",
       "    .dataframe tbody tr th {\n",
       "        vertical-align: top;\n",
       "    }\n",
       "\n",
       "    .dataframe thead th {\n",
       "        text-align: right;\n",
       "    }\n",
       "</style>\n",
       "<table border=\"1\" class=\"dataframe\">\n",
       "  <thead>\n",
       "    <tr style=\"text-align: right;\">\n",
       "      <th></th>\n",
       "      <th>count</th>\n",
       "      <th>unique</th>\n",
       "      <th>top</th>\n",
       "      <th>freq</th>\n",
       "    </tr>\n",
       "  </thead>\n",
       "  <tbody>\n",
       "    <tr>\n",
       "      <th>Airline</th>\n",
       "      <td>10683</td>\n",
       "      <td>12</td>\n",
       "      <td>Jet Airways</td>\n",
       "      <td>3849</td>\n",
       "    </tr>\n",
       "    <tr>\n",
       "      <th>Date_of_Journey</th>\n",
       "      <td>10683</td>\n",
       "      <td>44</td>\n",
       "      <td>18/05/2019</td>\n",
       "      <td>504</td>\n",
       "    </tr>\n",
       "    <tr>\n",
       "      <th>Source</th>\n",
       "      <td>10683</td>\n",
       "      <td>5</td>\n",
       "      <td>Delhi</td>\n",
       "      <td>4537</td>\n",
       "    </tr>\n",
       "    <tr>\n",
       "      <th>Destination</th>\n",
       "      <td>10683</td>\n",
       "      <td>6</td>\n",
       "      <td>Cochin</td>\n",
       "      <td>4537</td>\n",
       "    </tr>\n",
       "    <tr>\n",
       "      <th>Route</th>\n",
       "      <td>10682</td>\n",
       "      <td>128</td>\n",
       "      <td>DEL → BOM → COK</td>\n",
       "      <td>2376</td>\n",
       "    </tr>\n",
       "    <tr>\n",
       "      <th>Dep_Time</th>\n",
       "      <td>10683</td>\n",
       "      <td>222</td>\n",
       "      <td>18:55</td>\n",
       "      <td>233</td>\n",
       "    </tr>\n",
       "    <tr>\n",
       "      <th>Arrival_Time</th>\n",
       "      <td>10683</td>\n",
       "      <td>1343</td>\n",
       "      <td>19:00</td>\n",
       "      <td>423</td>\n",
       "    </tr>\n",
       "    <tr>\n",
       "      <th>Duration</th>\n",
       "      <td>10683</td>\n",
       "      <td>368</td>\n",
       "      <td>2h 50m</td>\n",
       "      <td>550</td>\n",
       "    </tr>\n",
       "    <tr>\n",
       "      <th>Total_Stops</th>\n",
       "      <td>10682</td>\n",
       "      <td>5</td>\n",
       "      <td>1 stop</td>\n",
       "      <td>5625</td>\n",
       "    </tr>\n",
       "    <tr>\n",
       "      <th>Additional_Info</th>\n",
       "      <td>10683</td>\n",
       "      <td>10</td>\n",
       "      <td>No info</td>\n",
       "      <td>8345</td>\n",
       "    </tr>\n",
       "  </tbody>\n",
       "</table>\n",
       "</div>"
      ],
      "text/plain": [
       "                 count unique              top  freq\n",
       "Airline          10683     12      Jet Airways  3849\n",
       "Date_of_Journey  10683     44       18/05/2019   504\n",
       "Source           10683      5            Delhi  4537\n",
       "Destination      10683      6           Cochin  4537\n",
       "Route            10682    128  DEL → BOM → COK  2376\n",
       "Dep_Time         10683    222            18:55   233\n",
       "Arrival_Time     10683   1343            19:00   423\n",
       "Duration         10683    368           2h 50m   550\n",
       "Total_Stops      10682      5           1 stop  5625\n",
       "Additional_Info  10683     10          No info  8345"
      ]
     },
     "execution_count": 420,
     "metadata": {},
     "output_type": "execute_result"
    }
   ],
   "source": [
    "data_train.describe(include = object).T"
   ]
  },
  {
   "cell_type": "markdown",
   "id": "d1c67168",
   "metadata": {},
   "source": [
    "#### Inferences:\n",
    "- There is one record missing in routes and total stops.\n",
    "- Out of 12 unique airlines Jet airways is more frequent.\n",
    "- For most of the airlines source is delhi and destination is cochin.\n",
    "- Most frequent route is del -> Bom -> Cok\n",
    "- Most of the flights have 1 stop."
   ]
  },
  {
   "cell_type": "code",
   "execution_count": 421,
   "id": "7304bf55",
   "metadata": {},
   "outputs": [],
   "source": [
    "# Visualization"
   ]
  },
  {
   "cell_type": "code",
   "execution_count": 422,
   "id": "7e10449d",
   "metadata": {},
   "outputs": [
    {
     "data": {
      "image/png": "[encoded data removed]",
      "text/plain": [
       "<Figure size 1080x1224 with 5 Axes>"
      ]
     },
     "metadata": {
      "needs_background": "light"
     },
     "output_type": "display_data"
    }
   ],
   "source": [
    "t=1\n",
    "plt.figure(figsize=(15,17))\n",
    "for i in ['Airline','Source','Destination','Total_Stops','Additional_Info']:\n",
    "    plt.subplot(3,2,t)\n",
    "    sns.countplot(x=data_train[i],order=data_train[i].value_counts().index)\n",
    "    plt.xticks(rotation=90)\n",
    "    t+=1\n",
    "plt.tight_layout()\n",
    "plt.show()"
   ]
  },
  {
   "cell_type": "markdown",
   "id": "480f8d0a",
   "metadata": {},
   "source": [
    "#### Key observations\n",
    "- There is duplicate category in destination delhi and new delhi.\n",
    "- There is duplicate category in Additional_info No info and No Info."
   ]
  },
  {
   "cell_type": "markdown",
   "id": "76bc4bbe",
   "metadata": {},
   "source": [
    "- Jet airways have most number of flights.\n",
    "- Mostly flight departures are from Delhi.\n",
    "- Most flight arrivals are for Cochin.\n",
    "- Most flights have either with only 1 stop or no stop."
   ]
  },
  {
   "cell_type": "code",
   "execution_count": 423,
   "id": "ae93dc12",
   "metadata": {},
   "outputs": [
    {
     "data": {
      "text/plain": [
       "DEL → BOM → COK    2376\n",
       "BLR → DEL          1552\n",
       "CCU → BOM → BLR     979\n",
       "CCU → BLR           724\n",
       "BOM → HYD           621\n",
       "Name: Route, dtype: int64"
      ]
     },
     "execution_count": 423,
     "metadata": {},
     "output_type": "execute_result"
    }
   ],
   "source": [
    "# let's explore routes\n",
    "data_train['Route'].value_counts().head(5)"
   ]
  },
  {
   "cell_type": "code",
   "execution_count": 424,
   "id": "1912f11a",
   "metadata": {},
   "outputs": [
    {
     "data": {
      "text/plain": [
       "0.5852288682954226"
      ]
     },
     "execution_count": 424,
     "metadata": {},
     "output_type": "execute_result"
    }
   ],
   "source": [
    "# These 5 routes covers 58% of total flight routes\n",
    "data_train['Route'].value_counts().head(5).sum()/data_train.shape[0]"
   ]
  },
  {
   "cell_type": "code",
   "execution_count": 425,
   "id": "93999f84",
   "metadata": {},
   "outputs": [
    {
     "data": {
      "image/png": "[encoded data removed]",
      "text/plain": [
       "<Figure size 432x288 with 1 Axes>"
      ]
     },
     "metadata": {
      "needs_background": "light"
     },
     "output_type": "display_data"
    }
   ],
   "source": [
    "# Visualize the top 5 routes\n",
    "data_train['Route'].value_counts().head(5).plot(kind='bar')\n",
    "plt.show()"
   ]
  },
  {
   "cell_type": "code",
   "execution_count": 426,
   "id": "93150569",
   "metadata": {},
   "outputs": [
    {
     "data": {
      "text/plain": [
       "<AxesSubplot:>"
      ]
     },
     "execution_count": 426,
     "metadata": {},
     "output_type": "execute_result"
    },
    {
     "data": {
      "image/png": "[encoded data removed]",
      "text/plain": [
       "<Figure size 432x288 with 1 Axes>"
      ]
     },
     "metadata": {
      "needs_background": "light"
     },
     "output_type": "display_data"
    }
   ],
   "source": [
    "# Let'explore price column list.(for outliers detection)\n",
    "sns.boxplot(data_train['Price'])"
   ]
  },
  {
   "cell_type": "code",
   "execution_count": 427,
   "id": "317c63b1",
   "metadata": {},
   "outputs": [
    {
     "data": {
      "text/plain": [
       "<AxesSubplot:xlabel='Price', ylabel='Density'>"
      ]
     },
     "execution_count": 427,
     "metadata": {},
     "output_type": "execute_result"
    },
    {
     "data": {
      "image/png": "[encoded data removed]",
      "text/plain": [
       "<Figure size 432x288 with 1 Axes>"
      ]
     },
     "metadata": {
      "needs_background": "light"
     },
     "output_type": "display_data"
    }
   ],
   "source": [
    "# Let'explore price column list.(distribution and skewness)\n",
    "sns.distplot(data_train['Price'])"
   ]
  },
  {
   "cell_type": "markdown",
   "id": "d55d0cae",
   "metadata": {},
   "source": [
    "### Bivariate Analysis"
   ]
  },
  {
   "cell_type": "code",
   "execution_count": 428,
   "id": "22069861",
   "metadata": {},
   "outputs": [
    {
     "data": {
      "image/png": "[encoded data removed]",
      "text/plain": [
       "<Figure size 432x288 with 1 Axes>"
      ]
     },
     "metadata": {
      "needs_background": "light"
     },
     "output_type": "display_data"
    }
   ],
   "source": [
    "# Let's explore effect of airline on price\n",
    "\n",
    "sns.boxplot(x=data_train['Airline'],y=data_train['Price'])\n",
    "plt.xticks(rotation=90)\n",
    "plt.show()"
   ]
  },
  {
   "cell_type": "code",
   "execution_count": 429,
   "id": "8339649f",
   "metadata": {},
   "outputs": [],
   "source": [
    "# Airline vs price (Anova, Kruskal-Wallis)"
   ]
  },
  {
   "cell_type": "code",
   "execution_count": 430,
   "id": "8429baa0",
   "metadata": {},
   "outputs": [],
   "source": [
    "from scipy.stats import shapiro,jarque_bera,kruskal"
   ]
  },
  {
   "cell_type": "code",
   "execution_count": 431,
   "id": "dc47c90d",
   "metadata": {},
   "outputs": [
    {
     "data": {
      "text/plain": [
       "ShapiroResult(statistic=0.8955879270329227, pvalue=1.5116289695144164e-64)"
      ]
     },
     "execution_count": 431,
     "metadata": {},
     "output_type": "execute_result"
    }
   ],
   "source": [
    "# Asssumption 1 : The \n",
    "\n",
    "# H0 : The data is normal\n",
    "# Ha : The data is not normal\n",
    "shapiro(data_train['Price'])"
   ]
  },
  {
   "cell_type": "code",
   "execution_count": 432,
   "id": "9499e5c7",
   "metadata": {},
   "outputs": [
    {
     "data": {
      "text/plain": [
       "SignificanceResult(statistic=84545.14317610116, pvalue=0.0)"
      ]
     },
     "execution_count": 432,
     "metadata": {},
     "output_type": "execute_result"
    }
   ],
   "source": [
    "# Asssumption 1 : The \n",
    "\n",
    "# H0 : The data is normal\n",
    "# Ha : The data is not normal\n",
    "jarque_bera(data_train['Price'])"
   ]
  },
  {
   "cell_type": "code",
   "execution_count": 433,
   "id": "6adcf50c",
   "metadata": {},
   "outputs": [],
   "source": [
    "# The data is not normal"
   ]
  },
  {
   "cell_type": "code",
   "execution_count": 434,
   "id": "2ef8f227",
   "metadata": {},
   "outputs": [
    {
     "data": {
      "text/plain": [
       "array(['IndiGo', 'Air India', 'Jet Airways', 'SpiceJet',\n",
       "       'Multiple carriers', 'GoAir', 'Vistara', 'Air Asia',\n",
       "       'Vistara Premium economy', 'Jet Airways Business',\n",
       "       'Multiple carriers Premium economy', 'Trujet'], dtype=object)"
      ]
     },
     "execution_count": 434,
     "metadata": {},
     "output_type": "execute_result"
    }
   ],
   "source": [
    "data_train['Airline'].unique()"
   ]
  },
  {
   "cell_type": "code",
   "execution_count": 435,
   "id": "76ee3808",
   "metadata": {},
   "outputs": [
    {
     "name": "stdout",
     "output_type": "stream",
     "text": [
      "KruskalResult(statistic=4870.593769019019, pvalue=0.0)\n"
     ]
    }
   ],
   "source": [
    "# We have to go with non-parametric test Krushal walls\n",
    "# H0 : Airline has no effect on price\n",
    "# Ha : Airline has effect on price\n",
    "li=[]\n",
    "for i in data_train['Airline'].unique():\n",
    "    s = data_train[data_train['Airline']==i]['Price']\n",
    "    li.append(s)\n",
    "print(kruskal(li[0],li[1],li[2],li[3],li[4],li[5],li[6],li[7],li[8],li[9],li[10],li[11]))"
   ]
  },
  {
   "cell_type": "code",
   "execution_count": 436,
   "id": "67bec459",
   "metadata": {},
   "outputs": [
    {
     "data": {
      "image/png": "[encoded data removed]",
      "text/plain": [
       "<Figure size 432x288 with 1 Axes>"
      ]
     },
     "metadata": {
      "needs_background": "light"
     },
     "output_type": "display_data"
    }
   ],
   "source": [
    "# Let's explore effect of total_stopson price\n",
    "sns.boxplot(x=data_train['Total_Stops'],y=data_train['Price'])\n",
    "plt.xticks(rotation = 30)\n",
    "plt.show()"
   ]
  },
  {
   "cell_type": "code",
   "execution_count": 437,
   "id": "6683101c",
   "metadata": {},
   "outputs": [],
   "source": [
    "# Let's prove this statisticaly"
   ]
  },
  {
   "cell_type": "code",
   "execution_count": 438,
   "id": "9796f70d",
   "metadata": {},
   "outputs": [],
   "source": [
    "sample = []\n",
    "for i in ['non-stop', '2 stops', '1 stop', '3 stops']:\n",
    "    s = data_train[data_train['Total_Stops']==i]['Price']\n",
    "    sample.append(s)"
   ]
  },
  {
   "cell_type": "code",
   "execution_count": 439,
   "id": "b0a1aa55",
   "metadata": {},
   "outputs": [
    {
     "data": {
      "text/plain": [
       "KruskalResult(statistic=5749.236822864575, pvalue=0.0)"
      ]
     },
     "execution_count": 439,
     "metadata": {},
     "output_type": "execute_result"
    }
   ],
   "source": [
    "kruskal(sample[0],sample[1],sample[2],sample[3])"
   ]
  },
  {
   "cell_type": "markdown",
   "id": "78b39528",
   "metadata": {},
   "source": [
    "#### Inference :\n",
    "1. Flight price is affected by Airline and Total Stops."
   ]
  },
  {
   "cell_type": "markdown",
   "id": "b6a7d5f4",
   "metadata": {},
   "source": [
    "### Data Preprocessing"
   ]
  },
  {
   "cell_type": "code",
   "execution_count": 440,
   "id": "e9f4ec45",
   "metadata": {},
   "outputs": [],
   "source": [
    "# Combine the dataset\n",
    "data = pd.concat([data_train,data_test],axis =0)"
   ]
  },
  {
   "cell_type": "code",
   "execution_count": 441,
   "id": "d32f037f",
   "metadata": {},
   "outputs": [
    {
     "data": {
      "text/plain": [
       "(13354, 11)"
      ]
     },
     "execution_count": 441,
     "metadata": {},
     "output_type": "execute_result"
    }
   ],
   "source": [
    "data.shape"
   ]
  },
  {
   "cell_type": "code",
   "execution_count": 442,
   "id": "522470ed",
   "metadata": {},
   "outputs": [
    {
     "data": {
      "text/plain": [
       "Airline               0\n",
       "Date_of_Journey       0\n",
       "Source                0\n",
       "Destination           0\n",
       "Route                 1\n",
       "Dep_Time              0\n",
       "Arrival_Time          0\n",
       "Duration              0\n",
       "Total_Stops           1\n",
       "Additional_Info       0\n",
       "Price              2671\n",
       "dtype: int64"
      ]
     },
     "execution_count": 442,
     "metadata": {},
     "output_type": "execute_result"
    }
   ],
   "source": [
    "# Check for null values\n",
    "data.isnull().sum()"
   ]
  },
  {
   "cell_type": "code",
   "execution_count": 443,
   "id": "bdeaf10b",
   "metadata": {},
   "outputs": [
    {
     "data": {
      "text/html": [
       "<div>\n",
       "<style scoped>\n",
       "    .dataframe tbody tr th:only-of-type {\n",
       "        vertical-align: middle;\n",
       "    }\n",
       "\n",
       "    .dataframe tbody tr th {\n",
       "        vertical-align: top;\n",
       "    }\n",
       "\n",
       "    .dataframe thead th {\n",
       "        text-align: right;\n",
       "    }\n",
       "</style>\n",
       "<table border=\"1\" class=\"dataframe\">\n",
       "  <thead>\n",
       "    <tr style=\"text-align: right;\">\n",
       "      <th></th>\n",
       "      <th>Airline</th>\n",
       "      <th>Date_of_Journey</th>\n",
       "      <th>Source</th>\n",
       "      <th>Destination</th>\n",
       "      <th>Route</th>\n",
       "      <th>Dep_Time</th>\n",
       "      <th>Arrival_Time</th>\n",
       "      <th>Duration</th>\n",
       "      <th>Total_Stops</th>\n",
       "      <th>Additional_Info</th>\n",
       "      <th>Price</th>\n",
       "    </tr>\n",
       "  </thead>\n",
       "  <tbody>\n",
       "    <tr>\n",
       "      <th>9039</th>\n",
       "      <td>Air India</td>\n",
       "      <td>6/05/2019</td>\n",
       "      <td>Delhi</td>\n",
       "      <td>Cochin</td>\n",
       "      <td>NaN</td>\n",
       "      <td>09:45</td>\n",
       "      <td>09:25 07 May</td>\n",
       "      <td>23h 40m</td>\n",
       "      <td>NaN</td>\n",
       "      <td>No info</td>\n",
       "      <td>7480.0</td>\n",
       "    </tr>\n",
       "  </tbody>\n",
       "</table>\n",
       "</div>"
      ],
      "text/plain": [
       "        Airline Date_of_Journey Source Destination Route Dep_Time  \\\n",
       "9039  Air India       6/05/2019  Delhi      Cochin   NaN    09:45   \n",
       "\n",
       "      Arrival_Time Duration Total_Stops Additional_Info   Price  \n",
       "9039  09:25 07 May  23h 40m         NaN         No info  7480.0  "
      ]
     },
     "execution_count": 443,
     "metadata": {},
     "output_type": "execute_result"
    }
   ],
   "source": [
    "data[data.Route.isnull()]"
   ]
  },
  {
   "cell_type": "code",
   "execution_count": 444,
   "id": "425e97a7",
   "metadata": {},
   "outputs": [],
   "source": [
    "# Drop the row with null values\n",
    "data.drop(index=[9039],inplace = True)"
   ]
  },
  {
   "cell_type": "code",
   "execution_count": 445,
   "id": "fd581381",
   "metadata": {},
   "outputs": [
    {
     "data": {
      "text/plain": [
       "Airline               0\n",
       "Date_of_Journey       0\n",
       "Source                0\n",
       "Destination           0\n",
       "Route                 0\n",
       "Dep_Time              0\n",
       "Arrival_Time          0\n",
       "Duration              0\n",
       "Total_Stops           0\n",
       "Additional_Info       0\n",
       "Price              2671\n",
       "dtype: int64"
      ]
     },
     "execution_count": 445,
     "metadata": {},
     "output_type": "execute_result"
    }
   ],
   "source": [
    "data.isnull().sum()"
   ]
  },
  {
   "cell_type": "code",
   "execution_count": 446,
   "id": "04529d76",
   "metadata": {},
   "outputs": [],
   "source": [
    "# treat the outliers\n",
    "\n",
    "# there are outliers in price but we decide to keep it in the data as it seems to be genuine"
   ]
  },
  {
   "cell_type": "markdown",
   "id": "9a7175b7",
   "metadata": {},
   "source": [
    "### Feature Engineering\n",
    "\n",
    "* Generate some new feature using existing ones.\n",
    "* Encoding category columns."
   ]
  },
  {
   "cell_type": "markdown",
   "id": "ac457412",
   "metadata": {},
   "source": [
    "### Airline"
   ]
  },
  {
   "cell_type": "code",
   "execution_count": 447,
   "id": "a95cf289",
   "metadata": {},
   "outputs": [],
   "source": [
    "map_Airline = data_train['Airline'].value_counts(normalize=True).to_dict()"
   ]
  },
  {
   "cell_type": "code",
   "execution_count": 448,
   "id": "50cdee12",
   "metadata": {},
   "outputs": [],
   "source": [
    "data['Airline'] = data['Airline'].map(map_Airline)"
   ]
  },
  {
   "cell_type": "code",
   "execution_count": 449,
   "id": "c7cea607",
   "metadata": {},
   "outputs": [
    {
     "data": {
      "text/plain": [
       "0.360292    4746\n",
       "0.192174    2564\n",
       "0.163999    2191\n",
       "0.111954    1543\n",
       "0.076570    1026\n",
       "0.044838     608\n",
       "0.029861     405\n",
       "0.018160     240\n",
       "0.001217      16\n",
       "0.000562       8\n",
       "0.000281       5\n",
       "0.000094       1\n",
       "Name: Airline, dtype: int64"
      ]
     },
     "execution_count": 449,
     "metadata": {},
     "output_type": "execute_result"
    }
   ],
   "source": [
    "data['Airline'].value_counts()"
   ]
  },
  {
   "cell_type": "code",
   "execution_count": 450,
   "id": "bc61bce5",
   "metadata": {},
   "outputs": [],
   "source": [
    "### date of journey"
   ]
  },
  {
   "cell_type": "code",
   "execution_count": 451,
   "id": "842bf1db",
   "metadata": {},
   "outputs": [],
   "source": [
    "data['Date_of_Journey'] = pd.to_datetime(data['Date_of_Journey'],format = '%d/%m/%Y')"
   ]
  },
  {
   "cell_type": "code",
   "execution_count": 452,
   "id": "ff329cae",
   "metadata": {},
   "outputs": [],
   "source": [
    "data['Day_of_journey'] = data['Date_of_Journey'].dt.day\n",
    "data['Month_of_journey'] = data['Date_of_Journey'].dt.month\n",
    "data['Weekday_of_journey'] = data['Date_of_Journey'].dt.weekday"
   ]
  },
  {
   "cell_type": "code",
   "execution_count": 453,
   "id": "a32c9f1d",
   "metadata": {},
   "outputs": [],
   "source": [
    "data.drop(columns='Date_of_Journey',inplace=True)"
   ]
  },
  {
   "cell_type": "code",
   "execution_count": 454,
   "id": "2e421c66",
   "metadata": {},
   "outputs": [
    {
     "data": {
      "text/html": [
       "<div>\n",
       "<style scoped>\n",
       "    .dataframe tbody tr th:only-of-type {\n",
       "        vertical-align: middle;\n",
       "    }\n",
       "\n",
       "    .dataframe tbody tr th {\n",
       "        vertical-align: top;\n",
       "    }\n",
       "\n",
       "    .dataframe thead th {\n",
       "        text-align: right;\n",
       "    }\n",
       "</style>\n",
       "<table border=\"1\" class=\"dataframe\">\n",
       "  <thead>\n",
       "    <tr style=\"text-align: right;\">\n",
       "      <th></th>\n",
       "      <th>Airline</th>\n",
       "      <th>Source</th>\n",
       "      <th>Destination</th>\n",
       "      <th>Route</th>\n",
       "      <th>Dep_Time</th>\n",
       "      <th>Arrival_Time</th>\n",
       "      <th>Duration</th>\n",
       "      <th>Total_Stops</th>\n",
       "      <th>Additional_Info</th>\n",
       "      <th>Price</th>\n",
       "      <th>Day_of_journey</th>\n",
       "      <th>Month_of_journey</th>\n",
       "      <th>Weekday_of_journey</th>\n",
       "    </tr>\n",
       "  </thead>\n",
       "  <tbody>\n",
       "    <tr>\n",
       "      <th>0</th>\n",
       "      <td>0.192174</td>\n",
       "      <td>Banglore</td>\n",
       "      <td>New Delhi</td>\n",
       "      <td>BLR → DEL</td>\n",
       "      <td>22:20</td>\n",
       "      <td>01:10 22 Mar</td>\n",
       "      <td>2h 50m</td>\n",
       "      <td>non-stop</td>\n",
       "      <td>No info</td>\n",
       "      <td>3897.0</td>\n",
       "      <td>24</td>\n",
       "      <td>3</td>\n",
       "      <td>6</td>\n",
       "    </tr>\n",
       "    <tr>\n",
       "      <th>1</th>\n",
       "      <td>0.163999</td>\n",
       "      <td>Kolkata</td>\n",
       "      <td>Banglore</td>\n",
       "      <td>CCU → IXR → BBI → BLR</td>\n",
       "      <td>05:50</td>\n",
       "      <td>13:15</td>\n",
       "      <td>7h 25m</td>\n",
       "      <td>2 stops</td>\n",
       "      <td>No info</td>\n",
       "      <td>7662.0</td>\n",
       "      <td>1</td>\n",
       "      <td>5</td>\n",
       "      <td>2</td>\n",
       "    </tr>\n",
       "  </tbody>\n",
       "</table>\n",
       "</div>"
      ],
      "text/plain": [
       "    Airline    Source Destination                  Route Dep_Time  \\\n",
       "0  0.192174  Banglore   New Delhi              BLR → DEL    22:20   \n",
       "1  0.163999   Kolkata    Banglore  CCU → IXR → BBI → BLR    05:50   \n",
       "\n",
       "   Arrival_Time Duration Total_Stops Additional_Info   Price  Day_of_journey  \\\n",
       "0  01:10 22 Mar   2h 50m    non-stop         No info  3897.0              24   \n",
       "1         13:15   7h 25m     2 stops         No info  7662.0               1   \n",
       "\n",
       "   Month_of_journey  Weekday_of_journey  \n",
       "0                 3                   6  \n",
       "1                 5                   2  "
      ]
     },
     "execution_count": 454,
     "metadata": {},
     "output_type": "execute_result"
    }
   ],
   "source": [
    "data.head(2)"
   ]
  },
  {
   "cell_type": "markdown",
   "id": "c9751f72",
   "metadata": {},
   "source": [
    "### Source and destination"
   ]
  },
  {
   "cell_type": "code",
   "execution_count": 455,
   "id": "8df6ac98",
   "metadata": {},
   "outputs": [
    {
     "data": {
      "text/plain": [
       "Delhi       5681\n",
       "Kolkata     3581\n",
       "Banglore    2752\n",
       "Mumbai       883\n",
       "Chennai      456\n",
       "Name: Source, dtype: int64"
      ]
     },
     "execution_count": 455,
     "metadata": {},
     "output_type": "execute_result"
    }
   ],
   "source": [
    "data['Source'].value_counts()"
   ]
  },
  {
   "cell_type": "code",
   "execution_count": 456,
   "id": "03a607b0",
   "metadata": {},
   "outputs": [
    {
     "data": {
      "text/plain": [
       "Cochin       5681\n",
       "Banglore     3581\n",
       "Delhi        1582\n",
       "New Delhi    1170\n",
       "Hyderabad     883\n",
       "Kolkata       456\n",
       "Name: Destination, dtype: int64"
      ]
     },
     "execution_count": 456,
     "metadata": {},
     "output_type": "execute_result"
    }
   ],
   "source": [
    "data['Destination'].value_counts()"
   ]
  },
  {
   "cell_type": "code",
   "execution_count": 457,
   "id": "58348137",
   "metadata": {},
   "outputs": [],
   "source": [
    "data['Destination'] = data['Destination'].replace('New Delhi','Delhi')"
   ]
  },
  {
   "cell_type": "code",
   "execution_count": 458,
   "id": "20955dfa",
   "metadata": {},
   "outputs": [],
   "source": [
    "data['Source_to_Destination'] = data['Source'] + '-' +data['Destination']"
   ]
  },
  {
   "cell_type": "code",
   "execution_count": 459,
   "id": "6599454e",
   "metadata": {},
   "outputs": [],
   "source": [
    "map_sd = data[data['Price'].notnull()]['Source_to_Destination'].value_counts(normalize=True).to_dict()"
   ]
  },
  {
   "cell_type": "code",
   "execution_count": 460,
   "id": "7421431f",
   "metadata": {},
   "outputs": [],
   "source": [
    "data['Source_to_Destination'] = data['Source_to_Destination'].map(map_sd)"
   ]
  },
  {
   "cell_type": "code",
   "execution_count": 461,
   "id": "bbf1c9b7",
   "metadata": {},
   "outputs": [
    {
     "data": {
      "text/html": [
       "<div>\n",
       "<style scoped>\n",
       "    .dataframe tbody tr th:only-of-type {\n",
       "        vertical-align: middle;\n",
       "    }\n",
       "\n",
       "    .dataframe tbody tr th {\n",
       "        vertical-align: top;\n",
       "    }\n",
       "\n",
       "    .dataframe thead th {\n",
       "        text-align: right;\n",
       "    }\n",
       "</style>\n",
       "<table border=\"1\" class=\"dataframe\">\n",
       "  <thead>\n",
       "    <tr style=\"text-align: right;\">\n",
       "      <th></th>\n",
       "      <th>Airline</th>\n",
       "      <th>Source</th>\n",
       "      <th>Destination</th>\n",
       "      <th>Route</th>\n",
       "      <th>Dep_Time</th>\n",
       "      <th>Arrival_Time</th>\n",
       "      <th>Duration</th>\n",
       "      <th>Total_Stops</th>\n",
       "      <th>Additional_Info</th>\n",
       "      <th>Price</th>\n",
       "      <th>Day_of_journey</th>\n",
       "      <th>Month_of_journey</th>\n",
       "      <th>Weekday_of_journey</th>\n",
       "      <th>Source_to_Destination</th>\n",
       "    </tr>\n",
       "  </thead>\n",
       "  <tbody>\n",
       "    <tr>\n",
       "      <th>0</th>\n",
       "      <td>0.192174</td>\n",
       "      <td>Banglore</td>\n",
       "      <td>Delhi</td>\n",
       "      <td>BLR → DEL</td>\n",
       "      <td>22:20</td>\n",
       "      <td>01:10 22 Mar</td>\n",
       "      <td>2h 50m</td>\n",
       "      <td>non-stop</td>\n",
       "      <td>No info</td>\n",
       "      <td>3897.0</td>\n",
       "      <td>24</td>\n",
       "      <td>3</td>\n",
       "      <td>6</td>\n",
       "      <td>0.205673</td>\n",
       "    </tr>\n",
       "    <tr>\n",
       "      <th>1</th>\n",
       "      <td>0.163999</td>\n",
       "      <td>Kolkata</td>\n",
       "      <td>Banglore</td>\n",
       "      <td>CCU → IXR → BBI → BLR</td>\n",
       "      <td>05:50</td>\n",
       "      <td>13:15</td>\n",
       "      <td>7h 25m</td>\n",
       "      <td>2 stops</td>\n",
       "      <td>No info</td>\n",
       "      <td>7662.0</td>\n",
       "      <td>1</td>\n",
       "      <td>5</td>\n",
       "      <td>2</td>\n",
       "      <td>0.268770</td>\n",
       "    </tr>\n",
       "    <tr>\n",
       "      <th>2</th>\n",
       "      <td>0.360292</td>\n",
       "      <td>Delhi</td>\n",
       "      <td>Cochin</td>\n",
       "      <td>DEL → LKO → BOM → COK</td>\n",
       "      <td>09:25</td>\n",
       "      <td>04:25 10 Jun</td>\n",
       "      <td>19h</td>\n",
       "      <td>2 stops</td>\n",
       "      <td>No info</td>\n",
       "      <td>13882.0</td>\n",
       "      <td>9</td>\n",
       "      <td>6</td>\n",
       "      <td>6</td>\n",
       "      <td>0.424640</td>\n",
       "    </tr>\n",
       "    <tr>\n",
       "      <th>3</th>\n",
       "      <td>0.192174</td>\n",
       "      <td>Kolkata</td>\n",
       "      <td>Banglore</td>\n",
       "      <td>CCU → NAG → BLR</td>\n",
       "      <td>18:05</td>\n",
       "      <td>23:30</td>\n",
       "      <td>5h 25m</td>\n",
       "      <td>1 stop</td>\n",
       "      <td>No info</td>\n",
       "      <td>6218.0</td>\n",
       "      <td>12</td>\n",
       "      <td>5</td>\n",
       "      <td>6</td>\n",
       "      <td>0.268770</td>\n",
       "    </tr>\n",
       "    <tr>\n",
       "      <th>4</th>\n",
       "      <td>0.192174</td>\n",
       "      <td>Banglore</td>\n",
       "      <td>Delhi</td>\n",
       "      <td>BLR → NAG → DEL</td>\n",
       "      <td>16:50</td>\n",
       "      <td>21:35</td>\n",
       "      <td>4h 45m</td>\n",
       "      <td>1 stop</td>\n",
       "      <td>No info</td>\n",
       "      <td>13302.0</td>\n",
       "      <td>1</td>\n",
       "      <td>3</td>\n",
       "      <td>4</td>\n",
       "      <td>0.205673</td>\n",
       "    </tr>\n",
       "  </tbody>\n",
       "</table>\n",
       "</div>"
      ],
      "text/plain": [
       "    Airline    Source Destination                  Route Dep_Time  \\\n",
       "0  0.192174  Banglore       Delhi              BLR → DEL    22:20   \n",
       "1  0.163999   Kolkata    Banglore  CCU → IXR → BBI → BLR    05:50   \n",
       "2  0.360292     Delhi      Cochin  DEL → LKO → BOM → COK    09:25   \n",
       "3  0.192174   Kolkata    Banglore        CCU → NAG → BLR    18:05   \n",
       "4  0.192174  Banglore       Delhi        BLR → NAG → DEL    16:50   \n",
       "\n",
       "   Arrival_Time Duration Total_Stops Additional_Info    Price  Day_of_journey  \\\n",
       "0  01:10 22 Mar   2h 50m    non-stop         No info   3897.0              24   \n",
       "1         13:15   7h 25m     2 stops         No info   7662.0               1   \n",
       "2  04:25 10 Jun      19h     2 stops         No info  13882.0               9   \n",
       "3         23:30   5h 25m      1 stop         No info   6218.0              12   \n",
       "4         21:35   4h 45m      1 stop         No info  13302.0               1   \n",
       "\n",
       "   Month_of_journey  Weekday_of_journey  Source_to_Destination  \n",
       "0                 3                   6               0.205673  \n",
       "1                 5                   2               0.268770  \n",
       "2                 6                   6               0.424640  \n",
       "3                 5                   6               0.268770  \n",
       "4                 3                   4               0.205673  "
      ]
     },
     "execution_count": 461,
     "metadata": {},
     "output_type": "execute_result"
    }
   ],
   "source": [
    "data.head()"
   ]
  },
  {
   "cell_type": "code",
   "execution_count": 462,
   "id": "fba1ff82",
   "metadata": {},
   "outputs": [],
   "source": [
    "data.drop(columns=['Source','Destination'],inplace=True)"
   ]
  },
  {
   "cell_type": "code",
   "execution_count": 463,
   "id": "7797cf01",
   "metadata": {},
   "outputs": [
    {
     "data": {
      "text/html": [
       "<div>\n",
       "<style scoped>\n",
       "    .dataframe tbody tr th:only-of-type {\n",
       "        vertical-align: middle;\n",
       "    }\n",
       "\n",
       "    .dataframe tbody tr th {\n",
       "        vertical-align: top;\n",
       "    }\n",
       "\n",
       "    .dataframe thead th {\n",
       "        text-align: right;\n",
       "    }\n",
       "</style>\n",
       "<table border=\"1\" class=\"dataframe\">\n",
       "  <thead>\n",
       "    <tr style=\"text-align: right;\">\n",
       "      <th></th>\n",
       "      <th>Airline</th>\n",
       "      <th>Route</th>\n",
       "      <th>Dep_Time</th>\n",
       "      <th>Arrival_Time</th>\n",
       "      <th>Duration</th>\n",
       "      <th>Total_Stops</th>\n",
       "      <th>Additional_Info</th>\n",
       "      <th>Price</th>\n",
       "      <th>Day_of_journey</th>\n",
       "      <th>Month_of_journey</th>\n",
       "      <th>Weekday_of_journey</th>\n",
       "      <th>Source_to_Destination</th>\n",
       "    </tr>\n",
       "  </thead>\n",
       "  <tbody>\n",
       "    <tr>\n",
       "      <th>0</th>\n",
       "      <td>0.192174</td>\n",
       "      <td>BLR → DEL</td>\n",
       "      <td>22:20</td>\n",
       "      <td>01:10 22 Mar</td>\n",
       "      <td>2h 50m</td>\n",
       "      <td>non-stop</td>\n",
       "      <td>No info</td>\n",
       "      <td>3897.0</td>\n",
       "      <td>24</td>\n",
       "      <td>3</td>\n",
       "      <td>6</td>\n",
       "      <td>0.205673</td>\n",
       "    </tr>\n",
       "    <tr>\n",
       "      <th>1</th>\n",
       "      <td>0.163999</td>\n",
       "      <td>CCU → IXR → BBI → BLR</td>\n",
       "      <td>05:50</td>\n",
       "      <td>13:15</td>\n",
       "      <td>7h 25m</td>\n",
       "      <td>2 stops</td>\n",
       "      <td>No info</td>\n",
       "      <td>7662.0</td>\n",
       "      <td>1</td>\n",
       "      <td>5</td>\n",
       "      <td>2</td>\n",
       "      <td>0.268770</td>\n",
       "    </tr>\n",
       "  </tbody>\n",
       "</table>\n",
       "</div>"
      ],
      "text/plain": [
       "    Airline                  Route Dep_Time  Arrival_Time Duration  \\\n",
       "0  0.192174              BLR → DEL    22:20  01:10 22 Mar   2h 50m   \n",
       "1  0.163999  CCU → IXR → BBI → BLR    05:50         13:15   7h 25m   \n",
       "\n",
       "  Total_Stops Additional_Info   Price  Day_of_journey  Month_of_journey  \\\n",
       "0    non-stop         No info  3897.0              24                 3   \n",
       "1     2 stops         No info  7662.0               1                 5   \n",
       "\n",
       "   Weekday_of_journey  Source_to_Destination  \n",
       "0                   6               0.205673  \n",
       "1                   2               0.268770  "
      ]
     },
     "execution_count": 463,
     "metadata": {},
     "output_type": "execute_result"
    }
   ],
   "source": [
    "data.head(2)"
   ]
  },
  {
   "cell_type": "markdown",
   "id": "9221f96a",
   "metadata": {},
   "source": [
    "### Route"
   ]
  },
  {
   "cell_type": "code",
   "execution_count": 464,
   "id": "460eb095",
   "metadata": {},
   "outputs": [],
   "source": [
    "busy_routes = data_train['Route'].value_counts().head(5).index"
   ]
  },
  {
   "cell_type": "code",
   "execution_count": 465,
   "id": "062214f0",
   "metadata": {},
   "outputs": [
    {
     "data": {
      "text/plain": [
       "Index(['DEL → BOM → COK', 'BLR → DEL', 'CCU → BOM → BLR', 'CCU → BLR',\n",
       "       'BOM → HYD'],\n",
       "      dtype='object')"
      ]
     },
     "execution_count": 465,
     "metadata": {},
     "output_type": "execute_result"
    }
   ],
   "source": [
    "busy_routes"
   ]
  },
  {
   "cell_type": "code",
   "execution_count": 466,
   "id": "a0510a40",
   "metadata": {},
   "outputs": [],
   "source": [
    "data['Route'] = data['Route'].apply(lambda r: 1 if r in busy_routes else 0)"
   ]
  },
  {
   "cell_type": "code",
   "execution_count": 467,
   "id": "0b1a7b09",
   "metadata": {},
   "outputs": [
    {
     "data": {
      "text/html": [
       "<div>\n",
       "<style scoped>\n",
       "    .dataframe tbody tr th:only-of-type {\n",
       "        vertical-align: middle;\n",
       "    }\n",
       "\n",
       "    .dataframe tbody tr th {\n",
       "        vertical-align: top;\n",
       "    }\n",
       "\n",
       "    .dataframe thead th {\n",
       "        text-align: right;\n",
       "    }\n",
       "</style>\n",
       "<table border=\"1\" class=\"dataframe\">\n",
       "  <thead>\n",
       "    <tr style=\"text-align: right;\">\n",
       "      <th></th>\n",
       "      <th>Airline</th>\n",
       "      <th>Route</th>\n",
       "      <th>Dep_Time</th>\n",
       "      <th>Arrival_Time</th>\n",
       "      <th>Duration</th>\n",
       "      <th>Total_Stops</th>\n",
       "      <th>Additional_Info</th>\n",
       "      <th>Price</th>\n",
       "      <th>Day_of_journey</th>\n",
       "      <th>Month_of_journey</th>\n",
       "      <th>Weekday_of_journey</th>\n",
       "      <th>Source_to_Destination</th>\n",
       "    </tr>\n",
       "  </thead>\n",
       "  <tbody>\n",
       "    <tr>\n",
       "      <th>0</th>\n",
       "      <td>0.192174</td>\n",
       "      <td>1</td>\n",
       "      <td>22:20</td>\n",
       "      <td>01:10 22 Mar</td>\n",
       "      <td>2h 50m</td>\n",
       "      <td>non-stop</td>\n",
       "      <td>No info</td>\n",
       "      <td>3897.0</td>\n",
       "      <td>24</td>\n",
       "      <td>3</td>\n",
       "      <td>6</td>\n",
       "      <td>0.205673</td>\n",
       "    </tr>\n",
       "    <tr>\n",
       "      <th>1</th>\n",
       "      <td>0.163999</td>\n",
       "      <td>0</td>\n",
       "      <td>05:50</td>\n",
       "      <td>13:15</td>\n",
       "      <td>7h 25m</td>\n",
       "      <td>2 stops</td>\n",
       "      <td>No info</td>\n",
       "      <td>7662.0</td>\n",
       "      <td>1</td>\n",
       "      <td>5</td>\n",
       "      <td>2</td>\n",
       "      <td>0.268770</td>\n",
       "    </tr>\n",
       "  </tbody>\n",
       "</table>\n",
       "</div>"
      ],
      "text/plain": [
       "    Airline  Route Dep_Time  Arrival_Time Duration Total_Stops  \\\n",
       "0  0.192174      1    22:20  01:10 22 Mar   2h 50m    non-stop   \n",
       "1  0.163999      0    05:50         13:15   7h 25m     2 stops   \n",
       "\n",
       "  Additional_Info   Price  Day_of_journey  Month_of_journey  \\\n",
       "0         No info  3897.0              24                 3   \n",
       "1         No info  7662.0               1                 5   \n",
       "\n",
       "   Weekday_of_journey  Source_to_Destination  \n",
       "0                   6               0.205673  \n",
       "1                   2               0.268770  "
      ]
     },
     "execution_count": 467,
     "metadata": {},
     "output_type": "execute_result"
    }
   ],
   "source": [
    "data.head(2)"
   ]
  },
  {
   "cell_type": "markdown",
   "id": "ae6dddf0",
   "metadata": {},
   "source": [
    "### Dep_time and Arrival Time"
   ]
  },
  {
   "cell_type": "markdown",
   "id": "56728a61",
   "metadata": {},
   "source": [
    "4AM to 8AM -> Early Morning -> 0\n",
    "8AM to 12PM -> Morning -> 1\n",
    "12PM to 4PM -> Afternoon -> 2\n",
    "4PM to 8PM -> Evening -> 3\n",
    "8PM to 12Am -> Night -> 4\n",
    "12AM to 4AM -> Late Night -> 5"
   ]
  },
  {
   "cell_type": "code",
   "execution_count": 468,
   "id": "f5861f3b",
   "metadata": {},
   "outputs": [],
   "source": [
    "data['Dep_Time']=data['Dep_Time'].str.split(':',expand=True)[0].astype(int)"
   ]
  },
  {
   "cell_type": "code",
   "execution_count": 469,
   "id": "7bcbaa50",
   "metadata": {},
   "outputs": [],
   "source": [
    "data['Arrival_Time'] = data['Arrival_Time'].str.split(':',expand=True)[0].astype(int)"
   ]
  },
  {
   "cell_type": "code",
   "execution_count": 470,
   "id": "1b784cde",
   "metadata": {},
   "outputs": [
    {
     "data": {
      "text/html": [
       "<div>\n",
       "<style scoped>\n",
       "    .dataframe tbody tr th:only-of-type {\n",
       "        vertical-align: middle;\n",
       "    }\n",
       "\n",
       "    .dataframe tbody tr th {\n",
       "        vertical-align: top;\n",
       "    }\n",
       "\n",
       "    .dataframe thead th {\n",
       "        text-align: right;\n",
       "    }\n",
       "</style>\n",
       "<table border=\"1\" class=\"dataframe\">\n",
       "  <thead>\n",
       "    <tr style=\"text-align: right;\">\n",
       "      <th></th>\n",
       "      <th>Airline</th>\n",
       "      <th>Route</th>\n",
       "      <th>Dep_Time</th>\n",
       "      <th>Arrival_Time</th>\n",
       "      <th>Duration</th>\n",
       "      <th>Total_Stops</th>\n",
       "      <th>Additional_Info</th>\n",
       "      <th>Price</th>\n",
       "      <th>Day_of_journey</th>\n",
       "      <th>Month_of_journey</th>\n",
       "      <th>Weekday_of_journey</th>\n",
       "      <th>Source_to_Destination</th>\n",
       "    </tr>\n",
       "  </thead>\n",
       "  <tbody>\n",
       "    <tr>\n",
       "      <th>0</th>\n",
       "      <td>0.192174</td>\n",
       "      <td>1</td>\n",
       "      <td>22</td>\n",
       "      <td>1</td>\n",
       "      <td>2h 50m</td>\n",
       "      <td>non-stop</td>\n",
       "      <td>No info</td>\n",
       "      <td>3897.0</td>\n",
       "      <td>24</td>\n",
       "      <td>3</td>\n",
       "      <td>6</td>\n",
       "      <td>0.205673</td>\n",
       "    </tr>\n",
       "    <tr>\n",
       "      <th>1</th>\n",
       "      <td>0.163999</td>\n",
       "      <td>0</td>\n",
       "      <td>5</td>\n",
       "      <td>13</td>\n",
       "      <td>7h 25m</td>\n",
       "      <td>2 stops</td>\n",
       "      <td>No info</td>\n",
       "      <td>7662.0</td>\n",
       "      <td>1</td>\n",
       "      <td>5</td>\n",
       "      <td>2</td>\n",
       "      <td>0.268770</td>\n",
       "    </tr>\n",
       "  </tbody>\n",
       "</table>\n",
       "</div>"
      ],
      "text/plain": [
       "    Airline  Route  Dep_Time  Arrival_Time Duration Total_Stops  \\\n",
       "0  0.192174      1        22             1   2h 50m    non-stop   \n",
       "1  0.163999      0         5            13   7h 25m     2 stops   \n",
       "\n",
       "  Additional_Info   Price  Day_of_journey  Month_of_journey  \\\n",
       "0         No info  3897.0              24                 3   \n",
       "1         No info  7662.0               1                 5   \n",
       "\n",
       "   Weekday_of_journey  Source_to_Destination  \n",
       "0                   6               0.205673  \n",
       "1                   2               0.268770  "
      ]
     },
     "execution_count": 470,
     "metadata": {},
     "output_type": "execute_result"
    }
   ],
   "source": [
    "data.head(2)"
   ]
  },
  {
   "cell_type": "code",
   "execution_count": 471,
   "id": "51f6337f",
   "metadata": {},
   "outputs": [],
   "source": [
    "def hour_to_cat(h):\n",
    "    if h<=4:\n",
    "        return 5\n",
    "    elif h<=8:\n",
    "        return 0\n",
    "    elif h<=12:\n",
    "        return 1\n",
    "    elif h<=16:\n",
    "        return 2\n",
    "    elif h<=20:\n",
    "        return 3\n",
    "    elif h<=24:\n",
    "        return 4"
   ]
  },
  {
   "cell_type": "code",
   "execution_count": 472,
   "id": "71a1ff2b",
   "metadata": {},
   "outputs": [],
   "source": [
    "data['Dep_Time'] = data['Dep_Time'].apply(hour_to_cat)\n",
    "data['Arrival_Time'] = data['Arrival_Time'].apply(hour_to_cat)"
   ]
  },
  {
   "cell_type": "code",
   "execution_count": 473,
   "id": "3cbad7e8",
   "metadata": {},
   "outputs": [
    {
     "data": {
      "text/html": [
       "<div>\n",
       "<style scoped>\n",
       "    .dataframe tbody tr th:only-of-type {\n",
       "        vertical-align: middle;\n",
       "    }\n",
       "\n",
       "    .dataframe tbody tr th {\n",
       "        vertical-align: top;\n",
       "    }\n",
       "\n",
       "    .dataframe thead th {\n",
       "        text-align: right;\n",
       "    }\n",
       "</style>\n",
       "<table border=\"1\" class=\"dataframe\">\n",
       "  <thead>\n",
       "    <tr style=\"text-align: right;\">\n",
       "      <th></th>\n",
       "      <th>Airline</th>\n",
       "      <th>Route</th>\n",
       "      <th>Dep_Time</th>\n",
       "      <th>Arrival_Time</th>\n",
       "      <th>Duration</th>\n",
       "      <th>Total_Stops</th>\n",
       "      <th>Additional_Info</th>\n",
       "      <th>Price</th>\n",
       "      <th>Day_of_journey</th>\n",
       "      <th>Month_of_journey</th>\n",
       "      <th>Weekday_of_journey</th>\n",
       "      <th>Source_to_Destination</th>\n",
       "    </tr>\n",
       "  </thead>\n",
       "  <tbody>\n",
       "    <tr>\n",
       "      <th>0</th>\n",
       "      <td>0.192174</td>\n",
       "      <td>1</td>\n",
       "      <td>4</td>\n",
       "      <td>5</td>\n",
       "      <td>2h 50m</td>\n",
       "      <td>non-stop</td>\n",
       "      <td>No info</td>\n",
       "      <td>3897.0</td>\n",
       "      <td>24</td>\n",
       "      <td>3</td>\n",
       "      <td>6</td>\n",
       "      <td>0.205673</td>\n",
       "    </tr>\n",
       "    <tr>\n",
       "      <th>1</th>\n",
       "      <td>0.163999</td>\n",
       "      <td>0</td>\n",
       "      <td>0</td>\n",
       "      <td>2</td>\n",
       "      <td>7h 25m</td>\n",
       "      <td>2 stops</td>\n",
       "      <td>No info</td>\n",
       "      <td>7662.0</td>\n",
       "      <td>1</td>\n",
       "      <td>5</td>\n",
       "      <td>2</td>\n",
       "      <td>0.268770</td>\n",
       "    </tr>\n",
       "  </tbody>\n",
       "</table>\n",
       "</div>"
      ],
      "text/plain": [
       "    Airline  Route  Dep_Time  Arrival_Time Duration Total_Stops  \\\n",
       "0  0.192174      1         4             5   2h 50m    non-stop   \n",
       "1  0.163999      0         0             2   7h 25m     2 stops   \n",
       "\n",
       "  Additional_Info   Price  Day_of_journey  Month_of_journey  \\\n",
       "0         No info  3897.0              24                 3   \n",
       "1         No info  7662.0               1                 5   \n",
       "\n",
       "   Weekday_of_journey  Source_to_Destination  \n",
       "0                   6               0.205673  \n",
       "1                   2               0.268770  "
      ]
     },
     "execution_count": 473,
     "metadata": {},
     "output_type": "execute_result"
    }
   ],
   "source": [
    "data.head(2)"
   ]
  },
  {
   "cell_type": "markdown",
   "id": "12724550",
   "metadata": {},
   "source": [
    "### Duration"
   ]
  },
  {
   "cell_type": "code",
   "execution_count": 474,
   "id": "048592a6",
   "metadata": {},
   "outputs": [],
   "source": [
    "data[['Dur_h','Dur_m']] = data['Duration'].str.split(expand=True)"
   ]
  },
  {
   "cell_type": "code",
   "execution_count": 475,
   "id": "c1362aaf",
   "metadata": {},
   "outputs": [
    {
     "data": {
      "text/html": [
       "<div>\n",
       "<style scoped>\n",
       "    .dataframe tbody tr th:only-of-type {\n",
       "        vertical-align: middle;\n",
       "    }\n",
       "\n",
       "    .dataframe tbody tr th {\n",
       "        vertical-align: top;\n",
       "    }\n",
       "\n",
       "    .dataframe thead th {\n",
       "        text-align: right;\n",
       "    }\n",
       "</style>\n",
       "<table border=\"1\" class=\"dataframe\">\n",
       "  <thead>\n",
       "    <tr style=\"text-align: right;\">\n",
       "      <th></th>\n",
       "      <th>Airline</th>\n",
       "      <th>Route</th>\n",
       "      <th>Dep_Time</th>\n",
       "      <th>Arrival_Time</th>\n",
       "      <th>Duration</th>\n",
       "      <th>Total_Stops</th>\n",
       "      <th>Additional_Info</th>\n",
       "      <th>Price</th>\n",
       "      <th>Day_of_journey</th>\n",
       "      <th>Month_of_journey</th>\n",
       "      <th>Weekday_of_journey</th>\n",
       "      <th>Source_to_Destination</th>\n",
       "      <th>Dur_h</th>\n",
       "      <th>Dur_m</th>\n",
       "    </tr>\n",
       "  </thead>\n",
       "  <tbody>\n",
       "    <tr>\n",
       "      <th>6474</th>\n",
       "      <td>0.163999</td>\n",
       "      <td>0</td>\n",
       "      <td>2</td>\n",
       "      <td>2</td>\n",
       "      <td>5m</td>\n",
       "      <td>2 stops</td>\n",
       "      <td>No info</td>\n",
       "      <td>17327.0</td>\n",
       "      <td>6</td>\n",
       "      <td>3</td>\n",
       "      <td>2</td>\n",
       "      <td>0.06525</td>\n",
       "      <td>5m</td>\n",
       "      <td>None</td>\n",
       "    </tr>\n",
       "    <tr>\n",
       "      <th>2660</th>\n",
       "      <td>0.163999</td>\n",
       "      <td>0</td>\n",
       "      <td>2</td>\n",
       "      <td>2</td>\n",
       "      <td>5m</td>\n",
       "      <td>2 stops</td>\n",
       "      <td>No info</td>\n",
       "      <td>NaN</td>\n",
       "      <td>12</td>\n",
       "      <td>3</td>\n",
       "      <td>1</td>\n",
       "      <td>0.06525</td>\n",
       "      <td>5m</td>\n",
       "      <td>None</td>\n",
       "    </tr>\n",
       "  </tbody>\n",
       "</table>\n",
       "</div>"
      ],
      "text/plain": [
       "       Airline  Route  Dep_Time  Arrival_Time Duration Total_Stops  \\\n",
       "6474  0.163999      0         2             2       5m     2 stops   \n",
       "2660  0.163999      0         2             2       5m     2 stops   \n",
       "\n",
       "     Additional_Info    Price  Day_of_journey  Month_of_journey  \\\n",
       "6474         No info  17327.0               6                 3   \n",
       "2660         No info      NaN              12                 3   \n",
       "\n",
       "      Weekday_of_journey  Source_to_Destination Dur_h Dur_m  \n",
       "6474                   2                0.06525    5m  None  \n",
       "2660                   1                0.06525    5m  None  "
      ]
     },
     "execution_count": 475,
     "metadata": {},
     "output_type": "execute_result"
    }
   ],
   "source": [
    "data[data['Duration']=='5m']"
   ]
  },
  {
   "cell_type": "code",
   "execution_count": 476,
   "id": "4b1a23ff",
   "metadata": {},
   "outputs": [],
   "source": [
    "data['Dur_h'] = data['Dur_h'].str.rstrip('hm').astype(int) ## Cause there were two column with 5m in hour column created by duration indicating flight duration to be 5m."
   ]
  },
  {
   "cell_type": "code",
   "execution_count": 477,
   "id": "673abfa7",
   "metadata": {},
   "outputs": [],
   "source": [
    "data['Dur_m'].fillna('0',inplace=True)"
   ]
  },
  {
   "cell_type": "code",
   "execution_count": 478,
   "id": "80c17500",
   "metadata": {},
   "outputs": [],
   "source": [
    "data['Dur_m'] = data['Dur_m'].str.rstrip('m').astype(int)"
   ]
  },
  {
   "cell_type": "code",
   "execution_count": 479,
   "id": "2069c6d8",
   "metadata": {},
   "outputs": [],
   "source": [
    "data['Duration']=data['Dur_h']*60+data['Dur_m']"
   ]
  },
  {
   "cell_type": "code",
   "execution_count": 480,
   "id": "c45a8cbe",
   "metadata": {},
   "outputs": [],
   "source": [
    "data.drop(columns=['Dur_h','Dur_m'],inplace=True)"
   ]
  },
  {
   "cell_type": "code",
   "execution_count": 481,
   "id": "e276624a",
   "metadata": {},
   "outputs": [
    {
     "data": {
      "text/html": [
       "<div>\n",
       "<style scoped>\n",
       "    .dataframe tbody tr th:only-of-type {\n",
       "        vertical-align: middle;\n",
       "    }\n",
       "\n",
       "    .dataframe tbody tr th {\n",
       "        vertical-align: top;\n",
       "    }\n",
       "\n",
       "    .dataframe thead th {\n",
       "        text-align: right;\n",
       "    }\n",
       "</style>\n",
       "<table border=\"1\" class=\"dataframe\">\n",
       "  <thead>\n",
       "    <tr style=\"text-align: right;\">\n",
       "      <th></th>\n",
       "      <th>Airline</th>\n",
       "      <th>Route</th>\n",
       "      <th>Dep_Time</th>\n",
       "      <th>Arrival_Time</th>\n",
       "      <th>Duration</th>\n",
       "      <th>Total_Stops</th>\n",
       "      <th>Additional_Info</th>\n",
       "      <th>Price</th>\n",
       "      <th>Day_of_journey</th>\n",
       "      <th>Month_of_journey</th>\n",
       "      <th>Weekday_of_journey</th>\n",
       "      <th>Source_to_Destination</th>\n",
       "    </tr>\n",
       "  </thead>\n",
       "  <tbody>\n",
       "    <tr>\n",
       "      <th>0</th>\n",
       "      <td>0.192174</td>\n",
       "      <td>1</td>\n",
       "      <td>4</td>\n",
       "      <td>5</td>\n",
       "      <td>170</td>\n",
       "      <td>non-stop</td>\n",
       "      <td>No info</td>\n",
       "      <td>3897.0</td>\n",
       "      <td>24</td>\n",
       "      <td>3</td>\n",
       "      <td>6</td>\n",
       "      <td>0.205673</td>\n",
       "    </tr>\n",
       "    <tr>\n",
       "      <th>1</th>\n",
       "      <td>0.163999</td>\n",
       "      <td>0</td>\n",
       "      <td>0</td>\n",
       "      <td>2</td>\n",
       "      <td>445</td>\n",
       "      <td>2 stops</td>\n",
       "      <td>No info</td>\n",
       "      <td>7662.0</td>\n",
       "      <td>1</td>\n",
       "      <td>5</td>\n",
       "      <td>2</td>\n",
       "      <td>0.268770</td>\n",
       "    </tr>\n",
       "  </tbody>\n",
       "</table>\n",
       "</div>"
      ],
      "text/plain": [
       "    Airline  Route  Dep_Time  Arrival_Time  Duration Total_Stops  \\\n",
       "0  0.192174      1         4             5       170    non-stop   \n",
       "1  0.163999      0         0             2       445     2 stops   \n",
       "\n",
       "  Additional_Info   Price  Day_of_journey  Month_of_journey  \\\n",
       "0         No info  3897.0              24                 3   \n",
       "1         No info  7662.0               1                 5   \n",
       "\n",
       "   Weekday_of_journey  Source_to_Destination  \n",
       "0                   6               0.205673  \n",
       "1                   2               0.268770  "
      ]
     },
     "execution_count": 481,
     "metadata": {},
     "output_type": "execute_result"
    }
   ],
   "source": [
    "data.head(2)"
   ]
  },
  {
   "cell_type": "markdown",
   "id": "e2565efd",
   "metadata": {},
   "source": [
    "### Total stops"
   ]
  },
  {
   "cell_type": "code",
   "execution_count": 482,
   "id": "b332649e",
   "metadata": {},
   "outputs": [],
   "source": [
    "data['Total_Stops'] = data['Total_Stops'].str.split(expand=True)[0]"
   ]
  },
  {
   "cell_type": "code",
   "execution_count": 483,
   "id": "7ce4ebb0",
   "metadata": {},
   "outputs": [],
   "source": [
    "data['Total_Stops'] = np.where(data['Total_Stops']=='non-stop','0',data['Total_Stops'])"
   ]
  },
  {
   "cell_type": "code",
   "execution_count": 484,
   "id": "51817251",
   "metadata": {},
   "outputs": [],
   "source": [
    "data['Total_Stops']= data['Total_Stops'].astype(int)"
   ]
  },
  {
   "cell_type": "code",
   "execution_count": 485,
   "id": "607e32db",
   "metadata": {},
   "outputs": [
    {
     "data": {
      "text/plain": [
       "1    7056\n",
       "0    4340\n",
       "2    1899\n",
       "3      56\n",
       "4       2\n",
       "Name: Total_Stops, dtype: int64"
      ]
     },
     "execution_count": 485,
     "metadata": {},
     "output_type": "execute_result"
    }
   ],
   "source": [
    "data['Total_Stops'].value_counts()"
   ]
  },
  {
   "cell_type": "markdown",
   "id": "f20b5784",
   "metadata": {},
   "source": [
    "### Additional info"
   ]
  },
  {
   "cell_type": "code",
   "execution_count": 486,
   "id": "b9d5e9fb",
   "metadata": {},
   "outputs": [
    {
     "data": {
      "text/plain": [
       "No info                         10492\n",
       "In-flight meal not included      2426\n",
       "No check-in baggage included      396\n",
       "1 Long layover                     20\n",
       "Change airports                     8\n",
       "Business class                      5\n",
       "No Info                             3\n",
       "1 Short layover                     1\n",
       "Red-eye flight                      1\n",
       "2 Long layover                      1\n",
       "Name: Additional_Info, dtype: int64"
      ]
     },
     "execution_count": 486,
     "metadata": {},
     "output_type": "execute_result"
    }
   ],
   "source": [
    "data['Additional_Info'].value_counts()"
   ]
  },
  {
   "cell_type": "code",
   "execution_count": 487,
   "id": "ab510d4a",
   "metadata": {},
   "outputs": [],
   "source": [
    "data['Additional_Info'] = data['Additional_Info'].apply(lambda r : 0 if r in ['No info','No Info'] else 1)"
   ]
  },
  {
   "cell_type": "markdown",
   "id": "267d4436",
   "metadata": {},
   "source": [
    "### Train test split"
   ]
  },
  {
   "cell_type": "code",
   "execution_count": 488,
   "id": "697b77a4",
   "metadata": {},
   "outputs": [],
   "source": [
    "train_set = data[data['Price'].notnull()]\n",
    "test_set = data[data['Price'].isnull()]"
   ]
  },
  {
   "cell_type": "code",
   "execution_count": 489,
   "id": "116fe066",
   "metadata": {},
   "outputs": [],
   "source": [
    "test_set.drop(columns='Price',inplace =True)"
   ]
  },
  {
   "cell_type": "code",
   "execution_count": 490,
   "id": "1d04db27",
   "metadata": {},
   "outputs": [],
   "source": [
    "# Train test split on train_set"
   ]
  },
  {
   "cell_type": "code",
   "execution_count": 491,
   "id": "4de435ed",
   "metadata": {},
   "outputs": [],
   "source": [
    "from sklearn.model_selection import train_test_split"
   ]
  },
  {
   "cell_type": "code",
   "execution_count": 492,
   "id": "4a9869f9",
   "metadata": {},
   "outputs": [],
   "source": [
    "y = train_set['Price']\n",
    "x = train_set.drop(columns='Price')"
   ]
  },
  {
   "cell_type": "code",
   "execution_count": 493,
   "id": "5fd0121e",
   "metadata": {},
   "outputs": [],
   "source": [
    "x_train,x_test,y_train,y_test = train_test_split(x,y,train_size=0.8,random_state=2)"
   ]
  },
  {
   "cell_type": "code",
   "execution_count": 494,
   "id": "a65ab9f8",
   "metadata": {},
   "outputs": [
    {
     "name": "stdout",
     "output_type": "stream",
     "text": [
      "(8545, 11) (2137, 11) (8545,) (2137,)\n"
     ]
    }
   ],
   "source": [
    "print(x_train.shape,x_test.shape,y_train.shape,y_test.shape)"
   ]
  },
  {
   "cell_type": "markdown",
   "id": "886c8563",
   "metadata": {},
   "source": [
    "### Predictive Modeling"
   ]
  },
  {
   "cell_type": "code",
   "execution_count": 495,
   "id": "38cc3ccc",
   "metadata": {},
   "outputs": [],
   "source": [
    "from sklearn.linear_model import LinearRegression,Ridge,Lasso\n",
    "from sklearn.tree import DecisionTreeRegressor\n",
    "from sklearn.ensemble import RandomForestRegressor,AdaBoostRegressor,GradientBoostingRegressor\n",
    "from xgboost import XGBRegressor\n",
    "from sklearn.ensemble import  VotingRegressor,StackingRegressor\n",
    "\n",
    "from sklearn.metrics import r2_score,mean_absolute_percentage_error,mean_squared_error"
   ]
  },
  {
   "cell_type": "code",
   "execution_count": 496,
   "id": "d11e65aa",
   "metadata": {},
   "outputs": [],
   "source": [
    "def hack_eval(y_true,y_pred):\n",
    "    scor = 1 - np.sqrt(np.square(np.log10(y_pred +1) - np.log10(y_true +1)).mean())\n",
    "    return scor"
   ]
  },
  {
   "cell_type": "code",
   "execution_count": 497,
   "id": "51b3a903",
   "metadata": {},
   "outputs": [],
   "source": [
    "r2 = []\n",
    "ms_error = []\n",
    "rms_error = []\n",
    "map_error = []\n",
    "fit_model = []\n",
    "hack_score = []\n",
    "\n",
    "def model_evaluation(model,xtrain,ytrain,xtest,ytest):\n",
    "    m = model\n",
    "    m.fit(xtrain,ytrain)\n",
    "    pred = m.predict(xtest)\n",
    "    \n",
    "    print('R2',r2_score(ytest,pred))\n",
    "    print('MSE',mean_squared_error(ytest,pred))\n",
    "    print('RMSE',np.sqrt(mean_squared_error(ytest,pred)))\n",
    "    print('MAPE',mean_absolute_percentage_error(ytest,pred))\n",
    "    print('Hack Score' , hack_eval(ytest,pred))\n",
    "    \n",
    "    inp = input('Do you want to save the model?')\n",
    "    \n",
    "    if inp.lower()=='y':\n",
    "        fit_model.append(str(m))\n",
    "        r2.append(r2_score(ytest,pred))\n",
    "        ms_error.append(mean_squared_error(ytest,pred))\n",
    "        rms_error.append(np.sqrt(mean_squared_error(ytest,pred)))\n",
    "        map_error.append(mean_absolute_percentage_error(ytest,pred))\n",
    "        hack_score.append(hack_eval(ytest,pred))\n",
    "        \n",
    "        global score_card \n",
    "        score_card = pd.DataFrame({'Model':fit_model,\n",
    "                                  'R2':r2,\n",
    "                                  'MSE':ms_error,\n",
    "                                  'RMSE':rms_error,\n",
    "                                  'MAPE':map_error,\n",
    "                                  'Hackathon score':hack_score})"
   ]
  },
  {
   "cell_type": "markdown",
   "id": "da75ddaf",
   "metadata": {},
   "source": [
    "### Linear Regression"
   ]
  },
  {
   "cell_type": "code",
   "execution_count": 498,
   "id": "4655041c",
   "metadata": {},
   "outputs": [
    {
     "name": "stdout",
     "output_type": "stream",
     "text": [
      "R2 0.49605673287692054\n",
      "MSE 11209267.615819253\n",
      "RMSE 3348.0244347703397\n",
      "MAPE 0.2717233415748326\n",
      "Hack Score 0.852277584821571\n",
      "Do you want to save the model?y\n"
     ]
    }
   ],
   "source": [
    "model_evaluation(LinearRegression(),x_train,y_train,x_test,y_test)"
   ]
  },
  {
   "cell_type": "markdown",
   "id": "9953d93e",
   "metadata": {},
   "source": [
    "### Ridge and Lasso"
   ]
  },
  {
   "cell_type": "code",
   "execution_count": 499,
   "id": "e2f532cf",
   "metadata": {},
   "outputs": [
    {
     "ename": "TypeError",
     "evalue": "solve() got an unexpected keyword argument 'sym_pos'",
     "output_type": "error",
     "traceback": [
      "\u001b[1;31m---------------------------------------------------------------------------\u001b[0m",
      "\u001b[1;31mTypeError\u001b[0m                                 Traceback (most recent call last)",
      "Input \u001b[1;32mIn [499]\u001b[0m, in \u001b[0;36m<cell line: 1>\u001b[1;34m()\u001b[0m\n\u001b[1;32m----> 1\u001b[0m \u001b[43mmodel_evaluation\u001b[49m\u001b[43m(\u001b[49m\u001b[43mRidge\u001b[49m\u001b[43m(\u001b[49m\u001b[43malpha\u001b[49m\u001b[38;5;241;43m=\u001b[39;49m\u001b[38;5;241;43m1\u001b[39;49m\u001b[43m)\u001b[49m\u001b[43m,\u001b[49m\u001b[43mx_train\u001b[49m\u001b[43m,\u001b[49m\u001b[43my_train\u001b[49m\u001b[43m,\u001b[49m\u001b[43mx_test\u001b[49m\u001b[43m,\u001b[49m\u001b[43my_test\u001b[49m\u001b[43m)\u001b[49m\n",
      "Input \u001b[1;32mIn [497]\u001b[0m, in \u001b[0;36mmodel_evaluation\u001b[1;34m(model, xtrain, ytrain, xtest, ytest)\u001b[0m\n\u001b[0;32m      8\u001b[0m \u001b[38;5;28;01mdef\u001b[39;00m \u001b[38;5;21mmodel_evaluation\u001b[39m(model,xtrain,ytrain,xtest,ytest):\n\u001b[0;32m      9\u001b[0m     m \u001b[38;5;241m=\u001b[39m model\n\u001b[1;32m---> 10\u001b[0m     \u001b[43mm\u001b[49m\u001b[38;5;241;43m.\u001b[39;49m\u001b[43mfit\u001b[49m\u001b[43m(\u001b[49m\u001b[43mxtrain\u001b[49m\u001b[43m,\u001b[49m\u001b[43mytrain\u001b[49m\u001b[43m)\u001b[49m\n\u001b[0;32m     11\u001b[0m     pred \u001b[38;5;241m=\u001b[39m m\u001b[38;5;241m.\u001b[39mpredict(xtest)\n\u001b[0;32m     13\u001b[0m     \u001b[38;5;28mprint\u001b[39m(\u001b[38;5;124m'\u001b[39m\u001b[38;5;124mR2\u001b[39m\u001b[38;5;124m'\u001b[39m,r2_score(ytest,pred))\n",
      "File \u001b[1;32m~\\anaconda3\\lib\\site-packages\\sklearn\\linear_model\\_ridge.py:1011\u001b[0m, in \u001b[0;36mRidge.fit\u001b[1;34m(self, X, y, sample_weight)\u001b[0m\n\u001b[0;32m   1002\u001b[0m _accept_sparse \u001b[38;5;241m=\u001b[39m _get_valid_accept_sparse(sparse\u001b[38;5;241m.\u001b[39missparse(X), \u001b[38;5;28mself\u001b[39m\u001b[38;5;241m.\u001b[39msolver)\n\u001b[0;32m   1003\u001b[0m X, y \u001b[38;5;241m=\u001b[39m \u001b[38;5;28mself\u001b[39m\u001b[38;5;241m.\u001b[39m_validate_data(\n\u001b[0;32m   1004\u001b[0m     X,\n\u001b[0;32m   1005\u001b[0m     y,\n\u001b[1;32m   (...)\u001b[0m\n\u001b[0;32m   1009\u001b[0m     y_numeric\u001b[38;5;241m=\u001b[39m\u001b[38;5;28;01mTrue\u001b[39;00m,\n\u001b[0;32m   1010\u001b[0m )\n\u001b[1;32m-> 1011\u001b[0m \u001b[38;5;28;01mreturn\u001b[39;00m \u001b[38;5;28;43msuper\u001b[39;49m\u001b[43m(\u001b[49m\u001b[43m)\u001b[49m\u001b[38;5;241;43m.\u001b[39;49m\u001b[43mfit\u001b[49m\u001b[43m(\u001b[49m\u001b[43mX\u001b[49m\u001b[43m,\u001b[49m\u001b[43m \u001b[49m\u001b[43my\u001b[49m\u001b[43m,\u001b[49m\u001b[43m \u001b[49m\u001b[43msample_weight\u001b[49m\u001b[38;5;241;43m=\u001b[39;49m\u001b[43msample_weight\u001b[49m\u001b[43m)\u001b[49m\n",
      "File \u001b[1;32m~\\anaconda3\\lib\\site-packages\\sklearn\\linear_model\\_ridge.py:782\u001b[0m, in \u001b[0;36m_BaseRidge.fit\u001b[1;34m(self, X, y, sample_weight)\u001b[0m\n\u001b[0;32m    778\u001b[0m     \u001b[38;5;28;01melse\u001b[39;00m:\n\u001b[0;32m    779\u001b[0m         \u001b[38;5;66;03m# for dense matrices or when intercept is set to 0\u001b[39;00m\n\u001b[0;32m    780\u001b[0m         params \u001b[38;5;241m=\u001b[39m {}\n\u001b[1;32m--> 782\u001b[0m     \u001b[38;5;28mself\u001b[39m\u001b[38;5;241m.\u001b[39mcoef_, \u001b[38;5;28mself\u001b[39m\u001b[38;5;241m.\u001b[39mn_iter_ \u001b[38;5;241m=\u001b[39m _ridge_regression(\n\u001b[0;32m    783\u001b[0m         X,\n\u001b[0;32m    784\u001b[0m         y,\n\u001b[0;32m    785\u001b[0m         alpha\u001b[38;5;241m=\u001b[39m\u001b[38;5;28mself\u001b[39m\u001b[38;5;241m.\u001b[39malpha,\n\u001b[0;32m    786\u001b[0m         sample_weight\u001b[38;5;241m=\u001b[39msample_weight,\n\u001b[0;32m    787\u001b[0m         max_iter\u001b[38;5;241m=\u001b[39m\u001b[38;5;28mself\u001b[39m\u001b[38;5;241m.\u001b[39mmax_iter,\n\u001b[0;32m    788\u001b[0m         tol\u001b[38;5;241m=\u001b[39m\u001b[38;5;28mself\u001b[39m\u001b[38;5;241m.\u001b[39mtol,\n\u001b[0;32m    789\u001b[0m         solver\u001b[38;5;241m=\u001b[39msolver,\n\u001b[0;32m    790\u001b[0m         positive\u001b[38;5;241m=\u001b[39m\u001b[38;5;28mself\u001b[39m\u001b[38;5;241m.\u001b[39mpositive,\n\u001b[0;32m    791\u001b[0m         random_state\u001b[38;5;241m=\u001b[39m\u001b[38;5;28mself\u001b[39m\u001b[38;5;241m.\u001b[39mrandom_state,\n\u001b[0;32m    792\u001b[0m         return_n_iter\u001b[38;5;241m=\u001b[39m\u001b[38;5;28;01mTrue\u001b[39;00m,\n\u001b[0;32m    793\u001b[0m         return_intercept\u001b[38;5;241m=\u001b[39m\u001b[38;5;28;01mFalse\u001b[39;00m,\n\u001b[0;32m    794\u001b[0m         check_input\u001b[38;5;241m=\u001b[39m\u001b[38;5;28;01mFalse\u001b[39;00m,\n\u001b[0;32m    795\u001b[0m         \u001b[38;5;241m*\u001b[39m\u001b[38;5;241m*\u001b[39mparams,\n\u001b[0;32m    796\u001b[0m     )\n\u001b[0;32m    797\u001b[0m     \u001b[38;5;28mself\u001b[39m\u001b[38;5;241m.\u001b[39m_set_intercept(X_offset, y_offset, X_scale)\n\u001b[0;32m    799\u001b[0m \u001b[38;5;28;01mreturn\u001b[39;00m \u001b[38;5;28mself\u001b[39m\n",
      "File \u001b[1;32m~\\anaconda3\\lib\\site-packages\\sklearn\\linear_model\\_ridge.py:599\u001b[0m, in \u001b[0;36m_ridge_regression\u001b[1;34m(X, y, alpha, sample_weight, solver, max_iter, tol, verbose, positive, random_state, return_n_iter, return_intercept, X_scale, X_offset, check_input)\u001b[0m\n\u001b[0;32m    597\u001b[0m \u001b[38;5;28;01melse\u001b[39;00m:\n\u001b[0;32m    598\u001b[0m     \u001b[38;5;28;01mtry\u001b[39;00m:\n\u001b[1;32m--> 599\u001b[0m         coef \u001b[38;5;241m=\u001b[39m \u001b[43m_solve_cholesky\u001b[49m\u001b[43m(\u001b[49m\u001b[43mX\u001b[49m\u001b[43m,\u001b[49m\u001b[43m \u001b[49m\u001b[43my\u001b[49m\u001b[43m,\u001b[49m\u001b[43m \u001b[49m\u001b[43malpha\u001b[49m\u001b[43m)\u001b[49m\n\u001b[0;32m    600\u001b[0m     \u001b[38;5;28;01mexcept\u001b[39;00m linalg\u001b[38;5;241m.\u001b[39mLinAlgError:\n\u001b[0;32m    601\u001b[0m         \u001b[38;5;66;03m# use SVD solver if matrix is singular\u001b[39;00m\n\u001b[0;32m    602\u001b[0m         solver \u001b[38;5;241m=\u001b[39m \u001b[38;5;124m\"\u001b[39m\u001b[38;5;124msvd\u001b[39m\u001b[38;5;124m\"\u001b[39m\n",
      "File \u001b[1;32m~\\anaconda3\\lib\\site-packages\\sklearn\\linear_model\\_ridge.py:157\u001b[0m, in \u001b[0;36m_solve_cholesky\u001b[1;34m(X, y, alpha)\u001b[0m\n\u001b[0;32m    155\u001b[0m \u001b[38;5;28;01mif\u001b[39;00m one_alpha:\n\u001b[0;32m    156\u001b[0m     A\u001b[38;5;241m.\u001b[39mflat[:: n_features \u001b[38;5;241m+\u001b[39m \u001b[38;5;241m1\u001b[39m] \u001b[38;5;241m+\u001b[39m\u001b[38;5;241m=\u001b[39m alpha[\u001b[38;5;241m0\u001b[39m]\n\u001b[1;32m--> 157\u001b[0m     \u001b[38;5;28;01mreturn\u001b[39;00m \u001b[43mlinalg\u001b[49m\u001b[38;5;241;43m.\u001b[39;49m\u001b[43msolve\u001b[49m\u001b[43m(\u001b[49m\u001b[43mA\u001b[49m\u001b[43m,\u001b[49m\u001b[43m \u001b[49m\u001b[43mXy\u001b[49m\u001b[43m,\u001b[49m\u001b[43m \u001b[49m\u001b[43msym_pos\u001b[49m\u001b[38;5;241;43m=\u001b[39;49m\u001b[38;5;28;43;01mTrue\u001b[39;49;00m\u001b[43m,\u001b[49m\u001b[43m \u001b[49m\u001b[43moverwrite_a\u001b[49m\u001b[38;5;241;43m=\u001b[39;49m\u001b[38;5;28;43;01mTrue\u001b[39;49;00m\u001b[43m)\u001b[49m\u001b[38;5;241m.\u001b[39mT\n\u001b[0;32m    158\u001b[0m \u001b[38;5;28;01melse\u001b[39;00m:\n\u001b[0;32m    159\u001b[0m     coefs \u001b[38;5;241m=\u001b[39m np\u001b[38;5;241m.\u001b[39mempty([n_targets, n_features], dtype\u001b[38;5;241m=\u001b[39mX\u001b[38;5;241m.\u001b[39mdtype)\n",
      "\u001b[1;31mTypeError\u001b[0m: solve() got an unexpected keyword argument 'sym_pos'"
     ]
    }
   ],
   "source": [
    "model_evaluation(Ridge(alpha=1),x_train,y_train,x_test,y_test)"
   ]
  },
  {
   "cell_type": "code",
   "execution_count": 500,
   "id": "a53eba19",
   "metadata": {},
   "outputs": [
    {
     "name": "stdout",
     "output_type": "stream",
     "text": [
      "R2 0.49608915179655044\n",
      "MSE 11208546.518089302\n",
      "RMSE 3347.9167430044167\n",
      "MAPE 0.27164738612046074\n",
      "Hack Score 0.839421780495631\n",
      "Do you want to save the model?y\n"
     ]
    }
   ],
   "source": [
    "model_evaluation(Lasso(alpha=1),x_train,y_train,x_test,y_test)"
   ]
  },
  {
   "cell_type": "code",
   "execution_count": 501,
   "id": "8930f799",
   "metadata": {},
   "outputs": [
    {
     "data": {
      "text/html": [
       "<div>\n",
       "<style scoped>\n",
       "    .dataframe tbody tr th:only-of-type {\n",
       "        vertical-align: middle;\n",
       "    }\n",
       "\n",
       "    .dataframe tbody tr th {\n",
       "        vertical-align: top;\n",
       "    }\n",
       "\n",
       "    .dataframe thead th {\n",
       "        text-align: right;\n",
       "    }\n",
       "</style>\n",
       "<table border=\"1\" class=\"dataframe\">\n",
       "  <thead>\n",
       "    <tr style=\"text-align: right;\">\n",
       "      <th></th>\n",
       "      <th>Model</th>\n",
       "      <th>R2</th>\n",
       "      <th>MSE</th>\n",
       "      <th>RMSE</th>\n",
       "      <th>MAPE</th>\n",
       "      <th>Hackathon score</th>\n",
       "    </tr>\n",
       "  </thead>\n",
       "  <tbody>\n",
       "    <tr>\n",
       "      <th>0</th>\n",
       "      <td>LinearRegression()</td>\n",
       "      <td>0.496057</td>\n",
       "      <td>1.120927e+07</td>\n",
       "      <td>3348.024435</td>\n",
       "      <td>0.271723</td>\n",
       "      <td>0.852278</td>\n",
       "    </tr>\n",
       "    <tr>\n",
       "      <th>1</th>\n",
       "      <td>Lasso(alpha=1)</td>\n",
       "      <td>0.496089</td>\n",
       "      <td>1.120855e+07</td>\n",
       "      <td>3347.916743</td>\n",
       "      <td>0.271647</td>\n",
       "      <td>0.839422</td>\n",
       "    </tr>\n",
       "  </tbody>\n",
       "</table>\n",
       "</div>"
      ],
      "text/plain": [
       "                Model        R2           MSE         RMSE      MAPE  \\\n",
       "0  LinearRegression()  0.496057  1.120927e+07  3348.024435  0.271723   \n",
       "1      Lasso(alpha=1)  0.496089  1.120855e+07  3347.916743  0.271647   \n",
       "\n",
       "   Hackathon score  \n",
       "0         0.852278  \n",
       "1         0.839422  "
      ]
     },
     "execution_count": 501,
     "metadata": {},
     "output_type": "execute_result"
    }
   ],
   "source": [
    "score_card"
   ]
  },
  {
   "cell_type": "markdown",
   "id": "83815655",
   "metadata": {},
   "source": [
    "### Decision tree"
   ]
  },
  {
   "cell_type": "code",
   "execution_count": 503,
   "id": "6bf1493a",
   "metadata": {},
   "outputs": [
    {
     "name": "stdout",
     "output_type": "stream",
     "text": [
      "R2 0.7850691599649777\n",
      "MSE 4780731.209287085\n",
      "RMSE 2186.488328184508\n",
      "MAPE 0.12754084584609346\n",
      "Hack Score 0.9181240225921614\n",
      "Do you want to save the model?y\n"
     ]
    }
   ],
   "source": [
    "model_evaluation(DecisionTreeRegressor(max_depth=9),x_train,y_train,x_test,y_test)"
   ]
  },
  {
   "cell_type": "code",
   "execution_count": 504,
   "id": "94829d6b",
   "metadata": {},
   "outputs": [
    {
     "data": {
      "text/html": [
       "<div>\n",
       "<style scoped>\n",
       "    .dataframe tbody tr th:only-of-type {\n",
       "        vertical-align: middle;\n",
       "    }\n",
       "\n",
       "    .dataframe tbody tr th {\n",
       "        vertical-align: top;\n",
       "    }\n",
       "\n",
       "    .dataframe thead th {\n",
       "        text-align: right;\n",
       "    }\n",
       "</style>\n",
       "<table border=\"1\" class=\"dataframe\">\n",
       "  <thead>\n",
       "    <tr style=\"text-align: right;\">\n",
       "      <th></th>\n",
       "      <th>Model</th>\n",
       "      <th>R2</th>\n",
       "      <th>MSE</th>\n",
       "      <th>RMSE</th>\n",
       "      <th>MAPE</th>\n",
       "      <th>Hackathon score</th>\n",
       "    </tr>\n",
       "  </thead>\n",
       "  <tbody>\n",
       "    <tr>\n",
       "      <th>0</th>\n",
       "      <td>LinearRegression()</td>\n",
       "      <td>0.496057</td>\n",
       "      <td>1.120927e+07</td>\n",
       "      <td>3348.024435</td>\n",
       "      <td>0.271723</td>\n",
       "      <td>0.852278</td>\n",
       "    </tr>\n",
       "    <tr>\n",
       "      <th>1</th>\n",
       "      <td>Lasso(alpha=1)</td>\n",
       "      <td>0.496089</td>\n",
       "      <td>1.120855e+07</td>\n",
       "      <td>3347.916743</td>\n",
       "      <td>0.271647</td>\n",
       "      <td>0.839422</td>\n",
       "    </tr>\n",
       "    <tr>\n",
       "      <th>2</th>\n",
       "      <td>DecisionTreeRegressor(max_depth=5)</td>\n",
       "      <td>0.618895</td>\n",
       "      <td>8.476972e+06</td>\n",
       "      <td>2911.524036</td>\n",
       "      <td>0.204219</td>\n",
       "      <td>0.886502</td>\n",
       "    </tr>\n",
       "    <tr>\n",
       "      <th>3</th>\n",
       "      <td>DecisionTreeRegressor(max_depth=9)</td>\n",
       "      <td>0.785069</td>\n",
       "      <td>4.780731e+06</td>\n",
       "      <td>2186.488328</td>\n",
       "      <td>0.127541</td>\n",
       "      <td>0.918124</td>\n",
       "    </tr>\n",
       "  </tbody>\n",
       "</table>\n",
       "</div>"
      ],
      "text/plain": [
       "                                Model        R2           MSE         RMSE  \\\n",
       "0                  LinearRegression()  0.496057  1.120927e+07  3348.024435   \n",
       "1                      Lasso(alpha=1)  0.496089  1.120855e+07  3347.916743   \n",
       "2  DecisionTreeRegressor(max_depth=5)  0.618895  8.476972e+06  2911.524036   \n",
       "3  DecisionTreeRegressor(max_depth=9)  0.785069  4.780731e+06  2186.488328   \n",
       "\n",
       "       MAPE  Hackathon score  \n",
       "0  0.271723         0.852278  \n",
       "1  0.271647         0.839422  \n",
       "2  0.204219         0.886502  \n",
       "3  0.127541         0.918124  "
      ]
     },
     "execution_count": 504,
     "metadata": {},
     "output_type": "execute_result"
    }
   ],
   "source": [
    "score_card"
   ]
  },
  {
   "cell_type": "markdown",
   "id": "6592e98e",
   "metadata": {},
   "source": [
    "### Random forest"
   ]
  },
  {
   "cell_type": "code",
   "execution_count": 508,
   "id": "4f60d88f",
   "metadata": {},
   "outputs": [
    {
     "name": "stdout",
     "output_type": "stream",
     "text": [
      "R2 0.8446122577869775\n",
      "MSE 3456307.287578669\n",
      "RMSE 1859.1146515421444\n",
      "MAPE 0.09972395584554687\n",
      "Hack Score 0.9337566972576655\n",
      "Do you want to save the model?y\n"
     ]
    }
   ],
   "source": [
    "model_evaluation(RandomForestRegressor(max_depth=10),x_train,y_train,x_test,y_test)"
   ]
  },
  {
   "cell_type": "code",
   "execution_count": 509,
   "id": "432520be",
   "metadata": {},
   "outputs": [
    {
     "data": {
      "text/html": [
       "<div>\n",
       "<style scoped>\n",
       "    .dataframe tbody tr th:only-of-type {\n",
       "        vertical-align: middle;\n",
       "    }\n",
       "\n",
       "    .dataframe tbody tr th {\n",
       "        vertical-align: top;\n",
       "    }\n",
       "\n",
       "    .dataframe thead th {\n",
       "        text-align: right;\n",
       "    }\n",
       "</style>\n",
       "<table border=\"1\" class=\"dataframe\">\n",
       "  <thead>\n",
       "    <tr style=\"text-align: right;\">\n",
       "      <th></th>\n",
       "      <th>Model</th>\n",
       "      <th>R2</th>\n",
       "      <th>MSE</th>\n",
       "      <th>RMSE</th>\n",
       "      <th>MAPE</th>\n",
       "      <th>Hackathon score</th>\n",
       "    </tr>\n",
       "  </thead>\n",
       "  <tbody>\n",
       "    <tr>\n",
       "      <th>0</th>\n",
       "      <td>LinearRegression()</td>\n",
       "      <td>0.496057</td>\n",
       "      <td>1.120927e+07</td>\n",
       "      <td>3348.024435</td>\n",
       "      <td>0.271723</td>\n",
       "      <td>0.852278</td>\n",
       "    </tr>\n",
       "    <tr>\n",
       "      <th>1</th>\n",
       "      <td>Lasso(alpha=1)</td>\n",
       "      <td>0.496089</td>\n",
       "      <td>1.120855e+07</td>\n",
       "      <td>3347.916743</td>\n",
       "      <td>0.271647</td>\n",
       "      <td>0.839422</td>\n",
       "    </tr>\n",
       "    <tr>\n",
       "      <th>2</th>\n",
       "      <td>DecisionTreeRegressor(max_depth=5)</td>\n",
       "      <td>0.618895</td>\n",
       "      <td>8.476972e+06</td>\n",
       "      <td>2911.524036</td>\n",
       "      <td>0.204219</td>\n",
       "      <td>0.886502</td>\n",
       "    </tr>\n",
       "    <tr>\n",
       "      <th>3</th>\n",
       "      <td>DecisionTreeRegressor(max_depth=9)</td>\n",
       "      <td>0.785069</td>\n",
       "      <td>4.780731e+06</td>\n",
       "      <td>2186.488328</td>\n",
       "      <td>0.127541</td>\n",
       "      <td>0.918124</td>\n",
       "    </tr>\n",
       "    <tr>\n",
       "      <th>4</th>\n",
       "      <td>RandomForestRegressor(max_depth=5)</td>\n",
       "      <td>0.676602</td>\n",
       "      <td>7.193388e+06</td>\n",
       "      <td>2682.049236</td>\n",
       "      <td>0.188221</td>\n",
       "      <td>0.894819</td>\n",
       "    </tr>\n",
       "    <tr>\n",
       "      <th>5</th>\n",
       "      <td>RandomForestRegressor(max_depth=9)</td>\n",
       "      <td>0.834130</td>\n",
       "      <td>3.689459e+06</td>\n",
       "      <td>1920.796541</td>\n",
       "      <td>0.108818</td>\n",
       "      <td>0.930527</td>\n",
       "    </tr>\n",
       "    <tr>\n",
       "      <th>6</th>\n",
       "      <td>RandomForestRegressor(max_depth=10)</td>\n",
       "      <td>0.844612</td>\n",
       "      <td>3.456307e+06</td>\n",
       "      <td>1859.114652</td>\n",
       "      <td>0.099724</td>\n",
       "      <td>0.933757</td>\n",
       "    </tr>\n",
       "  </tbody>\n",
       "</table>\n",
       "</div>"
      ],
      "text/plain": [
       "                                 Model        R2           MSE         RMSE  \\\n",
       "0                   LinearRegression()  0.496057  1.120927e+07  3348.024435   \n",
       "1                       Lasso(alpha=1)  0.496089  1.120855e+07  3347.916743   \n",
       "2   DecisionTreeRegressor(max_depth=5)  0.618895  8.476972e+06  2911.524036   \n",
       "3   DecisionTreeRegressor(max_depth=9)  0.785069  4.780731e+06  2186.488328   \n",
       "4   RandomForestRegressor(max_depth=5)  0.676602  7.193388e+06  2682.049236   \n",
       "5   RandomForestRegressor(max_depth=9)  0.834130  3.689459e+06  1920.796541   \n",
       "6  RandomForestRegressor(max_depth=10)  0.844612  3.456307e+06  1859.114652   \n",
       "\n",
       "       MAPE  Hackathon score  \n",
       "0  0.271723         0.852278  \n",
       "1  0.271647         0.839422  \n",
       "2  0.204219         0.886502  \n",
       "3  0.127541         0.918124  \n",
       "4  0.188221         0.894819  \n",
       "5  0.108818         0.930527  \n",
       "6  0.099724         0.933757  "
      ]
     },
     "execution_count": 509,
     "metadata": {},
     "output_type": "execute_result"
    }
   ],
   "source": [
    "score_card"
   ]
  },
  {
   "cell_type": "markdown",
   "id": "682de7ff",
   "metadata": {},
   "source": [
    "### AdaBoost"
   ]
  },
  {
   "cell_type": "code",
   "execution_count": 512,
   "id": "ae035f33",
   "metadata": {},
   "outputs": [
    {
     "name": "stdout",
     "output_type": "stream",
     "text": [
      "R2 0.4611102486802632\n",
      "MSE 11986586.25295199\n",
      "RMSE 3462.164966166689\n",
      "MAPE 0.37338340894516386\n",
      "Hack Score 0.833523071254179\n",
      "Do you want to save the model?y\n"
     ]
    }
   ],
   "source": [
    "model_evaluation(AdaBoostRegressor(base_estimator=RandomForestRegressor(max_depth=3),n_estimators=200),x_train,y_train,x_test,y_test)"
   ]
  },
  {
   "cell_type": "markdown",
   "id": "a1a1938d",
   "metadata": {},
   "source": [
    "### Gradient boosting"
   ]
  },
  {
   "cell_type": "code",
   "execution_count": 513,
   "id": "c455285f",
   "metadata": {},
   "outputs": [
    {
     "name": "stdout",
     "output_type": "stream",
     "text": [
      "R2 0.8832574499865964\n",
      "MSE 2596717.866127978\n",
      "RMSE 1611.433481757152\n",
      "MAPE 0.08936497063184387\n",
      "Hack Score 0.9409093777897557\n",
      "Do you want to save the model?y\n"
     ]
    }
   ],
   "source": [
    "model_evaluation(GradientBoostingRegressor(max_depth=7,n_estimators=150),x_train,y_train,x_test,y_test)"
   ]
  },
  {
   "cell_type": "code",
   "execution_count": 514,
   "id": "b69ee257",
   "metadata": {},
   "outputs": [
    {
     "data": {
      "text/html": [
       "<div>\n",
       "<style scoped>\n",
       "    .dataframe tbody tr th:only-of-type {\n",
       "        vertical-align: middle;\n",
       "    }\n",
       "\n",
       "    .dataframe tbody tr th {\n",
       "        vertical-align: top;\n",
       "    }\n",
       "\n",
       "    .dataframe thead th {\n",
       "        text-align: right;\n",
       "    }\n",
       "</style>\n",
       "<table border=\"1\" class=\"dataframe\">\n",
       "  <thead>\n",
       "    <tr style=\"text-align: right;\">\n",
       "      <th></th>\n",
       "      <th>Model</th>\n",
       "      <th>R2</th>\n",
       "      <th>MSE</th>\n",
       "      <th>RMSE</th>\n",
       "      <th>MAPE</th>\n",
       "      <th>Hackathon score</th>\n",
       "    </tr>\n",
       "  </thead>\n",
       "  <tbody>\n",
       "    <tr>\n",
       "      <th>0</th>\n",
       "      <td>LinearRegression()</td>\n",
       "      <td>0.496057</td>\n",
       "      <td>1.120927e+07</td>\n",
       "      <td>3348.024435</td>\n",
       "      <td>0.271723</td>\n",
       "      <td>0.852278</td>\n",
       "    </tr>\n",
       "    <tr>\n",
       "      <th>1</th>\n",
       "      <td>Lasso(alpha=1)</td>\n",
       "      <td>0.496089</td>\n",
       "      <td>1.120855e+07</td>\n",
       "      <td>3347.916743</td>\n",
       "      <td>0.271647</td>\n",
       "      <td>0.839422</td>\n",
       "    </tr>\n",
       "    <tr>\n",
       "      <th>2</th>\n",
       "      <td>DecisionTreeRegressor(max_depth=5)</td>\n",
       "      <td>0.618895</td>\n",
       "      <td>8.476972e+06</td>\n",
       "      <td>2911.524036</td>\n",
       "      <td>0.204219</td>\n",
       "      <td>0.886502</td>\n",
       "    </tr>\n",
       "    <tr>\n",
       "      <th>3</th>\n",
       "      <td>DecisionTreeRegressor(max_depth=9)</td>\n",
       "      <td>0.785069</td>\n",
       "      <td>4.780731e+06</td>\n",
       "      <td>2186.488328</td>\n",
       "      <td>0.127541</td>\n",
       "      <td>0.918124</td>\n",
       "    </tr>\n",
       "    <tr>\n",
       "      <th>4</th>\n",
       "      <td>RandomForestRegressor(max_depth=5)</td>\n",
       "      <td>0.676602</td>\n",
       "      <td>7.193388e+06</td>\n",
       "      <td>2682.049236</td>\n",
       "      <td>0.188221</td>\n",
       "      <td>0.894819</td>\n",
       "    </tr>\n",
       "    <tr>\n",
       "      <th>5</th>\n",
       "      <td>RandomForestRegressor(max_depth=9)</td>\n",
       "      <td>0.834130</td>\n",
       "      <td>3.689459e+06</td>\n",
       "      <td>1920.796541</td>\n",
       "      <td>0.108818</td>\n",
       "      <td>0.930527</td>\n",
       "    </tr>\n",
       "    <tr>\n",
       "      <th>6</th>\n",
       "      <td>RandomForestRegressor(max_depth=10)</td>\n",
       "      <td>0.844612</td>\n",
       "      <td>3.456307e+06</td>\n",
       "      <td>1859.114652</td>\n",
       "      <td>0.099724</td>\n",
       "      <td>0.933757</td>\n",
       "    </tr>\n",
       "    <tr>\n",
       "      <th>7</th>\n",
       "      <td>AdaBoostRegressor(base_estimator=RandomForestR...</td>\n",
       "      <td>0.461110</td>\n",
       "      <td>1.198659e+07</td>\n",
       "      <td>3462.164966</td>\n",
       "      <td>0.373383</td>\n",
       "      <td>0.833523</td>\n",
       "    </tr>\n",
       "    <tr>\n",
       "      <th>8</th>\n",
       "      <td>GradientBoostingRegressor(max_depth=7, n_estim...</td>\n",
       "      <td>0.883257</td>\n",
       "      <td>2.596718e+06</td>\n",
       "      <td>1611.433482</td>\n",
       "      <td>0.089365</td>\n",
       "      <td>0.940909</td>\n",
       "    </tr>\n",
       "  </tbody>\n",
       "</table>\n",
       "</div>"
      ],
      "text/plain": [
       "                                               Model        R2           MSE  \\\n",
       "0                                 LinearRegression()  0.496057  1.120927e+07   \n",
       "1                                     Lasso(alpha=1)  0.496089  1.120855e+07   \n",
       "2                 DecisionTreeRegressor(max_depth=5)  0.618895  8.476972e+06   \n",
       "3                 DecisionTreeRegressor(max_depth=9)  0.785069  4.780731e+06   \n",
       "4                 RandomForestRegressor(max_depth=5)  0.676602  7.193388e+06   \n",
       "5                 RandomForestRegressor(max_depth=9)  0.834130  3.689459e+06   \n",
       "6                RandomForestRegressor(max_depth=10)  0.844612  3.456307e+06   \n",
       "7  AdaBoostRegressor(base_estimator=RandomForestR...  0.461110  1.198659e+07   \n",
       "8  GradientBoostingRegressor(max_depth=7, n_estim...  0.883257  2.596718e+06   \n",
       "\n",
       "          RMSE      MAPE  Hackathon score  \n",
       "0  3348.024435  0.271723         0.852278  \n",
       "1  3347.916743  0.271647         0.839422  \n",
       "2  2911.524036  0.204219         0.886502  \n",
       "3  2186.488328  0.127541         0.918124  \n",
       "4  2682.049236  0.188221         0.894819  \n",
       "5  1920.796541  0.108818         0.930527  \n",
       "6  1859.114652  0.099724         0.933757  \n",
       "7  3462.164966  0.373383         0.833523  \n",
       "8  1611.433482  0.089365         0.940909  "
      ]
     },
     "execution_count": 514,
     "metadata": {},
     "output_type": "execute_result"
    }
   ],
   "source": [
    "score_card"
   ]
  },
  {
   "cell_type": "markdown",
   "id": "b7e1265a",
   "metadata": {},
   "source": [
    "### Xg boost"
   ]
  },
  {
   "cell_type": "code",
   "execution_count": 515,
   "id": "92a5ff1f",
   "metadata": {},
   "outputs": [
    {
     "name": "stdout",
     "output_type": "stream",
     "text": [
      "R2 0.8910308912801614\n",
      "MSE 2423812.324095705\n",
      "RMSE 1556.8597637859696\n",
      "MAPE 0.08060207998321352\n",
      "Hack Score 0.9426880897140467\n",
      "Do you want to save the model?y\n"
     ]
    }
   ],
   "source": [
    "model_evaluation(XGBRegressor(n_estimators=130,max_depth=8),x_train,y_train,x_test,y_test)"
   ]
  },
  {
   "cell_type": "code",
   "execution_count": 516,
   "id": "49fe9c69",
   "metadata": {},
   "outputs": [
    {
     "data": {
      "text/html": [
       "<div>\n",
       "<style scoped>\n",
       "    .dataframe tbody tr th:only-of-type {\n",
       "        vertical-align: middle;\n",
       "    }\n",
       "\n",
       "    .dataframe tbody tr th {\n",
       "        vertical-align: top;\n",
       "    }\n",
       "\n",
       "    .dataframe thead th {\n",
       "        text-align: right;\n",
       "    }\n",
       "</style>\n",
       "<table border=\"1\" class=\"dataframe\">\n",
       "  <thead>\n",
       "    <tr style=\"text-align: right;\">\n",
       "      <th></th>\n",
       "      <th>Model</th>\n",
       "      <th>R2</th>\n",
       "      <th>MSE</th>\n",
       "      <th>RMSE</th>\n",
       "      <th>MAPE</th>\n",
       "      <th>Hackathon score</th>\n",
       "    </tr>\n",
       "  </thead>\n",
       "  <tbody>\n",
       "    <tr>\n",
       "      <th>0</th>\n",
       "      <td>LinearRegression()</td>\n",
       "      <td>0.496057</td>\n",
       "      <td>1.120927e+07</td>\n",
       "      <td>3348.024435</td>\n",
       "      <td>0.271723</td>\n",
       "      <td>0.852278</td>\n",
       "    </tr>\n",
       "    <tr>\n",
       "      <th>1</th>\n",
       "      <td>Lasso(alpha=1)</td>\n",
       "      <td>0.496089</td>\n",
       "      <td>1.120855e+07</td>\n",
       "      <td>3347.916743</td>\n",
       "      <td>0.271647</td>\n",
       "      <td>0.839422</td>\n",
       "    </tr>\n",
       "    <tr>\n",
       "      <th>2</th>\n",
       "      <td>DecisionTreeRegressor(max_depth=5)</td>\n",
       "      <td>0.618895</td>\n",
       "      <td>8.476972e+06</td>\n",
       "      <td>2911.524036</td>\n",
       "      <td>0.204219</td>\n",
       "      <td>0.886502</td>\n",
       "    </tr>\n",
       "    <tr>\n",
       "      <th>3</th>\n",
       "      <td>DecisionTreeRegressor(max_depth=9)</td>\n",
       "      <td>0.785069</td>\n",
       "      <td>4.780731e+06</td>\n",
       "      <td>2186.488328</td>\n",
       "      <td>0.127541</td>\n",
       "      <td>0.918124</td>\n",
       "    </tr>\n",
       "    <tr>\n",
       "      <th>4</th>\n",
       "      <td>RandomForestRegressor(max_depth=5)</td>\n",
       "      <td>0.676602</td>\n",
       "      <td>7.193388e+06</td>\n",
       "      <td>2682.049236</td>\n",
       "      <td>0.188221</td>\n",
       "      <td>0.894819</td>\n",
       "    </tr>\n",
       "    <tr>\n",
       "      <th>5</th>\n",
       "      <td>RandomForestRegressor(max_depth=9)</td>\n",
       "      <td>0.834130</td>\n",
       "      <td>3.689459e+06</td>\n",
       "      <td>1920.796541</td>\n",
       "      <td>0.108818</td>\n",
       "      <td>0.930527</td>\n",
       "    </tr>\n",
       "    <tr>\n",
       "      <th>6</th>\n",
       "      <td>RandomForestRegressor(max_depth=10)</td>\n",
       "      <td>0.844612</td>\n",
       "      <td>3.456307e+06</td>\n",
       "      <td>1859.114652</td>\n",
       "      <td>0.099724</td>\n",
       "      <td>0.933757</td>\n",
       "    </tr>\n",
       "    <tr>\n",
       "      <th>7</th>\n",
       "      <td>AdaBoostRegressor(base_estimator=RandomForestR...</td>\n",
       "      <td>0.461110</td>\n",
       "      <td>1.198659e+07</td>\n",
       "      <td>3462.164966</td>\n",
       "      <td>0.373383</td>\n",
       "      <td>0.833523</td>\n",
       "    </tr>\n",
       "    <tr>\n",
       "      <th>8</th>\n",
       "      <td>GradientBoostingRegressor(max_depth=7, n_estim...</td>\n",
       "      <td>0.883257</td>\n",
       "      <td>2.596718e+06</td>\n",
       "      <td>1611.433482</td>\n",
       "      <td>0.089365</td>\n",
       "      <td>0.940909</td>\n",
       "    </tr>\n",
       "    <tr>\n",
       "      <th>9</th>\n",
       "      <td>XGBRegressor(base_score=None, booster=None, ca...</td>\n",
       "      <td>0.891031</td>\n",
       "      <td>2.423812e+06</td>\n",
       "      <td>1556.859764</td>\n",
       "      <td>0.080602</td>\n",
       "      <td>0.942688</td>\n",
       "    </tr>\n",
       "  </tbody>\n",
       "</table>\n",
       "</div>"
      ],
      "text/plain": [
       "                                               Model        R2           MSE  \\\n",
       "0                                 LinearRegression()  0.496057  1.120927e+07   \n",
       "1                                     Lasso(alpha=1)  0.496089  1.120855e+07   \n",
       "2                 DecisionTreeRegressor(max_depth=5)  0.618895  8.476972e+06   \n",
       "3                 DecisionTreeRegressor(max_depth=9)  0.785069  4.780731e+06   \n",
       "4                 RandomForestRegressor(max_depth=5)  0.676602  7.193388e+06   \n",
       "5                 RandomForestRegressor(max_depth=9)  0.834130  3.689459e+06   \n",
       "6                RandomForestRegressor(max_depth=10)  0.844612  3.456307e+06   \n",
       "7  AdaBoostRegressor(base_estimator=RandomForestR...  0.461110  1.198659e+07   \n",
       "8  GradientBoostingRegressor(max_depth=7, n_estim...  0.883257  2.596718e+06   \n",
       "9  XGBRegressor(base_score=None, booster=None, ca...  0.891031  2.423812e+06   \n",
       "\n",
       "          RMSE      MAPE  Hackathon score  \n",
       "0  3348.024435  0.271723         0.852278  \n",
       "1  3347.916743  0.271647         0.839422  \n",
       "2  2911.524036  0.204219         0.886502  \n",
       "3  2186.488328  0.127541         0.918124  \n",
       "4  2682.049236  0.188221         0.894819  \n",
       "5  1920.796541  0.108818         0.930527  \n",
       "6  1859.114652  0.099724         0.933757  \n",
       "7  3462.164966  0.373383         0.833523  \n",
       "8  1611.433482  0.089365         0.940909  \n",
       "9  1556.859764  0.080602         0.942688  "
      ]
     },
     "execution_count": 516,
     "metadata": {},
     "output_type": "execute_result"
    }
   ],
   "source": [
    "score_card"
   ]
  },
  {
   "cell_type": "markdown",
   "id": "96c6f6c7",
   "metadata": {},
   "source": [
    "### Voting"
   ]
  },
  {
   "cell_type": "code",
   "execution_count": 518,
   "id": "d47a3b55",
   "metadata": {},
   "outputs": [],
   "source": [
    "base_models = [('Dt',DecisionTreeRegressor(max_depth=10)),\n",
    "              ('RF',RandomForestRegressor(n_estimators=150,max_depth=9)),\n",
    "              ('GBR',GradientBoostingRegressor(max_depth=7,n_estimators=130)),\n",
    "              ('XGBR',XGBRegressor(max_depth=8,n_estimators=130))]"
   ]
  },
  {
   "cell_type": "code",
   "execution_count": 519,
   "id": "2596b668",
   "metadata": {},
   "outputs": [
    {
     "name": "stdout",
     "output_type": "stream",
     "text": [
      "R2 0.8692048999978378\n",
      "MSE 2909290.339628654\n",
      "RMSE 1705.6641931015185\n",
      "MAPE 0.09157747318889688\n",
      "Hack Score 0.9388092296740799\n",
      "Do you want to save the model?y\n"
     ]
    }
   ],
   "source": [
    "model_evaluation(VotingRegressor(base_models),x_train,y_train,x_test,y_test)"
   ]
  },
  {
   "cell_type": "markdown",
   "id": "bfbbced9",
   "metadata": {},
   "source": [
    "### Stacking"
   ]
  },
  {
   "cell_type": "code",
   "execution_count": 520,
   "id": "61ee8dcc",
   "metadata": {},
   "outputs": [
    {
     "data": {
      "text/html": [
       "<div>\n",
       "<style scoped>\n",
       "    .dataframe tbody tr th:only-of-type {\n",
       "        vertical-align: middle;\n",
       "    }\n",
       "\n",
       "    .dataframe tbody tr th {\n",
       "        vertical-align: top;\n",
       "    }\n",
       "\n",
       "    .dataframe thead th {\n",
       "        text-align: right;\n",
       "    }\n",
       "</style>\n",
       "<table border=\"1\" class=\"dataframe\">\n",
       "  <thead>\n",
       "    <tr style=\"text-align: right;\">\n",
       "      <th></th>\n",
       "      <th>Model</th>\n",
       "      <th>R2</th>\n",
       "      <th>MSE</th>\n",
       "      <th>RMSE</th>\n",
       "      <th>MAPE</th>\n",
       "      <th>Hackathon score</th>\n",
       "    </tr>\n",
       "  </thead>\n",
       "  <tbody>\n",
       "    <tr>\n",
       "      <th>0</th>\n",
       "      <td>LinearRegression()</td>\n",
       "      <td>0.496057</td>\n",
       "      <td>1.120927e+07</td>\n",
       "      <td>3348.024435</td>\n",
       "      <td>0.271723</td>\n",
       "      <td>0.852278</td>\n",
       "    </tr>\n",
       "    <tr>\n",
       "      <th>1</th>\n",
       "      <td>Lasso(alpha=1)</td>\n",
       "      <td>0.496089</td>\n",
       "      <td>1.120855e+07</td>\n",
       "      <td>3347.916743</td>\n",
       "      <td>0.271647</td>\n",
       "      <td>0.839422</td>\n",
       "    </tr>\n",
       "    <tr>\n",
       "      <th>2</th>\n",
       "      <td>DecisionTreeRegressor(max_depth=5)</td>\n",
       "      <td>0.618895</td>\n",
       "      <td>8.476972e+06</td>\n",
       "      <td>2911.524036</td>\n",
       "      <td>0.204219</td>\n",
       "      <td>0.886502</td>\n",
       "    </tr>\n",
       "    <tr>\n",
       "      <th>3</th>\n",
       "      <td>DecisionTreeRegressor(max_depth=9)</td>\n",
       "      <td>0.785069</td>\n",
       "      <td>4.780731e+06</td>\n",
       "      <td>2186.488328</td>\n",
       "      <td>0.127541</td>\n",
       "      <td>0.918124</td>\n",
       "    </tr>\n",
       "    <tr>\n",
       "      <th>4</th>\n",
       "      <td>RandomForestRegressor(max_depth=5)</td>\n",
       "      <td>0.676602</td>\n",
       "      <td>7.193388e+06</td>\n",
       "      <td>2682.049236</td>\n",
       "      <td>0.188221</td>\n",
       "      <td>0.894819</td>\n",
       "    </tr>\n",
       "    <tr>\n",
       "      <th>5</th>\n",
       "      <td>RandomForestRegressor(max_depth=9)</td>\n",
       "      <td>0.834130</td>\n",
       "      <td>3.689459e+06</td>\n",
       "      <td>1920.796541</td>\n",
       "      <td>0.108818</td>\n",
       "      <td>0.930527</td>\n",
       "    </tr>\n",
       "    <tr>\n",
       "      <th>6</th>\n",
       "      <td>RandomForestRegressor(max_depth=10)</td>\n",
       "      <td>0.844612</td>\n",
       "      <td>3.456307e+06</td>\n",
       "      <td>1859.114652</td>\n",
       "      <td>0.099724</td>\n",
       "      <td>0.933757</td>\n",
       "    </tr>\n",
       "    <tr>\n",
       "      <th>7</th>\n",
       "      <td>AdaBoostRegressor(base_estimator=RandomForestR...</td>\n",
       "      <td>0.461110</td>\n",
       "      <td>1.198659e+07</td>\n",
       "      <td>3462.164966</td>\n",
       "      <td>0.373383</td>\n",
       "      <td>0.833523</td>\n",
       "    </tr>\n",
       "    <tr>\n",
       "      <th>8</th>\n",
       "      <td>GradientBoostingRegressor(max_depth=7, n_estim...</td>\n",
       "      <td>0.883257</td>\n",
       "      <td>2.596718e+06</td>\n",
       "      <td>1611.433482</td>\n",
       "      <td>0.089365</td>\n",
       "      <td>0.940909</td>\n",
       "    </tr>\n",
       "    <tr>\n",
       "      <th>9</th>\n",
       "      <td>XGBRegressor(base_score=None, booster=None, ca...</td>\n",
       "      <td>0.891031</td>\n",
       "      <td>2.423812e+06</td>\n",
       "      <td>1556.859764</td>\n",
       "      <td>0.080602</td>\n",
       "      <td>0.942688</td>\n",
       "    </tr>\n",
       "    <tr>\n",
       "      <th>10</th>\n",
       "      <td>VotingRegressor(estimators=[('Dt', DecisionTre...</td>\n",
       "      <td>0.869205</td>\n",
       "      <td>2.909290e+06</td>\n",
       "      <td>1705.664193</td>\n",
       "      <td>0.091577</td>\n",
       "      <td>0.938809</td>\n",
       "    </tr>\n",
       "  </tbody>\n",
       "</table>\n",
       "</div>"
      ],
      "text/plain": [
       "                                                Model        R2           MSE  \\\n",
       "0                                  LinearRegression()  0.496057  1.120927e+07   \n",
       "1                                      Lasso(alpha=1)  0.496089  1.120855e+07   \n",
       "2                  DecisionTreeRegressor(max_depth=5)  0.618895  8.476972e+06   \n",
       "3                  DecisionTreeRegressor(max_depth=9)  0.785069  4.780731e+06   \n",
       "4                  RandomForestRegressor(max_depth=5)  0.676602  7.193388e+06   \n",
       "5                  RandomForestRegressor(max_depth=9)  0.834130  3.689459e+06   \n",
       "6                 RandomForestRegressor(max_depth=10)  0.844612  3.456307e+06   \n",
       "7   AdaBoostRegressor(base_estimator=RandomForestR...  0.461110  1.198659e+07   \n",
       "8   GradientBoostingRegressor(max_depth=7, n_estim...  0.883257  2.596718e+06   \n",
       "9   XGBRegressor(base_score=None, booster=None, ca...  0.891031  2.423812e+06   \n",
       "10  VotingRegressor(estimators=[('Dt', DecisionTre...  0.869205  2.909290e+06   \n",
       "\n",
       "           RMSE      MAPE  Hackathon score  \n",
       "0   3348.024435  0.271723         0.852278  \n",
       "1   3347.916743  0.271647         0.839422  \n",
       "2   2911.524036  0.204219         0.886502  \n",
       "3   2186.488328  0.127541         0.918124  \n",
       "4   2682.049236  0.188221         0.894819  \n",
       "5   1920.796541  0.108818         0.930527  \n",
       "6   1859.114652  0.099724         0.933757  \n",
       "7   3462.164966  0.373383         0.833523  \n",
       "8   1611.433482  0.089365         0.940909  \n",
       "9   1556.859764  0.080602         0.942688  \n",
       "10  1705.664193  0.091577         0.938809  "
      ]
     },
     "execution_count": 520,
     "metadata": {},
     "output_type": "execute_result"
    }
   ],
   "source": [
    "score_card"
   ]
  },
  {
   "cell_type": "code",
   "execution_count": 523,
   "id": "d65b1e3a",
   "metadata": {},
   "outputs": [],
   "source": [
    "base_models = [('Dt',DecisionTreeRegressor(max_depth=10)),\n",
    "               ('DT2',DecisionTreeRegressor(max_depth=9)),\n",
    "               ('RF2',RandomForestRegressor(n_estimators=150,max_depth=8)),\n",
    "              ('RF',RandomForestRegressor(n_estimators=130,max_depth=9)),\n",
    "              ('GBR',GradientBoostingRegressor(max_depth=9,n_estimators=130)),\n",
    "              ('XGBR',XGBRegressor(max_depth=8,n_estimators=130))]"
   ]
  },
  {
   "cell_type": "code",
   "execution_count": 524,
   "id": "ccf98808",
   "metadata": {},
   "outputs": [
    {
     "name": "stdout",
     "output_type": "stream",
     "text": [
      "R2 0.8887538111078639\n",
      "MSE 2474461.6782971686\n",
      "RMSE 1573.0421730828352\n",
      "MAPE 0.08004439992479633\n",
      "Hack Score 0.9435859594487233\n",
      "Do you want to save the model?y\n"
     ]
    }
   ],
   "source": [
    "model_evaluation(StackingRegressor(estimators=base_models),x_train,y_train,x_test,y_test)"
   ]
  },
  {
   "cell_type": "code",
   "execution_count": 525,
   "id": "8c8d7ce0",
   "metadata": {},
   "outputs": [
    {
     "data": {
      "text/html": [
       "<div>\n",
       "<style scoped>\n",
       "    .dataframe tbody tr th:only-of-type {\n",
       "        vertical-align: middle;\n",
       "    }\n",
       "\n",
       "    .dataframe tbody tr th {\n",
       "        vertical-align: top;\n",
       "    }\n",
       "\n",
       "    .dataframe thead th {\n",
       "        text-align: right;\n",
       "    }\n",
       "</style>\n",
       "<table border=\"1\" class=\"dataframe\">\n",
       "  <thead>\n",
       "    <tr style=\"text-align: right;\">\n",
       "      <th></th>\n",
       "      <th>Model</th>\n",
       "      <th>R2</th>\n",
       "      <th>MSE</th>\n",
       "      <th>RMSE</th>\n",
       "      <th>MAPE</th>\n",
       "      <th>Hackathon score</th>\n",
       "    </tr>\n",
       "  </thead>\n",
       "  <tbody>\n",
       "    <tr>\n",
       "      <th>0</th>\n",
       "      <td>LinearRegression()</td>\n",
       "      <td>0.496057</td>\n",
       "      <td>1.120927e+07</td>\n",
       "      <td>3348.024435</td>\n",
       "      <td>0.271723</td>\n",
       "      <td>0.852278</td>\n",
       "    </tr>\n",
       "    <tr>\n",
       "      <th>1</th>\n",
       "      <td>Lasso(alpha=1)</td>\n",
       "      <td>0.496089</td>\n",
       "      <td>1.120855e+07</td>\n",
       "      <td>3347.916743</td>\n",
       "      <td>0.271647</td>\n",
       "      <td>0.839422</td>\n",
       "    </tr>\n",
       "    <tr>\n",
       "      <th>2</th>\n",
       "      <td>DecisionTreeRegressor(max_depth=5)</td>\n",
       "      <td>0.618895</td>\n",
       "      <td>8.476972e+06</td>\n",
       "      <td>2911.524036</td>\n",
       "      <td>0.204219</td>\n",
       "      <td>0.886502</td>\n",
       "    </tr>\n",
       "    <tr>\n",
       "      <th>3</th>\n",
       "      <td>DecisionTreeRegressor(max_depth=9)</td>\n",
       "      <td>0.785069</td>\n",
       "      <td>4.780731e+06</td>\n",
       "      <td>2186.488328</td>\n",
       "      <td>0.127541</td>\n",
       "      <td>0.918124</td>\n",
       "    </tr>\n",
       "    <tr>\n",
       "      <th>4</th>\n",
       "      <td>RandomForestRegressor(max_depth=5)</td>\n",
       "      <td>0.676602</td>\n",
       "      <td>7.193388e+06</td>\n",
       "      <td>2682.049236</td>\n",
       "      <td>0.188221</td>\n",
       "      <td>0.894819</td>\n",
       "    </tr>\n",
       "    <tr>\n",
       "      <th>5</th>\n",
       "      <td>RandomForestRegressor(max_depth=9)</td>\n",
       "      <td>0.834130</td>\n",
       "      <td>3.689459e+06</td>\n",
       "      <td>1920.796541</td>\n",
       "      <td>0.108818</td>\n",
       "      <td>0.930527</td>\n",
       "    </tr>\n",
       "    <tr>\n",
       "      <th>6</th>\n",
       "      <td>RandomForestRegressor(max_depth=10)</td>\n",
       "      <td>0.844612</td>\n",
       "      <td>3.456307e+06</td>\n",
       "      <td>1859.114652</td>\n",
       "      <td>0.099724</td>\n",
       "      <td>0.933757</td>\n",
       "    </tr>\n",
       "    <tr>\n",
       "      <th>7</th>\n",
       "      <td>AdaBoostRegressor(base_estimator=RandomForestR...</td>\n",
       "      <td>0.461110</td>\n",
       "      <td>1.198659e+07</td>\n",
       "      <td>3462.164966</td>\n",
       "      <td>0.373383</td>\n",
       "      <td>0.833523</td>\n",
       "    </tr>\n",
       "    <tr>\n",
       "      <th>8</th>\n",
       "      <td>GradientBoostingRegressor(max_depth=7, n_estim...</td>\n",
       "      <td>0.883257</td>\n",
       "      <td>2.596718e+06</td>\n",
       "      <td>1611.433482</td>\n",
       "      <td>0.089365</td>\n",
       "      <td>0.940909</td>\n",
       "    </tr>\n",
       "    <tr>\n",
       "      <th>9</th>\n",
       "      <td>XGBRegressor(base_score=None, booster=None, ca...</td>\n",
       "      <td>0.891031</td>\n",
       "      <td>2.423812e+06</td>\n",
       "      <td>1556.859764</td>\n",
       "      <td>0.080602</td>\n",
       "      <td>0.942688</td>\n",
       "    </tr>\n",
       "    <tr>\n",
       "      <th>10</th>\n",
       "      <td>VotingRegressor(estimators=[('Dt', DecisionTre...</td>\n",
       "      <td>0.869205</td>\n",
       "      <td>2.909290e+06</td>\n",
       "      <td>1705.664193</td>\n",
       "      <td>0.091577</td>\n",
       "      <td>0.938809</td>\n",
       "    </tr>\n",
       "    <tr>\n",
       "      <th>11</th>\n",
       "      <td>StackingRegressor(estimators=[('Dt', DecisionT...</td>\n",
       "      <td>0.888754</td>\n",
       "      <td>2.474462e+06</td>\n",
       "      <td>1573.042173</td>\n",
       "      <td>0.080044</td>\n",
       "      <td>0.943586</td>\n",
       "    </tr>\n",
       "  </tbody>\n",
       "</table>\n",
       "</div>"
      ],
      "text/plain": [
       "                                                Model        R2           MSE  \\\n",
       "0                                  LinearRegression()  0.496057  1.120927e+07   \n",
       "1                                      Lasso(alpha=1)  0.496089  1.120855e+07   \n",
       "2                  DecisionTreeRegressor(max_depth=5)  0.618895  8.476972e+06   \n",
       "3                  DecisionTreeRegressor(max_depth=9)  0.785069  4.780731e+06   \n",
       "4                  RandomForestRegressor(max_depth=5)  0.676602  7.193388e+06   \n",
       "5                  RandomForestRegressor(max_depth=9)  0.834130  3.689459e+06   \n",
       "6                 RandomForestRegressor(max_depth=10)  0.844612  3.456307e+06   \n",
       "7   AdaBoostRegressor(base_estimator=RandomForestR...  0.461110  1.198659e+07   \n",
       "8   GradientBoostingRegressor(max_depth=7, n_estim...  0.883257  2.596718e+06   \n",
       "9   XGBRegressor(base_score=None, booster=None, ca...  0.891031  2.423812e+06   \n",
       "10  VotingRegressor(estimators=[('Dt', DecisionTre...  0.869205  2.909290e+06   \n",
       "11  StackingRegressor(estimators=[('Dt', DecisionT...  0.888754  2.474462e+06   \n",
       "\n",
       "           RMSE      MAPE  Hackathon score  \n",
       "0   3348.024435  0.271723         0.852278  \n",
       "1   3347.916743  0.271647         0.839422  \n",
       "2   2911.524036  0.204219         0.886502  \n",
       "3   2186.488328  0.127541         0.918124  \n",
       "4   2682.049236  0.188221         0.894819  \n",
       "5   1920.796541  0.108818         0.930527  \n",
       "6   1859.114652  0.099724         0.933757  \n",
       "7   3462.164966  0.373383         0.833523  \n",
       "8   1611.433482  0.089365         0.940909  \n",
       "9   1556.859764  0.080602         0.942688  \n",
       "10  1705.664193  0.091577         0.938809  \n",
       "11  1573.042173  0.080044         0.943586  "
      ]
     },
     "execution_count": 525,
     "metadata": {},
     "output_type": "execute_result"
    }
   ],
   "source": [
    "score_card"
   ]
  },
  {
   "cell_type": "markdown",
   "id": "3553a3d1",
   "metadata": {},
   "source": [
    "### Let's tune XGBRegressor"
   ]
  },
  {
   "cell_type": "code",
   "execution_count": 526,
   "id": "c0b92d27",
   "metadata": {},
   "outputs": [],
   "source": [
    "param = {'n_estimators':[100,200,130,150,170,180,200],\n",
    "        'max_depth':[8,9,10,11,12],\n",
    "        'gamma':[0,1,2]}"
   ]
  },
  {
   "cell_type": "code",
   "execution_count": 527,
   "id": "8b8aabf1",
   "metadata": {},
   "outputs": [],
   "source": [
    "from sklearn.model_selection import GridSearchCV"
   ]
  },
  {
   "cell_type": "code",
   "execution_count": 529,
   "id": "06115503",
   "metadata": {},
   "outputs": [],
   "source": [
    "gscv = GridSearchCV(estimator=XGBRegressor(),\n",
    "                   param_grid=param,\n",
    "                   scoring='r2',\n",
    "                   verbose=3,\n",
    "                   cv=5)"
   ]
  },
  {
   "cell_type": "code",
   "execution_count": 530,
   "id": "dbb1d4d4",
   "metadata": {},
   "outputs": [
    {
     "name": "stdout",
     "output_type": "stream",
     "text": [
      "Fitting 5 folds for each of 105 candidates, totalling 525 fits\n",
      "[CV 1/5] END gamma=0, max_depth=8, n_estimators=100;, score=0.892 total time=   0.3s\n",
      "[CV 2/5] END gamma=0, max_depth=8, n_estimators=100;, score=0.894 total time=   0.3s\n",
      "[CV 3/5] END gamma=0, max_depth=8, n_estimators=100;, score=0.904 total time=   0.3s\n",
      "[CV 4/5] END gamma=0, max_depth=8, n_estimators=100;, score=0.854 total time=   0.2s\n",
      "[CV 5/5] END gamma=0, max_depth=8, n_estimators=100;, score=0.908 total time=   0.2s\n",
      "[CV 1/5] END gamma=0, max_depth=8, n_estimators=200;, score=0.890 total time=   0.5s\n",
      "[CV 2/5] END gamma=0, max_depth=8, n_estimators=200;, score=0.891 total time=   0.5s\n",
      "[CV 3/5] END gamma=0, max_depth=8, n_estimators=200;, score=0.901 total time=   0.5s\n",
      "[CV 4/5] END gamma=0, max_depth=8, n_estimators=200;, score=0.852 total time=   0.5s\n",
      "[CV 5/5] END gamma=0, max_depth=8, n_estimators=200;, score=0.907 total time=   0.5s\n",
      "[CV 1/5] END gamma=0, max_depth=8, n_estimators=130;, score=0.892 total time=   0.3s\n",
      "[CV 2/5] END gamma=0, max_depth=8, n_estimators=130;, score=0.893 total time=   0.3s\n",
      "[CV 3/5] END gamma=0, max_depth=8, n_estimators=130;, score=0.903 total time=   0.3s\n",
      "[CV 4/5] END gamma=0, max_depth=8, n_estimators=130;, score=0.853 total time=   0.3s\n",
      "[CV 5/5] END gamma=0, max_depth=8, n_estimators=130;, score=0.908 total time=   0.3s\n",
      "[CV 1/5] END gamma=0, max_depth=8, n_estimators=150;, score=0.891 total time=   0.4s\n",
      "[CV 2/5] END gamma=0, max_depth=8, n_estimators=150;, score=0.892 total time=   0.4s\n",
      "[CV 3/5] END gamma=0, max_depth=8, n_estimators=150;, score=0.903 total time=   0.4s\n",
      "[CV 4/5] END gamma=0, max_depth=8, n_estimators=150;, score=0.853 total time=   0.4s\n",
      "[CV 5/5] END gamma=0, max_depth=8, n_estimators=150;, score=0.908 total time=   0.4s\n",
      "[CV 1/5] END gamma=0, max_depth=8, n_estimators=170;, score=0.891 total time=   0.4s\n",
      "[CV 2/5] END gamma=0, max_depth=8, n_estimators=170;, score=0.892 total time=   0.4s\n",
      "[CV 3/5] END gamma=0, max_depth=8, n_estimators=170;, score=0.902 total time=   0.4s\n",
      "[CV 4/5] END gamma=0, max_depth=8, n_estimators=170;, score=0.853 total time=   0.3s\n",
      "[CV 5/5] END gamma=0, max_depth=8, n_estimators=170;, score=0.907 total time=   0.3s\n",
      "[CV 1/5] END gamma=0, max_depth=8, n_estimators=180;, score=0.891 total time=   0.3s\n",
      "[CV 2/5] END gamma=0, max_depth=8, n_estimators=180;, score=0.891 total time=   0.3s\n",
      "[CV 3/5] END gamma=0, max_depth=8, n_estimators=180;, score=0.902 total time=   0.3s\n",
      "[CV 4/5] END gamma=0, max_depth=8, n_estimators=180;, score=0.852 total time=   0.3s\n",
      "[CV 5/5] END gamma=0, max_depth=8, n_estimators=180;, score=0.907 total time=   0.3s\n",
      "[CV 1/5] END gamma=0, max_depth=8, n_estimators=200;, score=0.890 total time=   0.4s\n",
      "[CV 2/5] END gamma=0, max_depth=8, n_estimators=200;, score=0.891 total time=   0.4s\n",
      "[CV 3/5] END gamma=0, max_depth=8, n_estimators=200;, score=0.901 total time=   0.4s\n",
      "[CV 4/5] END gamma=0, max_depth=8, n_estimators=200;, score=0.852 total time=   0.4s\n",
      "[CV 5/5] END gamma=0, max_depth=8, n_estimators=200;, score=0.907 total time=   0.4s\n",
      "[CV 1/5] END gamma=0, max_depth=9, n_estimators=100;, score=0.895 total time=   0.2s\n",
      "[CV 2/5] END gamma=0, max_depth=9, n_estimators=100;, score=0.892 total time=   0.2s\n",
      "[CV 3/5] END gamma=0, max_depth=9, n_estimators=100;, score=0.902 total time=   0.2s\n",
      "[CV 4/5] END gamma=0, max_depth=9, n_estimators=100;, score=0.862 total time=   0.2s\n",
      "[CV 5/5] END gamma=0, max_depth=9, n_estimators=100;, score=0.896 total time=   0.2s\n",
      "[CV 1/5] END gamma=0, max_depth=9, n_estimators=200;, score=0.892 total time=   0.5s\n",
      "[CV 2/5] END gamma=0, max_depth=9, n_estimators=200;, score=0.891 total time=   0.5s\n",
      "[CV 3/5] END gamma=0, max_depth=9, n_estimators=200;, score=0.900 total time=   0.5s\n",
      "[CV 4/5] END gamma=0, max_depth=9, n_estimators=200;, score=0.861 total time=   0.5s\n",
      "[CV 5/5] END gamma=0, max_depth=9, n_estimators=200;, score=0.893 total time=   0.5s\n",
      "[CV 1/5] END gamma=0, max_depth=9, n_estimators=130;, score=0.894 total time=   0.3s\n",
      "[CV 2/5] END gamma=0, max_depth=9, n_estimators=130;, score=0.891 total time=   0.3s\n",
      "[CV 3/5] END gamma=0, max_depth=9, n_estimators=130;, score=0.901 total time=   0.3s\n",
      "[CV 4/5] END gamma=0, max_depth=9, n_estimators=130;, score=0.861 total time=   0.3s\n",
      "[CV 5/5] END gamma=0, max_depth=9, n_estimators=130;, score=0.895 total time=   0.3s\n",
      "[CV 1/5] END gamma=0, max_depth=9, n_estimators=150;, score=0.893 total time=   0.3s\n",
      "[CV 2/5] END gamma=0, max_depth=9, n_estimators=150;, score=0.891 total time=   0.3s\n",
      "[CV 3/5] END gamma=0, max_depth=9, n_estimators=150;, score=0.900 total time=   0.3s\n",
      "[CV 4/5] END gamma=0, max_depth=9, n_estimators=150;, score=0.861 total time=   0.4s\n",
      "[CV 5/5] END gamma=0, max_depth=9, n_estimators=150;, score=0.894 total time=   0.4s\n",
      "[CV 1/5] END gamma=0, max_depth=9, n_estimators=170;, score=0.893 total time=   0.5s\n",
      "[CV 2/5] END gamma=0, max_depth=9, n_estimators=170;, score=0.891 total time=   0.4s\n",
      "[CV 3/5] END gamma=0, max_depth=9, n_estimators=170;, score=0.900 total time=   0.4s\n",
      "[CV 4/5] END gamma=0, max_depth=9, n_estimators=170;, score=0.861 total time=   0.5s\n",
      "[CV 5/5] END gamma=0, max_depth=9, n_estimators=170;, score=0.894 total time=   0.5s\n",
      "[CV 1/5] END gamma=0, max_depth=9, n_estimators=180;, score=0.893 total time=   0.4s\n",
      "[CV 2/5] END gamma=0, max_depth=9, n_estimators=180;, score=0.891 total time=   0.4s\n",
      "[CV 3/5] END gamma=0, max_depth=9, n_estimators=180;, score=0.900 total time=   0.4s\n",
      "[CV 4/5] END gamma=0, max_depth=9, n_estimators=180;, score=0.861 total time=   0.4s\n",
      "[CV 5/5] END gamma=0, max_depth=9, n_estimators=180;, score=0.894 total time=   0.4s\n",
      "[CV 1/5] END gamma=0, max_depth=9, n_estimators=200;, score=0.892 total time=   0.5s\n",
      "[CV 2/5] END gamma=0, max_depth=9, n_estimators=200;, score=0.891 total time=   0.6s\n",
      "[CV 3/5] END gamma=0, max_depth=9, n_estimators=200;, score=0.900 total time=   0.6s\n",
      "[CV 4/5] END gamma=0, max_depth=9, n_estimators=200;, score=0.861 total time=   0.5s\n",
      "[CV 5/5] END gamma=0, max_depth=9, n_estimators=200;, score=0.893 total time=   0.5s\n",
      "[CV 1/5] END gamma=0, max_depth=10, n_estimators=100;, score=0.889 total time=   0.2s\n",
      "[CV 2/5] END gamma=0, max_depth=10, n_estimators=100;, score=0.887 total time=   0.2s\n",
      "[CV 3/5] END gamma=0, max_depth=10, n_estimators=100;, score=0.897 total time=   0.3s\n",
      "[CV 4/5] END gamma=0, max_depth=10, n_estimators=100;, score=0.854 total time=   0.2s\n",
      "[CV 5/5] END gamma=0, max_depth=10, n_estimators=100;, score=0.906 total time=   0.3s\n",
      "[CV 1/5] END gamma=0, max_depth=10, n_estimators=200;, score=0.888 total time=   0.7s\n",
      "[CV 2/5] END gamma=0, max_depth=10, n_estimators=200;, score=0.886 total time=   0.8s\n",
      "[CV 3/5] END gamma=0, max_depth=10, n_estimators=200;, score=0.896 total time=   0.6s\n",
      "[CV 4/5] END gamma=0, max_depth=10, n_estimators=200;, score=0.853 total time=   0.8s\n",
      "[CV 5/5] END gamma=0, max_depth=10, n_estimators=200;, score=0.904 total time=   0.7s\n",
      "[CV 1/5] END gamma=0, max_depth=10, n_estimators=130;, score=0.889 total time=   0.5s\n",
      "[CV 2/5] END gamma=0, max_depth=10, n_estimators=130;, score=0.887 total time=   0.5s\n",
      "[CV 3/5] END gamma=0, max_depth=10, n_estimators=130;, score=0.896 total time=   0.4s\n",
      "[CV 4/5] END gamma=0, max_depth=10, n_estimators=130;, score=0.853 total time=   0.5s\n",
      "[CV 5/5] END gamma=0, max_depth=10, n_estimators=130;, score=0.905 total time=   0.5s\n",
      "[CV 1/5] END gamma=0, max_depth=10, n_estimators=150;, score=0.888 total time=   0.5s\n",
      "[CV 2/5] END gamma=0, max_depth=10, n_estimators=150;, score=0.886 total time=   0.6s\n",
      "[CV 3/5] END gamma=0, max_depth=10, n_estimators=150;, score=0.896 total time=   0.5s\n",
      "[CV 4/5] END gamma=0, max_depth=10, n_estimators=150;, score=0.853 total time=   0.6s\n",
      "[CV 5/5] END gamma=0, max_depth=10, n_estimators=150;, score=0.905 total time=   0.5s\n",
      "[CV 1/5] END gamma=0, max_depth=10, n_estimators=170;, score=0.888 total time=   0.6s\n",
      "[CV 2/5] END gamma=0, max_depth=10, n_estimators=170;, score=0.886 total time=   0.7s\n",
      "[CV 3/5] END gamma=0, max_depth=10, n_estimators=170;, score=0.896 total time=   0.5s\n",
      "[CV 4/5] END gamma=0, max_depth=10, n_estimators=170;, score=0.853 total time=   0.6s\n",
      "[CV 5/5] END gamma=0, max_depth=10, n_estimators=170;, score=0.905 total time=   0.6s\n",
      "[CV 1/5] END gamma=0, max_depth=10, n_estimators=180;, score=0.888 total time=   0.7s\n"
     ]
    },
    {
     "name": "stdout",
     "output_type": "stream",
     "text": [
      "[CV 2/5] END gamma=0, max_depth=10, n_estimators=180;, score=0.886 total time=   0.6s\n",
      "[CV 3/5] END gamma=0, max_depth=10, n_estimators=180;, score=0.896 total time=   0.7s\n",
      "[CV 4/5] END gamma=0, max_depth=10, n_estimators=180;, score=0.853 total time=   0.6s\n",
      "[CV 5/5] END gamma=0, max_depth=10, n_estimators=180;, score=0.905 total time=   0.7s\n",
      "[CV 1/5] END gamma=0, max_depth=10, n_estimators=200;, score=0.888 total time=   0.6s\n",
      "[CV 2/5] END gamma=0, max_depth=10, n_estimators=200;, score=0.886 total time=   0.7s\n",
      "[CV 3/5] END gamma=0, max_depth=10, n_estimators=200;, score=0.896 total time=   0.8s\n",
      "[CV 4/5] END gamma=0, max_depth=10, n_estimators=200;, score=0.853 total time=   0.6s\n",
      "[CV 5/5] END gamma=0, max_depth=10, n_estimators=200;, score=0.904 total time=   0.7s\n",
      "[CV 1/5] END gamma=0, max_depth=11, n_estimators=100;, score=0.887 total time=   0.3s\n",
      "[CV 2/5] END gamma=0, max_depth=11, n_estimators=100;, score=0.893 total time=   0.3s\n",
      "[CV 3/5] END gamma=0, max_depth=11, n_estimators=100;, score=0.890 total time=   0.3s\n",
      "[CV 4/5] END gamma=0, max_depth=11, n_estimators=100;, score=0.851 total time=   0.4s\n",
      "[CV 5/5] END gamma=0, max_depth=11, n_estimators=100;, score=0.904 total time=   0.3s\n",
      "[CV 1/5] END gamma=0, max_depth=11, n_estimators=200;, score=0.887 total time=   0.9s\n",
      "[CV 2/5] END gamma=0, max_depth=11, n_estimators=200;, score=0.893 total time=   0.8s\n",
      "[CV 3/5] END gamma=0, max_depth=11, n_estimators=200;, score=0.889 total time=   0.9s\n",
      "[CV 4/5] END gamma=0, max_depth=11, n_estimators=200;, score=0.850 total time=   0.9s\n",
      "[CV 5/5] END gamma=0, max_depth=11, n_estimators=200;, score=0.903 total time=   0.8s\n",
      "[CV 1/5] END gamma=0, max_depth=11, n_estimators=130;, score=0.887 total time=   0.6s\n",
      "[CV 2/5] END gamma=0, max_depth=11, n_estimators=130;, score=0.893 total time=   0.5s\n",
      "[CV 3/5] END gamma=0, max_depth=11, n_estimators=130;, score=0.889 total time=   0.5s\n",
      "[CV 4/5] END gamma=0, max_depth=11, n_estimators=130;, score=0.850 total time=   0.5s\n",
      "[CV 5/5] END gamma=0, max_depth=11, n_estimators=130;, score=0.904 total time=   0.5s\n",
      "[CV 1/5] END gamma=0, max_depth=11, n_estimators=150;, score=0.887 total time=   0.6s\n",
      "[CV 2/5] END gamma=0, max_depth=11, n_estimators=150;, score=0.893 total time=   0.6s\n",
      "[CV 3/5] END gamma=0, max_depth=11, n_estimators=150;, score=0.889 total time=   0.7s\n",
      "[CV 4/5] END gamma=0, max_depth=11, n_estimators=150;, score=0.850 total time=   0.6s\n",
      "[CV 5/5] END gamma=0, max_depth=11, n_estimators=150;, score=0.904 total time=   0.6s\n",
      "[CV 1/5] END gamma=0, max_depth=11, n_estimators=170;, score=0.887 total time=   0.7s\n",
      "[CV 2/5] END gamma=0, max_depth=11, n_estimators=170;, score=0.893 total time=   0.6s\n",
      "[CV 3/5] END gamma=0, max_depth=11, n_estimators=170;, score=0.889 total time=   0.7s\n",
      "[CV 4/5] END gamma=0, max_depth=11, n_estimators=170;, score=0.850 total time=   0.7s\n",
      "[CV 5/5] END gamma=0, max_depth=11, n_estimators=170;, score=0.903 total time=   0.6s\n",
      "[CV 1/5] END gamma=0, max_depth=11, n_estimators=180;, score=0.887 total time=   0.8s\n",
      "[CV 2/5] END gamma=0, max_depth=11, n_estimators=180;, score=0.893 total time=   0.7s\n",
      "[CV 3/5] END gamma=0, max_depth=11, n_estimators=180;, score=0.889 total time=   0.7s\n",
      "[CV 4/5] END gamma=0, max_depth=11, n_estimators=180;, score=0.850 total time=   0.7s\n",
      "[CV 5/5] END gamma=0, max_depth=11, n_estimators=180;, score=0.903 total time=   0.8s\n",
      "[CV 1/5] END gamma=0, max_depth=11, n_estimators=200;, score=0.887 total time=   0.7s\n",
      "[CV 2/5] END gamma=0, max_depth=11, n_estimators=200;, score=0.893 total time=   0.8s\n",
      "[CV 3/5] END gamma=0, max_depth=11, n_estimators=200;, score=0.889 total time=   0.8s\n",
      "[CV 4/5] END gamma=0, max_depth=11, n_estimators=200;, score=0.850 total time=   0.8s\n",
      "[CV 5/5] END gamma=0, max_depth=11, n_estimators=200;, score=0.903 total time=   0.8s\n",
      "[CV 1/5] END gamma=0, max_depth=12, n_estimators=100;, score=0.882 total time=   0.4s\n",
      "[CV 2/5] END gamma=0, max_depth=12, n_estimators=100;, score=0.890 total time=   0.4s\n",
      "[CV 3/5] END gamma=0, max_depth=12, n_estimators=100;, score=0.897 total time=   0.4s\n",
      "[CV 4/5] END gamma=0, max_depth=12, n_estimators=100;, score=0.850 total time=   0.5s\n",
      "[CV 5/5] END gamma=0, max_depth=12, n_estimators=100;, score=0.904 total time=   0.5s\n",
      "[CV 1/5] END gamma=0, max_depth=12, n_estimators=200;, score=0.882 total time=   1.0s\n",
      "[CV 2/5] END gamma=0, max_depth=12, n_estimators=200;, score=0.890 total time=   0.9s\n",
      "[CV 3/5] END gamma=0, max_depth=12, n_estimators=200;, score=0.897 total time=   0.9s\n",
      "[CV 4/5] END gamma=0, max_depth=12, n_estimators=200;, score=0.850 total time=   0.9s\n",
      "[CV 5/5] END gamma=0, max_depth=12, n_estimators=200;, score=0.904 total time=   1.0s\n",
      "[CV 1/5] END gamma=0, max_depth=12, n_estimators=130;, score=0.882 total time=   0.5s\n",
      "[CV 2/5] END gamma=0, max_depth=12, n_estimators=130;, score=0.890 total time=   0.5s\n",
      "[CV 3/5] END gamma=0, max_depth=12, n_estimators=130;, score=0.897 total time=   0.6s\n",
      "[CV 4/5] END gamma=0, max_depth=12, n_estimators=130;, score=0.850 total time=   0.5s\n",
      "[CV 5/5] END gamma=0, max_depth=12, n_estimators=130;, score=0.904 total time=   0.6s\n",
      "[CV 1/5] END gamma=0, max_depth=12, n_estimators=150;, score=0.882 total time=   0.7s\n",
      "[CV 2/5] END gamma=0, max_depth=12, n_estimators=150;, score=0.890 total time=   0.7s\n",
      "[CV 3/5] END gamma=0, max_depth=12, n_estimators=150;, score=0.897 total time=   0.6s\n",
      "[CV 4/5] END gamma=0, max_depth=12, n_estimators=150;, score=0.850 total time=   0.6s\n",
      "[CV 5/5] END gamma=0, max_depth=12, n_estimators=150;, score=0.904 total time=   0.6s\n",
      "[CV 1/5] END gamma=0, max_depth=12, n_estimators=170;, score=0.882 total time=   0.7s\n",
      "[CV 2/5] END gamma=0, max_depth=12, n_estimators=170;, score=0.890 total time=   0.7s\n",
      "[CV 3/5] END gamma=0, max_depth=12, n_estimators=170;, score=0.897 total time=   0.7s\n",
      "[CV 4/5] END gamma=0, max_depth=12, n_estimators=170;, score=0.850 total time=   0.7s\n",
      "[CV 5/5] END gamma=0, max_depth=12, n_estimators=170;, score=0.904 total time=   0.7s\n",
      "[CV 1/5] END gamma=0, max_depth=12, n_estimators=180;, score=0.882 total time=   0.8s\n",
      "[CV 2/5] END gamma=0, max_depth=12, n_estimators=180;, score=0.890 total time=   0.8s\n",
      "[CV 3/5] END gamma=0, max_depth=12, n_estimators=180;, score=0.897 total time=   0.8s\n",
      "[CV 4/5] END gamma=0, max_depth=12, n_estimators=180;, score=0.850 total time=   0.8s\n",
      "[CV 5/5] END gamma=0, max_depth=12, n_estimators=180;, score=0.904 total time=   0.8s\n",
      "[CV 1/5] END gamma=0, max_depth=12, n_estimators=200;, score=0.882 total time=   0.9s\n",
      "[CV 2/5] END gamma=0, max_depth=12, n_estimators=200;, score=0.890 total time=   1.0s\n",
      "[CV 3/5] END gamma=0, max_depth=12, n_estimators=200;, score=0.897 total time=   0.9s\n",
      "[CV 4/5] END gamma=0, max_depth=12, n_estimators=200;, score=0.850 total time=   0.9s\n",
      "[CV 5/5] END gamma=0, max_depth=12, n_estimators=200;, score=0.904 total time=   0.9s\n",
      "[CV 1/5] END gamma=1, max_depth=8, n_estimators=100;, score=0.892 total time=   0.1s\n",
      "[CV 2/5] END gamma=1, max_depth=8, n_estimators=100;, score=0.894 total time=   0.2s\n",
      "[CV 3/5] END gamma=1, max_depth=8, n_estimators=100;, score=0.904 total time=   0.1s\n",
      "[CV 4/5] END gamma=1, max_depth=8, n_estimators=100;, score=0.854 total time=   0.2s\n",
      "[CV 5/5] END gamma=1, max_depth=8, n_estimators=100;, score=0.908 total time=   0.1s\n",
      "[CV 1/5] END gamma=1, max_depth=8, n_estimators=200;, score=0.890 total time=   0.4s\n",
      "[CV 2/5] END gamma=1, max_depth=8, n_estimators=200;, score=0.891 total time=   0.4s\n",
      "[CV 3/5] END gamma=1, max_depth=8, n_estimators=200;, score=0.901 total time=   0.4s\n",
      "[CV 4/5] END gamma=1, max_depth=8, n_estimators=200;, score=0.852 total time=   0.4s\n",
      "[CV 5/5] END gamma=1, max_depth=8, n_estimators=200;, score=0.907 total time=   0.4s\n",
      "[CV 1/5] END gamma=1, max_depth=8, n_estimators=130;, score=0.892 total time=   0.2s\n",
      "[CV 2/5] END gamma=1, max_depth=8, n_estimators=130;, score=0.893 total time=   0.2s\n",
      "[CV 3/5] END gamma=1, max_depth=8, n_estimators=130;, score=0.903 total time=   0.2s\n",
      "[CV 4/5] END gamma=1, max_depth=8, n_estimators=130;, score=0.853 total time=   0.2s\n",
      "[CV 5/5] END gamma=1, max_depth=8, n_estimators=130;, score=0.908 total time=   0.2s\n",
      "[CV 1/5] END gamma=1, max_depth=8, n_estimators=150;, score=0.891 total time=   0.3s\n",
      "[CV 2/5] END gamma=1, max_depth=8, n_estimators=150;, score=0.892 total time=   0.3s\n"
     ]
    },
    {
     "name": "stdout",
     "output_type": "stream",
     "text": [
      "[CV 3/5] END gamma=1, max_depth=8, n_estimators=150;, score=0.903 total time=   0.3s\n",
      "[CV 4/5] END gamma=1, max_depth=8, n_estimators=150;, score=0.853 total time=   0.3s\n",
      "[CV 5/5] END gamma=1, max_depth=8, n_estimators=150;, score=0.908 total time=   0.3s\n",
      "[CV 1/5] END gamma=1, max_depth=8, n_estimators=170;, score=0.891 total time=   0.3s\n",
      "[CV 2/5] END gamma=1, max_depth=8, n_estimators=170;, score=0.892 total time=   0.3s\n",
      "[CV 3/5] END gamma=1, max_depth=8, n_estimators=170;, score=0.902 total time=   0.3s\n",
      "[CV 4/5] END gamma=1, max_depth=8, n_estimators=170;, score=0.853 total time=   0.3s\n",
      "[CV 5/5] END gamma=1, max_depth=8, n_estimators=170;, score=0.907 total time=   0.3s\n",
      "[CV 1/5] END gamma=1, max_depth=8, n_estimators=180;, score=0.891 total time=   0.3s\n",
      "[CV 2/5] END gamma=1, max_depth=8, n_estimators=180;, score=0.891 total time=   0.3s\n",
      "[CV 3/5] END gamma=1, max_depth=8, n_estimators=180;, score=0.902 total time=   0.3s\n",
      "[CV 4/5] END gamma=1, max_depth=8, n_estimators=180;, score=0.852 total time=   0.4s\n",
      "[CV 5/5] END gamma=1, max_depth=8, n_estimators=180;, score=0.907 total time=   0.4s\n",
      "[CV 1/5] END gamma=1, max_depth=8, n_estimators=200;, score=0.890 total time=   0.4s\n",
      "[CV 2/5] END gamma=1, max_depth=8, n_estimators=200;, score=0.891 total time=   0.4s\n",
      "[CV 3/5] END gamma=1, max_depth=8, n_estimators=200;, score=0.901 total time=   0.4s\n",
      "[CV 4/5] END gamma=1, max_depth=8, n_estimators=200;, score=0.852 total time=   0.4s\n",
      "[CV 5/5] END gamma=1, max_depth=8, n_estimators=200;, score=0.907 total time=   0.4s\n",
      "[CV 1/5] END gamma=1, max_depth=9, n_estimators=100;, score=0.895 total time=   0.2s\n",
      "[CV 2/5] END gamma=1, max_depth=9, n_estimators=100;, score=0.892 total time=   0.2s\n",
      "[CV 3/5] END gamma=1, max_depth=9, n_estimators=100;, score=0.902 total time=   0.2s\n",
      "[CV 4/5] END gamma=1, max_depth=9, n_estimators=100;, score=0.862 total time=   0.2s\n",
      "[CV 5/5] END gamma=1, max_depth=9, n_estimators=100;, score=0.896 total time=   0.2s\n",
      "[CV 1/5] END gamma=1, max_depth=9, n_estimators=200;, score=0.893 total time=   0.5s\n",
      "[CV 2/5] END gamma=1, max_depth=9, n_estimators=200;, score=0.890 total time=   0.5s\n",
      "[CV 3/5] END gamma=1, max_depth=9, n_estimators=200;, score=0.899 total time=   0.5s\n",
      "[CV 4/5] END gamma=1, max_depth=9, n_estimators=200;, score=0.861 total time=   0.5s\n",
      "[CV 5/5] END gamma=1, max_depth=9, n_estimators=200;, score=0.894 total time=   0.5s\n",
      "[CV 1/5] END gamma=1, max_depth=9, n_estimators=130;, score=0.894 total time=   0.3s\n",
      "[CV 2/5] END gamma=1, max_depth=9, n_estimators=130;, score=0.891 total time=   0.3s\n",
      "[CV 3/5] END gamma=1, max_depth=9, n_estimators=130;, score=0.901 total time=   0.3s\n",
      "[CV 4/5] END gamma=1, max_depth=9, n_estimators=130;, score=0.862 total time=   0.3s\n",
      "[CV 5/5] END gamma=1, max_depth=9, n_estimators=130;, score=0.895 total time=   0.3s\n",
      "[CV 1/5] END gamma=1, max_depth=9, n_estimators=150;, score=0.893 total time=   0.4s\n",
      "[CV 2/5] END gamma=1, max_depth=9, n_estimators=150;, score=0.891 total time=   0.4s\n",
      "[CV 3/5] END gamma=1, max_depth=9, n_estimators=150;, score=0.900 total time=   0.4s\n",
      "[CV 4/5] END gamma=1, max_depth=9, n_estimators=150;, score=0.861 total time=   0.4s\n",
      "[CV 5/5] END gamma=1, max_depth=9, n_estimators=150;, score=0.894 total time=   0.4s\n",
      "[CV 1/5] END gamma=1, max_depth=9, n_estimators=170;, score=0.893 total time=   0.4s\n",
      "[CV 2/5] END gamma=1, max_depth=9, n_estimators=170;, score=0.890 total time=   0.4s\n",
      "[CV 3/5] END gamma=1, max_depth=9, n_estimators=170;, score=0.900 total time=   0.5s\n",
      "[CV 4/5] END gamma=1, max_depth=9, n_estimators=170;, score=0.861 total time=   0.4s\n",
      "[CV 5/5] END gamma=1, max_depth=9, n_estimators=170;, score=0.894 total time=   0.4s\n",
      "[CV 1/5] END gamma=1, max_depth=9, n_estimators=180;, score=0.893 total time=   0.4s\n",
      "[CV 2/5] END gamma=1, max_depth=9, n_estimators=180;, score=0.890 total time=   0.5s\n",
      "[CV 3/5] END gamma=1, max_depth=9, n_estimators=180;, score=0.900 total time=   0.5s\n",
      "[CV 4/5] END gamma=1, max_depth=9, n_estimators=180;, score=0.861 total time=   0.5s\n",
      "[CV 5/5] END gamma=1, max_depth=9, n_estimators=180;, score=0.894 total time=   0.5s\n",
      "[CV 1/5] END gamma=1, max_depth=9, n_estimators=200;, score=0.893 total time=   0.5s\n",
      "[CV 2/5] END gamma=1, max_depth=9, n_estimators=200;, score=0.890 total time=   0.6s\n",
      "[CV 3/5] END gamma=1, max_depth=9, n_estimators=200;, score=0.899 total time=   0.5s\n",
      "[CV 4/5] END gamma=1, max_depth=9, n_estimators=200;, score=0.861 total time=   0.7s\n",
      "[CV 5/5] END gamma=1, max_depth=9, n_estimators=200;, score=0.894 total time=   0.5s\n",
      "[CV 1/5] END gamma=1, max_depth=10, n_estimators=100;, score=0.889 total time=   0.2s\n",
      "[CV 2/5] END gamma=1, max_depth=10, n_estimators=100;, score=0.887 total time=   0.2s\n",
      "[CV 3/5] END gamma=1, max_depth=10, n_estimators=100;, score=0.897 total time=   0.3s\n",
      "[CV 4/5] END gamma=1, max_depth=10, n_estimators=100;, score=0.854 total time=   0.3s\n",
      "[CV 5/5] END gamma=1, max_depth=10, n_estimators=100;, score=0.905 total time=   0.3s\n",
      "[CV 1/5] END gamma=1, max_depth=10, n_estimators=200;, score=0.888 total time=   0.8s\n",
      "[CV 2/5] END gamma=1, max_depth=10, n_estimators=200;, score=0.886 total time=   0.6s\n",
      "[CV 3/5] END gamma=1, max_depth=10, n_estimators=200;, score=0.896 total time=   0.6s\n",
      "[CV 4/5] END gamma=1, max_depth=10, n_estimators=200;, score=0.853 total time=   0.8s\n",
      "[CV 5/5] END gamma=1, max_depth=10, n_estimators=200;, score=0.904 total time=   0.7s\n",
      "[CV 1/5] END gamma=1, max_depth=10, n_estimators=130;, score=0.889 total time=   0.4s\n",
      "[CV 2/5] END gamma=1, max_depth=10, n_estimators=130;, score=0.887 total time=   0.4s\n",
      "[CV 3/5] END gamma=1, max_depth=10, n_estimators=130;, score=0.897 total time=   0.4s\n",
      "[CV 4/5] END gamma=1, max_depth=10, n_estimators=130;, score=0.853 total time=   0.4s\n",
      "[CV 5/5] END gamma=1, max_depth=10, n_estimators=130;, score=0.905 total time=   0.4s\n",
      "[CV 1/5] END gamma=1, max_depth=10, n_estimators=150;, score=0.889 total time=   0.5s\n",
      "[CV 2/5] END gamma=1, max_depth=10, n_estimators=150;, score=0.886 total time=   0.4s\n",
      "[CV 3/5] END gamma=1, max_depth=10, n_estimators=150;, score=0.896 total time=   0.5s\n",
      "[CV 4/5] END gamma=1, max_depth=10, n_estimators=150;, score=0.853 total time=   0.4s\n",
      "[CV 5/5] END gamma=1, max_depth=10, n_estimators=150;, score=0.905 total time=   0.4s\n",
      "[CV 1/5] END gamma=1, max_depth=10, n_estimators=170;, score=0.888 total time=   0.5s\n",
      "[CV 2/5] END gamma=1, max_depth=10, n_estimators=170;, score=0.886 total time=   0.5s\n",
      "[CV 3/5] END gamma=1, max_depth=10, n_estimators=170;, score=0.896 total time=   0.5s\n",
      "[CV 4/5] END gamma=1, max_depth=10, n_estimators=170;, score=0.853 total time=   0.5s\n",
      "[CV 5/5] END gamma=1, max_depth=10, n_estimators=170;, score=0.904 total time=   0.5s\n",
      "[CV 1/5] END gamma=1, max_depth=10, n_estimators=180;, score=0.888 total time=   0.5s\n",
      "[CV 2/5] END gamma=1, max_depth=10, n_estimators=180;, score=0.886 total time=   0.5s\n",
      "[CV 3/5] END gamma=1, max_depth=10, n_estimators=180;, score=0.896 total time=   0.5s\n",
      "[CV 4/5] END gamma=1, max_depth=10, n_estimators=180;, score=0.853 total time=   0.5s\n",
      "[CV 5/5] END gamma=1, max_depth=10, n_estimators=180;, score=0.904 total time=   0.5s\n",
      "[CV 1/5] END gamma=1, max_depth=10, n_estimators=200;, score=0.888 total time=   0.6s\n",
      "[CV 2/5] END gamma=1, max_depth=10, n_estimators=200;, score=0.886 total time=   0.6s\n",
      "[CV 3/5] END gamma=1, max_depth=10, n_estimators=200;, score=0.896 total time=   0.6s\n",
      "[CV 4/5] END gamma=1, max_depth=10, n_estimators=200;, score=0.853 total time=   0.6s\n",
      "[CV 5/5] END gamma=1, max_depth=10, n_estimators=200;, score=0.904 total time=   0.6s\n",
      "[CV 1/5] END gamma=1, max_depth=11, n_estimators=100;, score=0.887 total time=   0.3s\n",
      "[CV 2/5] END gamma=1, max_depth=11, n_estimators=100;, score=0.893 total time=   0.3s\n",
      "[CV 3/5] END gamma=1, max_depth=11, n_estimators=100;, score=0.890 total time=   0.3s\n",
      "[CV 4/5] END gamma=1, max_depth=11, n_estimators=100;, score=0.851 total time=   0.3s\n",
      "[CV 5/5] END gamma=1, max_depth=11, n_estimators=100;, score=0.904 total time=   0.3s\n",
      "[CV 1/5] END gamma=1, max_depth=11, n_estimators=200;, score=0.886 total time=   0.7s\n",
      "[CV 2/5] END gamma=1, max_depth=11, n_estimators=200;, score=0.893 total time=   0.7s\n",
      "[CV 3/5] END gamma=1, max_depth=11, n_estimators=200;, score=0.889 total time=   0.7s\n"
     ]
    },
    {
     "name": "stdout",
     "output_type": "stream",
     "text": [
      "[CV 4/5] END gamma=1, max_depth=11, n_estimators=200;, score=0.850 total time=   0.7s\n",
      "[CV 5/5] END gamma=1, max_depth=11, n_estimators=200;, score=0.903 total time=   0.7s\n",
      "[CV 1/5] END gamma=1, max_depth=11, n_estimators=130;, score=0.887 total time=   0.4s\n",
      "[CV 2/5] END gamma=1, max_depth=11, n_estimators=130;, score=0.893 total time=   0.5s\n",
      "[CV 3/5] END gamma=1, max_depth=11, n_estimators=130;, score=0.890 total time=   0.4s\n",
      "[CV 4/5] END gamma=1, max_depth=11, n_estimators=130;, score=0.850 total time=   0.5s\n",
      "[CV 5/5] END gamma=1, max_depth=11, n_estimators=130;, score=0.903 total time=   0.5s\n",
      "[CV 1/5] END gamma=1, max_depth=11, n_estimators=150;, score=0.886 total time=   0.5s\n",
      "[CV 2/5] END gamma=1, max_depth=11, n_estimators=150;, score=0.893 total time=   0.7s\n",
      "[CV 3/5] END gamma=1, max_depth=11, n_estimators=150;, score=0.889 total time=   0.6s\n",
      "[CV 4/5] END gamma=1, max_depth=11, n_estimators=150;, score=0.850 total time=   0.6s\n",
      "[CV 5/5] END gamma=1, max_depth=11, n_estimators=150;, score=0.903 total time=   0.6s\n",
      "[CV 1/5] END gamma=1, max_depth=11, n_estimators=170;, score=0.886 total time=   0.7s\n",
      "[CV 2/5] END gamma=1, max_depth=11, n_estimators=170;, score=0.893 total time=   0.6s\n",
      "[CV 3/5] END gamma=1, max_depth=11, n_estimators=170;, score=0.889 total time=   0.7s\n",
      "[CV 4/5] END gamma=1, max_depth=11, n_estimators=170;, score=0.850 total time=   0.7s\n",
      "[CV 5/5] END gamma=1, max_depth=11, n_estimators=170;, score=0.903 total time=   0.6s\n",
      "[CV 1/5] END gamma=1, max_depth=11, n_estimators=180;, score=0.886 total time=   0.7s\n",
      "[CV 2/5] END gamma=1, max_depth=11, n_estimators=180;, score=0.893 total time=   0.7s\n",
      "[CV 3/5] END gamma=1, max_depth=11, n_estimators=180;, score=0.889 total time=   0.6s\n",
      "[CV 4/5] END gamma=1, max_depth=11, n_estimators=180;, score=0.850 total time=   0.6s\n",
      "[CV 5/5] END gamma=1, max_depth=11, n_estimators=180;, score=0.903 total time=   0.6s\n",
      "[CV 1/5] END gamma=1, max_depth=11, n_estimators=200;, score=0.886 total time=   0.7s\n",
      "[CV 2/5] END gamma=1, max_depth=11, n_estimators=200;, score=0.893 total time=   0.7s\n",
      "[CV 3/5] END gamma=1, max_depth=11, n_estimators=200;, score=0.889 total time=   0.8s\n",
      "[CV 4/5] END gamma=1, max_depth=11, n_estimators=200;, score=0.850 total time=   0.8s\n",
      "[CV 5/5] END gamma=1, max_depth=11, n_estimators=200;, score=0.903 total time=   1.0s\n",
      "[CV 1/5] END gamma=1, max_depth=12, n_estimators=100;, score=0.882 total time=   0.5s\n",
      "[CV 2/5] END gamma=1, max_depth=12, n_estimators=100;, score=0.890 total time=   0.4s\n",
      "[CV 3/5] END gamma=1, max_depth=12, n_estimators=100;, score=0.897 total time=   0.4s\n",
      "[CV 4/5] END gamma=1, max_depth=12, n_estimators=100;, score=0.850 total time=   0.4s\n",
      "[CV 5/5] END gamma=1, max_depth=12, n_estimators=100;, score=0.904 total time=   0.4s\n",
      "[CV 1/5] END gamma=1, max_depth=12, n_estimators=200;, score=0.882 total time=   1.0s\n",
      "[CV 2/5] END gamma=1, max_depth=12, n_estimators=200;, score=0.890 total time=   0.9s\n",
      "[CV 3/5] END gamma=1, max_depth=12, n_estimators=200;, score=0.897 total time=   0.9s\n",
      "[CV 4/5] END gamma=1, max_depth=12, n_estimators=200;, score=0.849 total time=   0.9s\n",
      "[CV 5/5] END gamma=1, max_depth=12, n_estimators=200;, score=0.904 total time=   0.9s\n",
      "[CV 1/5] END gamma=1, max_depth=12, n_estimators=130;, score=0.882 total time=   0.6s\n",
      "[CV 2/5] END gamma=1, max_depth=12, n_estimators=130;, score=0.890 total time=   0.5s\n",
      "[CV 3/5] END gamma=1, max_depth=12, n_estimators=130;, score=0.897 total time=   0.6s\n",
      "[CV 4/5] END gamma=1, max_depth=12, n_estimators=130;, score=0.850 total time=   0.6s\n",
      "[CV 5/5] END gamma=1, max_depth=12, n_estimators=130;, score=0.904 total time=   0.6s\n",
      "[CV 1/5] END gamma=1, max_depth=12, n_estimators=150;, score=0.882 total time=   0.7s\n",
      "[CV 2/5] END gamma=1, max_depth=12, n_estimators=150;, score=0.890 total time=   0.7s\n",
      "[CV 3/5] END gamma=1, max_depth=12, n_estimators=150;, score=0.897 total time=   0.6s\n",
      "[CV 4/5] END gamma=1, max_depth=12, n_estimators=150;, score=0.849 total time=   0.6s\n",
      "[CV 5/5] END gamma=1, max_depth=12, n_estimators=150;, score=0.904 total time=   0.6s\n",
      "[CV 1/5] END gamma=1, max_depth=12, n_estimators=170;, score=0.882 total time=   0.7s\n",
      "[CV 2/5] END gamma=1, max_depth=12, n_estimators=170;, score=0.890 total time=   0.7s\n",
      "[CV 3/5] END gamma=1, max_depth=12, n_estimators=170;, score=0.897 total time=   0.7s\n",
      "[CV 4/5] END gamma=1, max_depth=12, n_estimators=170;, score=0.849 total time=   0.7s\n",
      "[CV 5/5] END gamma=1, max_depth=12, n_estimators=170;, score=0.904 total time=   0.7s\n",
      "[CV 1/5] END gamma=1, max_depth=12, n_estimators=180;, score=0.882 total time=   0.8s\n",
      "[CV 2/5] END gamma=1, max_depth=12, n_estimators=180;, score=0.890 total time=   0.7s\n",
      "[CV 3/5] END gamma=1, max_depth=12, n_estimators=180;, score=0.897 total time=   0.7s\n",
      "[CV 4/5] END gamma=1, max_depth=12, n_estimators=180;, score=0.849 total time=   0.8s\n",
      "[CV 5/5] END gamma=1, max_depth=12, n_estimators=180;, score=0.904 total time=   0.8s\n",
      "[CV 1/5] END gamma=1, max_depth=12, n_estimators=200;, score=0.882 total time=   0.9s\n",
      "[CV 2/5] END gamma=1, max_depth=12, n_estimators=200;, score=0.890 total time=   0.8s\n",
      "[CV 3/5] END gamma=1, max_depth=12, n_estimators=200;, score=0.897 total time=   0.9s\n",
      "[CV 4/5] END gamma=1, max_depth=12, n_estimators=200;, score=0.849 total time=   0.8s\n",
      "[CV 5/5] END gamma=1, max_depth=12, n_estimators=200;, score=0.904 total time=   0.9s\n",
      "[CV 1/5] END gamma=2, max_depth=8, n_estimators=100;, score=0.892 total time=   0.1s\n",
      "[CV 2/5] END gamma=2, max_depth=8, n_estimators=100;, score=0.894 total time=   0.1s\n",
      "[CV 3/5] END gamma=2, max_depth=8, n_estimators=100;, score=0.904 total time=   0.1s\n",
      "[CV 4/5] END gamma=2, max_depth=8, n_estimators=100;, score=0.854 total time=   0.1s\n",
      "[CV 5/5] END gamma=2, max_depth=8, n_estimators=100;, score=0.908 total time=   0.1s\n",
      "[CV 1/5] END gamma=2, max_depth=8, n_estimators=200;, score=0.890 total time=   0.4s\n",
      "[CV 2/5] END gamma=2, max_depth=8, n_estimators=200;, score=0.891 total time=   0.4s\n",
      "[CV 3/5] END gamma=2, max_depth=8, n_estimators=200;, score=0.901 total time=   0.4s\n",
      "[CV 4/5] END gamma=2, max_depth=8, n_estimators=200;, score=0.852 total time=   0.4s\n",
      "[CV 5/5] END gamma=2, max_depth=8, n_estimators=200;, score=0.907 total time=   0.4s\n",
      "[CV 1/5] END gamma=2, max_depth=8, n_estimators=130;, score=0.892 total time=   0.2s\n",
      "[CV 2/5] END gamma=2, max_depth=8, n_estimators=130;, score=0.893 total time=   0.2s\n",
      "[CV 3/5] END gamma=2, max_depth=8, n_estimators=130;, score=0.903 total time=   0.2s\n",
      "[CV 4/5] END gamma=2, max_depth=8, n_estimators=130;, score=0.853 total time=   0.2s\n",
      "[CV 5/5] END gamma=2, max_depth=8, n_estimators=130;, score=0.908 total time=   0.2s\n",
      "[CV 1/5] END gamma=2, max_depth=8, n_estimators=150;, score=0.891 total time=   0.3s\n",
      "[CV 2/5] END gamma=2, max_depth=8, n_estimators=150;, score=0.892 total time=   0.3s\n",
      "[CV 3/5] END gamma=2, max_depth=8, n_estimators=150;, score=0.903 total time=   0.3s\n",
      "[CV 4/5] END gamma=2, max_depth=8, n_estimators=150;, score=0.853 total time=   0.3s\n",
      "[CV 5/5] END gamma=2, max_depth=8, n_estimators=150;, score=0.908 total time=   0.3s\n",
      "[CV 1/5] END gamma=2, max_depth=8, n_estimators=170;, score=0.891 total time=   0.3s\n",
      "[CV 2/5] END gamma=2, max_depth=8, n_estimators=170;, score=0.892 total time=   0.3s\n",
      "[CV 3/5] END gamma=2, max_depth=8, n_estimators=170;, score=0.902 total time=   0.3s\n",
      "[CV 4/5] END gamma=2, max_depth=8, n_estimators=170;, score=0.853 total time=   0.3s\n",
      "[CV 5/5] END gamma=2, max_depth=8, n_estimators=170;, score=0.907 total time=   0.3s\n",
      "[CV 1/5] END gamma=2, max_depth=8, n_estimators=180;, score=0.891 total time=   0.3s\n",
      "[CV 2/5] END gamma=2, max_depth=8, n_estimators=180;, score=0.891 total time=   0.3s\n",
      "[CV 3/5] END gamma=2, max_depth=8, n_estimators=180;, score=0.902 total time=   0.3s\n",
      "[CV 4/5] END gamma=2, max_depth=8, n_estimators=180;, score=0.852 total time=   0.3s\n",
      "[CV 5/5] END gamma=2, max_depth=8, n_estimators=180;, score=0.907 total time=   0.3s\n",
      "[CV 1/5] END gamma=2, max_depth=8, n_estimators=200;, score=0.890 total time=   0.4s\n",
      "[CV 2/5] END gamma=2, max_depth=8, n_estimators=200;, score=0.891 total time=   0.4s\n",
      "[CV 3/5] END gamma=2, max_depth=8, n_estimators=200;, score=0.901 total time=   0.4s\n",
      "[CV 4/5] END gamma=2, max_depth=8, n_estimators=200;, score=0.852 total time=   0.4s\n"
     ]
    },
    {
     "name": "stdout",
     "output_type": "stream",
     "text": [
      "[CV 5/5] END gamma=2, max_depth=8, n_estimators=200;, score=0.907 total time=   0.5s\n",
      "[CV 1/5] END gamma=2, max_depth=9, n_estimators=100;, score=0.894 total time=   0.2s\n",
      "[CV 2/5] END gamma=2, max_depth=9, n_estimators=100;, score=0.892 total time=   0.2s\n",
      "[CV 3/5] END gamma=2, max_depth=9, n_estimators=100;, score=0.902 total time=   0.2s\n",
      "[CV 4/5] END gamma=2, max_depth=9, n_estimators=100;, score=0.862 total time=   0.2s\n",
      "[CV 5/5] END gamma=2, max_depth=9, n_estimators=100;, score=0.896 total time=   0.3s\n",
      "[CV 1/5] END gamma=2, max_depth=9, n_estimators=200;, score=0.891 total time=   0.5s\n",
      "[CV 2/5] END gamma=2, max_depth=9, n_estimators=200;, score=0.890 total time=   0.5s\n",
      "[CV 3/5] END gamma=2, max_depth=9, n_estimators=200;, score=0.899 total time=   0.5s\n",
      "[CV 4/5] END gamma=2, max_depth=9, n_estimators=200;, score=0.861 total time=   0.5s\n",
      "[CV 5/5] END gamma=2, max_depth=9, n_estimators=200;, score=0.894 total time=   0.5s\n",
      "[CV 1/5] END gamma=2, max_depth=9, n_estimators=130;, score=0.893 total time=   0.3s\n",
      "[CV 2/5] END gamma=2, max_depth=9, n_estimators=130;, score=0.891 total time=   0.3s\n",
      "[CV 3/5] END gamma=2, max_depth=9, n_estimators=130;, score=0.901 total time=   0.3s\n",
      "[CV 4/5] END gamma=2, max_depth=9, n_estimators=130;, score=0.862 total time=   0.3s\n",
      "[CV 5/5] END gamma=2, max_depth=9, n_estimators=130;, score=0.895 total time=   0.3s\n",
      "[CV 1/5] END gamma=2, max_depth=9, n_estimators=150;, score=0.893 total time=   0.3s\n",
      "[CV 2/5] END gamma=2, max_depth=9, n_estimators=150;, score=0.891 total time=   0.3s\n",
      "[CV 3/5] END gamma=2, max_depth=9, n_estimators=150;, score=0.900 total time=   0.3s\n",
      "[CV 4/5] END gamma=2, max_depth=9, n_estimators=150;, score=0.861 total time=   0.3s\n",
      "[CV 5/5] END gamma=2, max_depth=9, n_estimators=150;, score=0.894 total time=   0.3s\n",
      "[CV 1/5] END gamma=2, max_depth=9, n_estimators=170;, score=0.892 total time=   0.4s\n",
      "[CV 2/5] END gamma=2, max_depth=9, n_estimators=170;, score=0.890 total time=   0.4s\n",
      "[CV 3/5] END gamma=2, max_depth=9, n_estimators=170;, score=0.899 total time=   0.4s\n",
      "[CV 4/5] END gamma=2, max_depth=9, n_estimators=170;, score=0.861 total time=   0.4s\n",
      "[CV 5/5] END gamma=2, max_depth=9, n_estimators=170;, score=0.894 total time=   0.4s\n",
      "[CV 1/5] END gamma=2, max_depth=9, n_estimators=180;, score=0.892 total time=   0.4s\n",
      "[CV 2/5] END gamma=2, max_depth=9, n_estimators=180;, score=0.890 total time=   0.4s\n",
      "[CV 3/5] END gamma=2, max_depth=9, n_estimators=180;, score=0.899 total time=   0.4s\n",
      "[CV 4/5] END gamma=2, max_depth=9, n_estimators=180;, score=0.861 total time=   0.4s\n",
      "[CV 5/5] END gamma=2, max_depth=9, n_estimators=180;, score=0.894 total time=   0.4s\n",
      "[CV 1/5] END gamma=2, max_depth=9, n_estimators=200;, score=0.891 total time=   0.5s\n",
      "[CV 2/5] END gamma=2, max_depth=9, n_estimators=200;, score=0.890 total time=   0.5s\n",
      "[CV 3/5] END gamma=2, max_depth=9, n_estimators=200;, score=0.899 total time=   0.5s\n",
      "[CV 4/5] END gamma=2, max_depth=9, n_estimators=200;, score=0.861 total time=   0.5s\n",
      "[CV 5/5] END gamma=2, max_depth=9, n_estimators=200;, score=0.894 total time=   0.5s\n",
      "[CV 1/5] END gamma=2, max_depth=10, n_estimators=100;, score=0.889 total time=   0.2s\n",
      "[CV 2/5] END gamma=2, max_depth=10, n_estimators=100;, score=0.887 total time=   0.2s\n",
      "[CV 3/5] END gamma=2, max_depth=10, n_estimators=100;, score=0.897 total time=   0.2s\n",
      "[CV 4/5] END gamma=2, max_depth=10, n_estimators=100;, score=0.854 total time=   0.3s\n",
      "[CV 5/5] END gamma=2, max_depth=10, n_estimators=100;, score=0.905 total time=   0.2s\n",
      "[CV 1/5] END gamma=2, max_depth=10, n_estimators=200;, score=0.888 total time=   0.6s\n",
      "[CV 2/5] END gamma=2, max_depth=10, n_estimators=200;, score=0.886 total time=   0.6s\n",
      "[CV 3/5] END gamma=2, max_depth=10, n_estimators=200;, score=0.895 total time=   0.6s\n",
      "[CV 4/5] END gamma=2, max_depth=10, n_estimators=200;, score=0.853 total time=   0.6s\n",
      "[CV 5/5] END gamma=2, max_depth=10, n_estimators=200;, score=0.904 total time=   0.6s\n",
      "[CV 1/5] END gamma=2, max_depth=10, n_estimators=130;, score=0.889 total time=   0.4s\n",
      "[CV 2/5] END gamma=2, max_depth=10, n_estimators=130;, score=0.887 total time=   0.3s\n",
      "[CV 3/5] END gamma=2, max_depth=10, n_estimators=130;, score=0.896 total time=   0.3s\n",
      "[CV 4/5] END gamma=2, max_depth=10, n_estimators=130;, score=0.853 total time=   0.4s\n",
      "[CV 5/5] END gamma=2, max_depth=10, n_estimators=130;, score=0.905 total time=   0.3s\n",
      "[CV 1/5] END gamma=2, max_depth=10, n_estimators=150;, score=0.888 total time=   0.4s\n",
      "[CV 2/5] END gamma=2, max_depth=10, n_estimators=150;, score=0.887 total time=   0.4s\n",
      "[CV 3/5] END gamma=2, max_depth=10, n_estimators=150;, score=0.896 total time=   0.4s\n",
      "[CV 4/5] END gamma=2, max_depth=10, n_estimators=150;, score=0.853 total time=   0.5s\n",
      "[CV 5/5] END gamma=2, max_depth=10, n_estimators=150;, score=0.905 total time=   0.4s\n",
      "[CV 1/5] END gamma=2, max_depth=10, n_estimators=170;, score=0.888 total time=   0.5s\n",
      "[CV 2/5] END gamma=2, max_depth=10, n_estimators=170;, score=0.886 total time=   0.5s\n",
      "[CV 3/5] END gamma=2, max_depth=10, n_estimators=170;, score=0.896 total time=   0.5s\n",
      "[CV 4/5] END gamma=2, max_depth=10, n_estimators=170;, score=0.853 total time=   0.5s\n",
      "[CV 5/5] END gamma=2, max_depth=10, n_estimators=170;, score=0.904 total time=   0.5s\n",
      "[CV 1/5] END gamma=2, max_depth=10, n_estimators=180;, score=0.888 total time=   0.5s\n",
      "[CV 2/5] END gamma=2, max_depth=10, n_estimators=180;, score=0.886 total time=   0.5s\n",
      "[CV 3/5] END gamma=2, max_depth=10, n_estimators=180;, score=0.896 total time=   0.5s\n",
      "[CV 4/5] END gamma=2, max_depth=10, n_estimators=180;, score=0.853 total time=   0.5s\n",
      "[CV 5/5] END gamma=2, max_depth=10, n_estimators=180;, score=0.904 total time=   0.5s\n",
      "[CV 1/5] END gamma=2, max_depth=10, n_estimators=200;, score=0.888 total time=   0.6s\n",
      "[CV 2/5] END gamma=2, max_depth=10, n_estimators=200;, score=0.886 total time=   0.6s\n",
      "[CV 3/5] END gamma=2, max_depth=10, n_estimators=200;, score=0.895 total time=   0.6s\n",
      "[CV 4/5] END gamma=2, max_depth=10, n_estimators=200;, score=0.853 total time=   0.6s\n",
      "[CV 5/5] END gamma=2, max_depth=10, n_estimators=200;, score=0.904 total time=   0.6s\n",
      "[CV 1/5] END gamma=2, max_depth=11, n_estimators=100;, score=0.887 total time=   0.3s\n",
      "[CV 2/5] END gamma=2, max_depth=11, n_estimators=100;, score=0.894 total time=   0.3s\n",
      "[CV 3/5] END gamma=2, max_depth=11, n_estimators=100;, score=0.890 total time=   0.3s\n",
      "[CV 4/5] END gamma=2, max_depth=11, n_estimators=100;, score=0.850 total time=   0.3s\n",
      "[CV 5/5] END gamma=2, max_depth=11, n_estimators=100;, score=0.904 total time=   0.3s\n",
      "[CV 1/5] END gamma=2, max_depth=11, n_estimators=200;, score=0.887 total time=   0.7s\n",
      "[CV 2/5] END gamma=2, max_depth=11, n_estimators=200;, score=0.893 total time=   0.7s\n",
      "[CV 3/5] END gamma=2, max_depth=11, n_estimators=200;, score=0.889 total time=   0.7s\n",
      "[CV 4/5] END gamma=2, max_depth=11, n_estimators=200;, score=0.850 total time=   0.7s\n",
      "[CV 5/5] END gamma=2, max_depth=11, n_estimators=200;, score=0.903 total time=   0.7s\n",
      "[CV 1/5] END gamma=2, max_depth=11, n_estimators=130;, score=0.887 total time=   0.4s\n",
      "[CV 2/5] END gamma=2, max_depth=11, n_estimators=130;, score=0.893 total time=   0.4s\n",
      "[CV 3/5] END gamma=2, max_depth=11, n_estimators=130;, score=0.890 total time=   0.4s\n",
      "[CV 4/5] END gamma=2, max_depth=11, n_estimators=130;, score=0.850 total time=   0.4s\n",
      "[CV 5/5] END gamma=2, max_depth=11, n_estimators=130;, score=0.904 total time=   0.5s\n",
      "[CV 1/5] END gamma=2, max_depth=11, n_estimators=150;, score=0.887 total time=   0.6s\n",
      "[CV 2/5] END gamma=2, max_depth=11, n_estimators=150;, score=0.893 total time=   0.5s\n",
      "[CV 3/5] END gamma=2, max_depth=11, n_estimators=150;, score=0.889 total time=   0.5s\n",
      "[CV 4/5] END gamma=2, max_depth=11, n_estimators=150;, score=0.850 total time=   0.5s\n",
      "[CV 5/5] END gamma=2, max_depth=11, n_estimators=150;, score=0.903 total time=   0.5s\n",
      "[CV 1/5] END gamma=2, max_depth=11, n_estimators=170;, score=0.887 total time=   0.6s\n",
      "[CV 2/5] END gamma=2, max_depth=11, n_estimators=170;, score=0.893 total time=   0.6s\n",
      "[CV 3/5] END gamma=2, max_depth=11, n_estimators=170;, score=0.889 total time=   0.6s\n",
      "[CV 4/5] END gamma=2, max_depth=11, n_estimators=170;, score=0.850 total time=   0.7s\n",
      "[CV 5/5] END gamma=2, max_depth=11, n_estimators=170;, score=0.903 total time=   0.6s\n"
     ]
    },
    {
     "name": "stdout",
     "output_type": "stream",
     "text": [
      "[CV 1/5] END gamma=2, max_depth=11, n_estimators=180;, score=0.887 total time=   0.7s\n",
      "[CV 2/5] END gamma=2, max_depth=11, n_estimators=180;, score=0.893 total time=   0.7s\n",
      "[CV 3/5] END gamma=2, max_depth=11, n_estimators=180;, score=0.889 total time=   0.7s\n",
      "[CV 4/5] END gamma=2, max_depth=11, n_estimators=180;, score=0.850 total time=   0.7s\n",
      "[CV 5/5] END gamma=2, max_depth=11, n_estimators=180;, score=0.903 total time=   0.6s\n",
      "[CV 1/5] END gamma=2, max_depth=11, n_estimators=200;, score=0.887 total time=   0.7s\n",
      "[CV 2/5] END gamma=2, max_depth=11, n_estimators=200;, score=0.893 total time=   0.8s\n",
      "[CV 3/5] END gamma=2, max_depth=11, n_estimators=200;, score=0.889 total time=   0.8s\n",
      "[CV 4/5] END gamma=2, max_depth=11, n_estimators=200;, score=0.850 total time=   0.9s\n",
      "[CV 5/5] END gamma=2, max_depth=11, n_estimators=200;, score=0.903 total time=   0.7s\n",
      "[CV 1/5] END gamma=2, max_depth=12, n_estimators=100;, score=0.883 total time=   0.5s\n",
      "[CV 2/5] END gamma=2, max_depth=12, n_estimators=100;, score=0.890 total time=   0.4s\n",
      "[CV 3/5] END gamma=2, max_depth=12, n_estimators=100;, score=0.897 total time=   0.4s\n",
      "[CV 4/5] END gamma=2, max_depth=12, n_estimators=100;, score=0.849 total time=   0.4s\n",
      "[CV 5/5] END gamma=2, max_depth=12, n_estimators=100;, score=0.904 total time=   0.4s\n",
      "[CV 1/5] END gamma=2, max_depth=12, n_estimators=200;, score=0.882 total time=   0.9s\n",
      "[CV 2/5] END gamma=2, max_depth=12, n_estimators=200;, score=0.890 total time=   1.0s\n",
      "[CV 3/5] END gamma=2, max_depth=12, n_estimators=200;, score=0.897 total time=   0.9s\n",
      "[CV 4/5] END gamma=2, max_depth=12, n_estimators=200;, score=0.849 total time=   0.9s\n",
      "[CV 5/5] END gamma=2, max_depth=12, n_estimators=200;, score=0.903 total time=   0.9s\n",
      "[CV 1/5] END gamma=2, max_depth=12, n_estimators=130;, score=0.883 total time=   0.6s\n",
      "[CV 2/5] END gamma=2, max_depth=12, n_estimators=130;, score=0.890 total time=   0.5s\n",
      "[CV 3/5] END gamma=2, max_depth=12, n_estimators=130;, score=0.897 total time=   0.6s\n",
      "[CV 4/5] END gamma=2, max_depth=12, n_estimators=130;, score=0.849 total time=   0.5s\n",
      "[CV 5/5] END gamma=2, max_depth=12, n_estimators=130;, score=0.903 total time=   0.6s\n",
      "[CV 1/5] END gamma=2, max_depth=12, n_estimators=150;, score=0.883 total time=   0.6s\n",
      "[CV 2/5] END gamma=2, max_depth=12, n_estimators=150;, score=0.890 total time=   0.6s\n",
      "[CV 3/5] END gamma=2, max_depth=12, n_estimators=150;, score=0.897 total time=   0.6s\n",
      "[CV 4/5] END gamma=2, max_depth=12, n_estimators=150;, score=0.849 total time=   0.6s\n",
      "[CV 5/5] END gamma=2, max_depth=12, n_estimators=150;, score=0.903 total time=   0.6s\n",
      "[CV 1/5] END gamma=2, max_depth=12, n_estimators=170;, score=0.882 total time=   0.7s\n",
      "[CV 2/5] END gamma=2, max_depth=12, n_estimators=170;, score=0.890 total time=   0.7s\n",
      "[CV 3/5] END gamma=2, max_depth=12, n_estimators=170;, score=0.897 total time=   0.7s\n",
      "[CV 4/5] END gamma=2, max_depth=12, n_estimators=170;, score=0.849 total time=   0.7s\n",
      "[CV 5/5] END gamma=2, max_depth=12, n_estimators=170;, score=0.903 total time=   0.7s\n",
      "[CV 1/5] END gamma=2, max_depth=12, n_estimators=180;, score=0.882 total time=   0.8s\n",
      "[CV 2/5] END gamma=2, max_depth=12, n_estimators=180;, score=0.890 total time=   0.8s\n",
      "[CV 3/5] END gamma=2, max_depth=12, n_estimators=180;, score=0.897 total time=   0.8s\n",
      "[CV 4/5] END gamma=2, max_depth=12, n_estimators=180;, score=0.849 total time=   0.7s\n",
      "[CV 5/5] END gamma=2, max_depth=12, n_estimators=180;, score=0.903 total time=   0.8s\n",
      "[CV 1/5] END gamma=2, max_depth=12, n_estimators=200;, score=0.882 total time=   0.9s\n",
      "[CV 2/5] END gamma=2, max_depth=12, n_estimators=200;, score=0.890 total time=   0.9s\n",
      "[CV 3/5] END gamma=2, max_depth=12, n_estimators=200;, score=0.897 total time=   0.9s\n",
      "[CV 4/5] END gamma=2, max_depth=12, n_estimators=200;, score=0.849 total time=   1.0s\n",
      "[CV 5/5] END gamma=2, max_depth=12, n_estimators=200;, score=0.903 total time=   1.0s\n"
     ]
    },
    {
     "data": {
      "text/plain": [
       "GridSearchCV(cv=5,\n",
       "             estimator=XGBRegressor(base_score=None, booster=None,\n",
       "                                    callbacks=None, colsample_bylevel=None,\n",
       "                                    colsample_bynode=None,\n",
       "                                    colsample_bytree=None,\n",
       "                                    early_stopping_rounds=None,\n",
       "                                    enable_categorical=False, eval_metric=None,\n",
       "                                    feature_types=None, gamma=None, gpu_id=None,\n",
       "                                    grow_policy=None, importance_type=None,\n",
       "                                    interaction_constraints=None,\n",
       "                                    learning_rate=None, m...\n",
       "                                    max_cat_threshold=None,\n",
       "                                    max_cat_to_onehot=None, max_delta_step=None,\n",
       "                                    max_depth=None, max_leaves=None,\n",
       "                                    min_child_weight=None, missing=nan,\n",
       "                                    monotone_constraints=None, n_estimators=100,\n",
       "                                    n_jobs=None, num_parallel_tree=None,\n",
       "                                    predictor=None, random_state=None, ...),\n",
       "             param_grid={'gamma': [0, 1, 2], 'max_depth': [8, 9, 10, 11, 12],\n",
       "                         'n_estimators': [100, 200, 130, 150, 170, 180, 200]},\n",
       "             scoring='r2', verbose=3)"
      ]
     },
     "execution_count": 530,
     "metadata": {},
     "output_type": "execute_result"
    }
   ],
   "source": [
    "gscv.fit(x_train,y_train)"
   ]
  },
  {
   "cell_type": "code",
   "execution_count": 531,
   "id": "305e2926",
   "metadata": {},
   "outputs": [
    {
     "data": {
      "text/plain": [
       "0.8901974613052095"
      ]
     },
     "execution_count": 531,
     "metadata": {},
     "output_type": "execute_result"
    }
   ],
   "source": [
    "gscv.best_score_"
   ]
  },
  {
   "cell_type": "code",
   "execution_count": 532,
   "id": "c1df8537",
   "metadata": {},
   "outputs": [
    {
     "data": {
      "text/plain": [
       "{'gamma': 2, 'max_depth': 8, 'n_estimators': 100}"
      ]
     },
     "execution_count": 532,
     "metadata": {},
     "output_type": "execute_result"
    }
   ],
   "source": [
    "gscv.best_params_"
   ]
  },
  {
   "cell_type": "code",
   "execution_count": 533,
   "id": "e88136fb",
   "metadata": {},
   "outputs": [
    {
     "name": "stdout",
     "output_type": "stream",
     "text": [
      "R2 0.8917202203863678\n",
      "MSE 2408479.4980993345\n",
      "RMSE 1551.9276716713748\n",
      "MAPE 0.08059081055490643\n",
      "Hack Score 0.9432453423604535\n",
      "Do you want to save the model?y\n"
     ]
    }
   ],
   "source": [
    "model_evaluation(XGBRegressor(n_estimators=100,max_depth=8,gamma=2),x_train,y_train,x_test,y_test)"
   ]
  },
  {
   "cell_type": "code",
   "execution_count": 534,
   "id": "cd90a2b7",
   "metadata": {},
   "outputs": [
    {
     "data": {
      "text/html": [
       "<div>\n",
       "<style scoped>\n",
       "    .dataframe tbody tr th:only-of-type {\n",
       "        vertical-align: middle;\n",
       "    }\n",
       "\n",
       "    .dataframe tbody tr th {\n",
       "        vertical-align: top;\n",
       "    }\n",
       "\n",
       "    .dataframe thead th {\n",
       "        text-align: right;\n",
       "    }\n",
       "</style>\n",
       "<table border=\"1\" class=\"dataframe\">\n",
       "  <thead>\n",
       "    <tr style=\"text-align: right;\">\n",
       "      <th></th>\n",
       "      <th>Model</th>\n",
       "      <th>R2</th>\n",
       "      <th>MSE</th>\n",
       "      <th>RMSE</th>\n",
       "      <th>MAPE</th>\n",
       "      <th>Hackathon score</th>\n",
       "    </tr>\n",
       "  </thead>\n",
       "  <tbody>\n",
       "    <tr>\n",
       "      <th>0</th>\n",
       "      <td>LinearRegression()</td>\n",
       "      <td>0.496057</td>\n",
       "      <td>1.120927e+07</td>\n",
       "      <td>3348.024435</td>\n",
       "      <td>0.271723</td>\n",
       "      <td>0.852278</td>\n",
       "    </tr>\n",
       "    <tr>\n",
       "      <th>1</th>\n",
       "      <td>Lasso(alpha=1)</td>\n",
       "      <td>0.496089</td>\n",
       "      <td>1.120855e+07</td>\n",
       "      <td>3347.916743</td>\n",
       "      <td>0.271647</td>\n",
       "      <td>0.839422</td>\n",
       "    </tr>\n",
       "    <tr>\n",
       "      <th>2</th>\n",
       "      <td>DecisionTreeRegressor(max_depth=5)</td>\n",
       "      <td>0.618895</td>\n",
       "      <td>8.476972e+06</td>\n",
       "      <td>2911.524036</td>\n",
       "      <td>0.204219</td>\n",
       "      <td>0.886502</td>\n",
       "    </tr>\n",
       "    <tr>\n",
       "      <th>3</th>\n",
       "      <td>DecisionTreeRegressor(max_depth=9)</td>\n",
       "      <td>0.785069</td>\n",
       "      <td>4.780731e+06</td>\n",
       "      <td>2186.488328</td>\n",
       "      <td>0.127541</td>\n",
       "      <td>0.918124</td>\n",
       "    </tr>\n",
       "    <tr>\n",
       "      <th>4</th>\n",
       "      <td>RandomForestRegressor(max_depth=5)</td>\n",
       "      <td>0.676602</td>\n",
       "      <td>7.193388e+06</td>\n",
       "      <td>2682.049236</td>\n",
       "      <td>0.188221</td>\n",
       "      <td>0.894819</td>\n",
       "    </tr>\n",
       "    <tr>\n",
       "      <th>5</th>\n",
       "      <td>RandomForestRegressor(max_depth=9)</td>\n",
       "      <td>0.834130</td>\n",
       "      <td>3.689459e+06</td>\n",
       "      <td>1920.796541</td>\n",
       "      <td>0.108818</td>\n",
       "      <td>0.930527</td>\n",
       "    </tr>\n",
       "    <tr>\n",
       "      <th>6</th>\n",
       "      <td>RandomForestRegressor(max_depth=10)</td>\n",
       "      <td>0.844612</td>\n",
       "      <td>3.456307e+06</td>\n",
       "      <td>1859.114652</td>\n",
       "      <td>0.099724</td>\n",
       "      <td>0.933757</td>\n",
       "    </tr>\n",
       "    <tr>\n",
       "      <th>7</th>\n",
       "      <td>AdaBoostRegressor(base_estimator=RandomForestR...</td>\n",
       "      <td>0.461110</td>\n",
       "      <td>1.198659e+07</td>\n",
       "      <td>3462.164966</td>\n",
       "      <td>0.373383</td>\n",
       "      <td>0.833523</td>\n",
       "    </tr>\n",
       "    <tr>\n",
       "      <th>8</th>\n",
       "      <td>GradientBoostingRegressor(max_depth=7, n_estim...</td>\n",
       "      <td>0.883257</td>\n",
       "      <td>2.596718e+06</td>\n",
       "      <td>1611.433482</td>\n",
       "      <td>0.089365</td>\n",
       "      <td>0.940909</td>\n",
       "    </tr>\n",
       "    <tr>\n",
       "      <th>9</th>\n",
       "      <td>XGBRegressor(base_score=None, booster=None, ca...</td>\n",
       "      <td>0.891031</td>\n",
       "      <td>2.423812e+06</td>\n",
       "      <td>1556.859764</td>\n",
       "      <td>0.080602</td>\n",
       "      <td>0.942688</td>\n",
       "    </tr>\n",
       "    <tr>\n",
       "      <th>10</th>\n",
       "      <td>VotingRegressor(estimators=[('Dt', DecisionTre...</td>\n",
       "      <td>0.869205</td>\n",
       "      <td>2.909290e+06</td>\n",
       "      <td>1705.664193</td>\n",
       "      <td>0.091577</td>\n",
       "      <td>0.938809</td>\n",
       "    </tr>\n",
       "    <tr>\n",
       "      <th>11</th>\n",
       "      <td>StackingRegressor(estimators=[('Dt', DecisionT...</td>\n",
       "      <td>0.888754</td>\n",
       "      <td>2.474462e+06</td>\n",
       "      <td>1573.042173</td>\n",
       "      <td>0.080044</td>\n",
       "      <td>0.943586</td>\n",
       "    </tr>\n",
       "    <tr>\n",
       "      <th>12</th>\n",
       "      <td>XGBRegressor(base_score=None, booster=None, ca...</td>\n",
       "      <td>0.891720</td>\n",
       "      <td>2.408479e+06</td>\n",
       "      <td>1551.927672</td>\n",
       "      <td>0.080591</td>\n",
       "      <td>0.943245</td>\n",
       "    </tr>\n",
       "  </tbody>\n",
       "</table>\n",
       "</div>"
      ],
      "text/plain": [
       "                                                Model        R2           MSE  \\\n",
       "0                                  LinearRegression()  0.496057  1.120927e+07   \n",
       "1                                      Lasso(alpha=1)  0.496089  1.120855e+07   \n",
       "2                  DecisionTreeRegressor(max_depth=5)  0.618895  8.476972e+06   \n",
       "3                  DecisionTreeRegressor(max_depth=9)  0.785069  4.780731e+06   \n",
       "4                  RandomForestRegressor(max_depth=5)  0.676602  7.193388e+06   \n",
       "5                  RandomForestRegressor(max_depth=9)  0.834130  3.689459e+06   \n",
       "6                 RandomForestRegressor(max_depth=10)  0.844612  3.456307e+06   \n",
       "7   AdaBoostRegressor(base_estimator=RandomForestR...  0.461110  1.198659e+07   \n",
       "8   GradientBoostingRegressor(max_depth=7, n_estim...  0.883257  2.596718e+06   \n",
       "9   XGBRegressor(base_score=None, booster=None, ca...  0.891031  2.423812e+06   \n",
       "10  VotingRegressor(estimators=[('Dt', DecisionTre...  0.869205  2.909290e+06   \n",
       "11  StackingRegressor(estimators=[('Dt', DecisionT...  0.888754  2.474462e+06   \n",
       "12  XGBRegressor(base_score=None, booster=None, ca...  0.891720  2.408479e+06   \n",
       "\n",
       "           RMSE      MAPE  Hackathon score  \n",
       "0   3348.024435  0.271723         0.852278  \n",
       "1   3347.916743  0.271647         0.839422  \n",
       "2   2911.524036  0.204219         0.886502  \n",
       "3   2186.488328  0.127541         0.918124  \n",
       "4   2682.049236  0.188221         0.894819  \n",
       "5   1920.796541  0.108818         0.930527  \n",
       "6   1859.114652  0.099724         0.933757  \n",
       "7   3462.164966  0.373383         0.833523  \n",
       "8   1611.433482  0.089365         0.940909  \n",
       "9   1556.859764  0.080602         0.942688  \n",
       "10  1705.664193  0.091577         0.938809  \n",
       "11  1573.042173  0.080044         0.943586  \n",
       "12  1551.927672  0.080591         0.943245  "
      ]
     },
     "execution_count": 534,
     "metadata": {},
     "output_type": "execute_result"
    }
   ],
   "source": [
    "score_card"
   ]
  },
  {
   "cell_type": "markdown",
   "id": "2780ca8c",
   "metadata": {},
   "source": [
    "## Hackathon submission"
   ]
  },
  {
   "cell_type": "code",
   "execution_count": 536,
   "id": "cebb8fcc",
   "metadata": {},
   "outputs": [
    {
     "data": {
      "text/html": [
       "<div>\n",
       "<style scoped>\n",
       "    .dataframe tbody tr th:only-of-type {\n",
       "        vertical-align: middle;\n",
       "    }\n",
       "\n",
       "    .dataframe tbody tr th {\n",
       "        vertical-align: top;\n",
       "    }\n",
       "\n",
       "    .dataframe thead th {\n",
       "        text-align: right;\n",
       "    }\n",
       "</style>\n",
       "<table border=\"1\" class=\"dataframe\">\n",
       "  <thead>\n",
       "    <tr style=\"text-align: right;\">\n",
       "      <th></th>\n",
       "      <th>Price</th>\n",
       "    </tr>\n",
       "  </thead>\n",
       "  <tbody>\n",
       "    <tr>\n",
       "      <th>0</th>\n",
       "      <td>15998</td>\n",
       "    </tr>\n",
       "    <tr>\n",
       "      <th>1</th>\n",
       "      <td>16612</td>\n",
       "    </tr>\n",
       "    <tr>\n",
       "      <th>2</th>\n",
       "      <td>25572</td>\n",
       "    </tr>\n",
       "    <tr>\n",
       "      <th>3</th>\n",
       "      <td>25778</td>\n",
       "    </tr>\n",
       "    <tr>\n",
       "      <th>4</th>\n",
       "      <td>16934</td>\n",
       "    </tr>\n",
       "    <tr>\n",
       "      <th>...</th>\n",
       "      <td>...</td>\n",
       "    </tr>\n",
       "    <tr>\n",
       "      <th>2666</th>\n",
       "      <td>14046</td>\n",
       "    </tr>\n",
       "    <tr>\n",
       "      <th>2667</th>\n",
       "      <td>14086</td>\n",
       "    </tr>\n",
       "    <tr>\n",
       "      <th>2668</th>\n",
       "      <td>22720</td>\n",
       "    </tr>\n",
       "    <tr>\n",
       "      <th>2669</th>\n",
       "      <td>23544</td>\n",
       "    </tr>\n",
       "    <tr>\n",
       "      <th>2670</th>\n",
       "      <td>27489</td>\n",
       "    </tr>\n",
       "  </tbody>\n",
       "</table>\n",
       "<p>2671 rows × 1 columns</p>\n",
       "</div>"
      ],
      "text/plain": [
       "      Price\n",
       "0     15998\n",
       "1     16612\n",
       "2     25572\n",
       "3     25778\n",
       "4     16934\n",
       "...     ...\n",
       "2666  14046\n",
       "2667  14086\n",
       "2668  22720\n",
       "2669  23544\n",
       "2670  27489\n",
       "\n",
       "[2671 rows x 1 columns]"
      ]
     },
     "execution_count": 536,
     "metadata": {},
     "output_type": "execute_result"
    }
   ],
   "source": [
    "data_submission"
   ]
  },
  {
   "cell_type": "code",
   "execution_count": 541,
   "id": "bc204357",
   "metadata": {},
   "outputs": [],
   "source": [
    "final_model = XGBRegressor(n_estimators=100,max_depth=8,gamma=2)"
   ]
  },
  {
   "cell_type": "code",
   "execution_count": 542,
   "id": "beafc823",
   "metadata": {},
   "outputs": [
    {
     "data": {
      "text/plain": [
       "XGBRegressor(base_score=None, booster=None, callbacks=None,\n",
       "             colsample_bylevel=None, colsample_bynode=None,\n",
       "             colsample_bytree=None, early_stopping_rounds=None,\n",
       "             enable_categorical=False, eval_metric=None, feature_types=None,\n",
       "             gamma=2, gpu_id=None, grow_policy=None, importance_type=None,\n",
       "             interaction_constraints=None, learning_rate=None, max_bin=None,\n",
       "             max_cat_threshold=None, max_cat_to_onehot=None,\n",
       "             max_delta_step=None, max_depth=8, max_leaves=None,\n",
       "             min_child_weight=None, missing=nan, monotone_constraints=None,\n",
       "             n_estimators=100, n_jobs=None, num_parallel_tree=None,\n",
       "             predictor=None, random_state=None, ...)"
      ]
     },
     "execution_count": 542,
     "metadata": {},
     "output_type": "execute_result"
    }
   ],
   "source": [
    "final_model.fit(x,y)"
   ]
  },
  {
   "cell_type": "code",
   "execution_count": 543,
   "id": "a4b965ba",
   "metadata": {},
   "outputs": [],
   "source": [
    "final_pred = final_model.predict(test_set)"
   ]
  },
  {
   "cell_type": "code",
   "execution_count": 544,
   "id": "94a8b506",
   "metadata": {},
   "outputs": [
    {
     "data": {
      "text/plain": [
       "array([14109.626 ,  4194.5244, 13044.336 , ..., 16360.684 , 13996.449 ,\n",
       "        8073.106 ], dtype=float32)"
      ]
     },
     "execution_count": 544,
     "metadata": {},
     "output_type": "execute_result"
    }
   ],
   "source": [
    "final_pred"
   ]
  },
  {
   "cell_type": "code",
   "execution_count": 545,
   "id": "fae2de57",
   "metadata": {},
   "outputs": [
    {
     "data": {
      "text/plain": [
       "2671"
      ]
     },
     "execution_count": 545,
     "metadata": {},
     "output_type": "execute_result"
    }
   ],
   "source": [
    "len(final_pred)"
   ]
  },
  {
   "cell_type": "code",
   "execution_count": 551,
   "id": "6a812cf2",
   "metadata": {},
   "outputs": [],
   "source": [
    "final_submission = pd.DataFrame({'Price':final_pred})"
   ]
  },
  {
   "cell_type": "code",
   "execution_count": 552,
   "id": "900e7172",
   "metadata": {},
   "outputs": [],
   "source": [
    "final_submission.to_csv('final_submission.csv',index=False)"
   ]
  }
 ],
 "metadata": {
  "kernelspec": {
   "display_name": "Python 3 (ipykernel)",
   "language": "python",
   "name": "python3"
  },
  "language_info": {
   "codemirror_mode": {
    "name": "ipython",
    "version": 3
   },
   "file_extension": ".py",
   "mimetype": "text/x-python",
   "name": "python",
   "nbconvert_exporter": "python",
   "pygments_lexer": "ipython3",
   "version": "3.9.12"
  }
 },
 "nbformat": 4,
 "nbformat_minor": 5
}
